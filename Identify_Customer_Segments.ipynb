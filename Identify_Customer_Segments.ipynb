{
 "cells": [
  {
   "cell_type": "markdown",
   "metadata": {},
   "source": [
    "# Project: Identify Customer Segments\n",
    "\n",
    "In this project, you will apply unsupervised learning techniques to identify segments of the population that form the core customer base for a mail-order sales company in Germany. These segments can then be used to direct marketing campaigns towards audiences that will have the highest expected rate of returns. The data that you will use has been provided by our partners at Bertelsmann Arvato Analytics, and represents a real-life data science task.\n",
    "\n",
    "This notebook will help you complete this task by providing a framework within which you will perform your analysis steps. In each step of the project, you will see some text describing the subtask that you will perform, followed by one or more code cells for you to complete your work. **Feel free to add additional code and markdown cells as you go along so that you can explore everything in precise chunks.** The code cells provided in the base template will outline only the major tasks, and will usually not be enough to cover all of the minor tasks that comprise it.\n",
    "\n",
    "It should be noted that while there will be precise guidelines on how you should handle certain tasks in the project, there will also be places where an exact specification is not provided. **There will be times in the project where you will need to make and justify your own decisions on how to treat the data.** These are places where there may not be only one way to handle the data. In real-life tasks, there may be many valid ways to approach an analysis task. One of the most important things you can do is clearly document your approach so that other scientists can understand the decisions you've made.\n",
    "\n",
    "At the end of most sections, there will be a Markdown cell labeled **Discussion**. In these cells, you will report your findings for the completed section, as well as document the decisions that you made in your approach to each subtask. **Your project will be evaluated not just on the code used to complete the tasks outlined, but also your communication about your observations and conclusions at each stage.**"
   ]
  },
  {
   "cell_type": "code",
   "execution_count": 1,
   "metadata": {},
   "outputs": [],
   "source": [
    "# import libraries here; add more as necessary\n",
    "import numpy as np\n",
    "import pandas as pd\n",
    "import matplotlib.pyplot as plt\n",
    "import seaborn as sns\n",
    "\n",
    "import copy\n",
    "\n",
    "# magic word for producing visualizations in notebook\n",
    "%matplotlib inline"
   ]
  },
  {
   "cell_type": "markdown",
   "metadata": {},
   "source": [
    "### Step 0: Load the Data\n",
    "\n",
    "There are four files associated with this project (not including this one):\n",
    "\n",
    "- `Udacity_AZDIAS_Subset.csv`: Demographics data for the general population of Germany; 891211 persons (rows) x 85 features (columns).\n",
    "- `Udacity_CUSTOMERS_Subset.csv`: Demographics data for customers of a mail-order company; 191652 persons (rows) x 85 features (columns).\n",
    "- `Data_Dictionary.md`: Detailed information file about the features in the provided datasets.\n",
    "- `AZDIAS_Feature_Summary.csv`: Summary of feature attributes for demographics data; 85 features (rows) x 4 columns\n",
    "\n",
    "Each row of the demographics files represents a single person, but also includes information outside of individuals, including information about their household, building, and neighborhood. You will use this information to cluster the general population into groups with similar demographic properties. Then, you will see how the people in the customers dataset fit into those created clusters. The hope here is that certain clusters are over-represented in the customers data, as compared to the general population; those over-represented clusters will be assumed to be part of the core userbase. This information can then be used for further applications, such as targeting for a marketing campaign.\n",
    "\n",
    "To start off with, load in the demographics data for the general population into a pandas DataFrame, and do the same for the feature attributes summary. Note for all of the `.csv` data files in this project: they're semicolon (`;`) delimited, so you'll need an additional argument in your [`read_csv()`](https://pandas.pydata.org/pandas-docs/stable/generated/pandas.read_csv.html) call to read in the data properly. Also, considering the size of the main dataset, it may take some time for it to load completely.\n",
    "\n",
    "Once the dataset is loaded, it's recommended that you take a little bit of time just browsing the general structure of the dataset and feature summary file. You'll be getting deep into the innards of the cleaning in the first major step of the project, so gaining some general familiarity can help you get your bearings."
   ]
  },
  {
   "cell_type": "code",
   "execution_count": 2,
   "metadata": {},
   "outputs": [],
   "source": [
    "# Load in the general demographics data.\n",
    "azdias = pd.read_csv(\"Udacity_AZDIAS_Subset.csv\", delimiter = \";\")\n",
    "\n",
    "# Load in the feature summary file.\n",
    "feat_info = pd.read_csv(\"AZDIAS_Feature_Summary.csv\", delimiter = \";\")"
   ]
  },
  {
   "cell_type": "code",
   "execution_count": 3,
   "metadata": {},
   "outputs": [
    {
     "name": "stdout",
     "output_type": "stream",
     "text": [
      "(891221, 85)\n"
     ]
    }
   ],
   "source": [
    "# Check the structure of the data after it's loaded (e.g. print the number of\n",
    "# rows and columns, print the first few rows).\n",
    "print (azdias.shape)"
   ]
  },
  {
   "cell_type": "code",
   "execution_count": 4,
   "metadata": {},
   "outputs": [
    {
     "data": {
      "text/html": [
       "<div>\n",
       "<style>\n",
       "    .dataframe thead tr:only-child th {\n",
       "        text-align: right;\n",
       "    }\n",
       "\n",
       "    .dataframe thead th {\n",
       "        text-align: left;\n",
       "    }\n",
       "\n",
       "    .dataframe tbody tr th {\n",
       "        vertical-align: top;\n",
       "    }\n",
       "</style>\n",
       "<table border=\"1\" class=\"dataframe\">\n",
       "  <thead>\n",
       "    <tr style=\"text-align: right;\">\n",
       "      <th></th>\n",
       "      <th>AGER_TYP</th>\n",
       "      <th>ALTERSKATEGORIE_GROB</th>\n",
       "      <th>ANREDE_KZ</th>\n",
       "      <th>CJT_GESAMTTYP</th>\n",
       "      <th>FINANZ_MINIMALIST</th>\n",
       "      <th>FINANZ_SPARER</th>\n",
       "      <th>FINANZ_VORSORGER</th>\n",
       "      <th>FINANZ_ANLEGER</th>\n",
       "      <th>FINANZ_UNAUFFAELLIGER</th>\n",
       "      <th>FINANZ_HAUSBAUER</th>\n",
       "      <th>FINANZTYP</th>\n",
       "      <th>GEBURTSJAHR</th>\n",
       "      <th>GFK_URLAUBERTYP</th>\n",
       "      <th>GREEN_AVANTGARDE</th>\n",
       "      <th>HEALTH_TYP</th>\n",
       "      <th>LP_LEBENSPHASE_FEIN</th>\n",
       "      <th>LP_LEBENSPHASE_GROB</th>\n",
       "      <th>LP_FAMILIE_FEIN</th>\n",
       "      <th>LP_FAMILIE_GROB</th>\n",
       "      <th>LP_STATUS_FEIN</th>\n",
       "    </tr>\n",
       "  </thead>\n",
       "  <tbody>\n",
       "    <tr>\n",
       "      <th>0</th>\n",
       "      <td>-1</td>\n",
       "      <td>2</td>\n",
       "      <td>1</td>\n",
       "      <td>2.0</td>\n",
       "      <td>3</td>\n",
       "      <td>4</td>\n",
       "      <td>3</td>\n",
       "      <td>5</td>\n",
       "      <td>5</td>\n",
       "      <td>3</td>\n",
       "      <td>4</td>\n",
       "      <td>0</td>\n",
       "      <td>10.0</td>\n",
       "      <td>0</td>\n",
       "      <td>-1</td>\n",
       "      <td>15.0</td>\n",
       "      <td>4.0</td>\n",
       "      <td>2.0</td>\n",
       "      <td>2.0</td>\n",
       "      <td>1.0</td>\n",
       "    </tr>\n",
       "    <tr>\n",
       "      <th>1</th>\n",
       "      <td>-1</td>\n",
       "      <td>1</td>\n",
       "      <td>2</td>\n",
       "      <td>5.0</td>\n",
       "      <td>1</td>\n",
       "      <td>5</td>\n",
       "      <td>2</td>\n",
       "      <td>5</td>\n",
       "      <td>4</td>\n",
       "      <td>5</td>\n",
       "      <td>1</td>\n",
       "      <td>1996</td>\n",
       "      <td>10.0</td>\n",
       "      <td>0</td>\n",
       "      <td>3</td>\n",
       "      <td>21.0</td>\n",
       "      <td>6.0</td>\n",
       "      <td>5.0</td>\n",
       "      <td>3.0</td>\n",
       "      <td>2.0</td>\n",
       "    </tr>\n",
       "    <tr>\n",
       "      <th>2</th>\n",
       "      <td>-1</td>\n",
       "      <td>3</td>\n",
       "      <td>2</td>\n",
       "      <td>3.0</td>\n",
       "      <td>1</td>\n",
       "      <td>4</td>\n",
       "      <td>1</td>\n",
       "      <td>2</td>\n",
       "      <td>3</td>\n",
       "      <td>5</td>\n",
       "      <td>1</td>\n",
       "      <td>1979</td>\n",
       "      <td>10.0</td>\n",
       "      <td>1</td>\n",
       "      <td>3</td>\n",
       "      <td>3.0</td>\n",
       "      <td>1.0</td>\n",
       "      <td>1.0</td>\n",
       "      <td>1.0</td>\n",
       "      <td>3.0</td>\n",
       "    </tr>\n",
       "  </tbody>\n",
       "</table>\n",
       "</div>"
      ],
      "text/plain": [
       "   AGER_TYP  ALTERSKATEGORIE_GROB  ANREDE_KZ  CJT_GESAMTTYP  \\\n",
       "0        -1                     2          1            2.0   \n",
       "1        -1                     1          2            5.0   \n",
       "2        -1                     3          2            3.0   \n",
       "\n",
       "   FINANZ_MINIMALIST  FINANZ_SPARER  FINANZ_VORSORGER  FINANZ_ANLEGER  \\\n",
       "0                  3              4                 3               5   \n",
       "1                  1              5                 2               5   \n",
       "2                  1              4                 1               2   \n",
       "\n",
       "   FINANZ_UNAUFFAELLIGER  FINANZ_HAUSBAUER  FINANZTYP  GEBURTSJAHR  \\\n",
       "0                      5                 3          4            0   \n",
       "1                      4                 5          1         1996   \n",
       "2                      3                 5          1         1979   \n",
       "\n",
       "   GFK_URLAUBERTYP  GREEN_AVANTGARDE  HEALTH_TYP  LP_LEBENSPHASE_FEIN  \\\n",
       "0             10.0                 0          -1                 15.0   \n",
       "1             10.0                 0           3                 21.0   \n",
       "2             10.0                 1           3                  3.0   \n",
       "\n",
       "   LP_LEBENSPHASE_GROB  LP_FAMILIE_FEIN  LP_FAMILIE_GROB  LP_STATUS_FEIN  \n",
       "0                  4.0              2.0              2.0             1.0  \n",
       "1                  6.0              5.0              3.0             2.0  \n",
       "2                  1.0              1.0              1.0             3.0  "
      ]
     },
     "execution_count": 4,
     "metadata": {},
     "output_type": "execute_result"
    }
   ],
   "source": [
    "azdias.head(3).iloc[:, :20]"
   ]
  },
  {
   "cell_type": "code",
   "execution_count": 5,
   "metadata": {},
   "outputs": [
    {
     "data": {
      "text/html": [
       "<div>\n",
       "<style>\n",
       "    .dataframe thead tr:only-child th {\n",
       "        text-align: right;\n",
       "    }\n",
       "\n",
       "    .dataframe thead th {\n",
       "        text-align: left;\n",
       "    }\n",
       "\n",
       "    .dataframe tbody tr th {\n",
       "        vertical-align: top;\n",
       "    }\n",
       "</style>\n",
       "<table border=\"1\" class=\"dataframe\">\n",
       "  <thead>\n",
       "    <tr style=\"text-align: right;\">\n",
       "      <th></th>\n",
       "      <th>NATIONALITAET_KZ</th>\n",
       "      <th>PRAEGENDE_JUGENDJAHRE</th>\n",
       "      <th>RETOURTYP_BK_S</th>\n",
       "      <th>SEMIO_SOZ</th>\n",
       "      <th>SEMIO_FAM</th>\n",
       "      <th>SEMIO_REL</th>\n",
       "      <th>SEMIO_MAT</th>\n",
       "      <th>SEMIO_VERT</th>\n",
       "      <th>SEMIO_LUST</th>\n",
       "      <th>SEMIO_ERL</th>\n",
       "      <th>SEMIO_KULT</th>\n",
       "      <th>SEMIO_RAT</th>\n",
       "      <th>SEMIO_KRIT</th>\n",
       "      <th>SEMIO_DOM</th>\n",
       "      <th>SEMIO_KAEM</th>\n",
       "      <th>SEMIO_PFLICHT</th>\n",
       "      <th>SEMIO_TRADV</th>\n",
       "      <th>SHOPPER_TYP</th>\n",
       "      <th>SOHO_KZ</th>\n",
       "    </tr>\n",
       "  </thead>\n",
       "  <tbody>\n",
       "    <tr>\n",
       "      <th>0</th>\n",
       "      <td>0</td>\n",
       "      <td>0</td>\n",
       "      <td>5.0</td>\n",
       "      <td>2</td>\n",
       "      <td>6</td>\n",
       "      <td>7</td>\n",
       "      <td>5</td>\n",
       "      <td>1</td>\n",
       "      <td>5</td>\n",
       "      <td>3</td>\n",
       "      <td>3</td>\n",
       "      <td>4</td>\n",
       "      <td>7</td>\n",
       "      <td>6</td>\n",
       "      <td>6</td>\n",
       "      <td>5</td>\n",
       "      <td>3</td>\n",
       "      <td>-1</td>\n",
       "      <td>NaN</td>\n",
       "    </tr>\n",
       "    <tr>\n",
       "      <th>1</th>\n",
       "      <td>1</td>\n",
       "      <td>14</td>\n",
       "      <td>1.0</td>\n",
       "      <td>5</td>\n",
       "      <td>4</td>\n",
       "      <td>4</td>\n",
       "      <td>3</td>\n",
       "      <td>1</td>\n",
       "      <td>2</td>\n",
       "      <td>2</td>\n",
       "      <td>3</td>\n",
       "      <td>6</td>\n",
       "      <td>4</td>\n",
       "      <td>7</td>\n",
       "      <td>4</td>\n",
       "      <td>7</td>\n",
       "      <td>6</td>\n",
       "      <td>3</td>\n",
       "      <td>1.0</td>\n",
       "    </tr>\n",
       "    <tr>\n",
       "      <th>2</th>\n",
       "      <td>1</td>\n",
       "      <td>15</td>\n",
       "      <td>3.0</td>\n",
       "      <td>4</td>\n",
       "      <td>1</td>\n",
       "      <td>3</td>\n",
       "      <td>3</td>\n",
       "      <td>4</td>\n",
       "      <td>4</td>\n",
       "      <td>6</td>\n",
       "      <td>3</td>\n",
       "      <td>4</td>\n",
       "      <td>7</td>\n",
       "      <td>7</td>\n",
       "      <td>7</td>\n",
       "      <td>3</td>\n",
       "      <td>3</td>\n",
       "      <td>2</td>\n",
       "      <td>0.0</td>\n",
       "    </tr>\n",
       "  </tbody>\n",
       "</table>\n",
       "</div>"
      ],
      "text/plain": [
       "   NATIONALITAET_KZ  PRAEGENDE_JUGENDJAHRE  RETOURTYP_BK_S  SEMIO_SOZ  \\\n",
       "0                 0                      0             5.0          2   \n",
       "1                 1                     14             1.0          5   \n",
       "2                 1                     15             3.0          4   \n",
       "\n",
       "   SEMIO_FAM  SEMIO_REL  SEMIO_MAT  SEMIO_VERT  SEMIO_LUST  SEMIO_ERL  \\\n",
       "0          6          7          5           1           5          3   \n",
       "1          4          4          3           1           2          2   \n",
       "2          1          3          3           4           4          6   \n",
       "\n",
       "   SEMIO_KULT  SEMIO_RAT  SEMIO_KRIT  SEMIO_DOM  SEMIO_KAEM  SEMIO_PFLICHT  \\\n",
       "0           3          4           7          6           6              5   \n",
       "1           3          6           4          7           4              7   \n",
       "2           3          4           7          7           7              3   \n",
       "\n",
       "   SEMIO_TRADV  SHOPPER_TYP  SOHO_KZ  \n",
       "0            3           -1      NaN  \n",
       "1            6            3      1.0  \n",
       "2            3            2      0.0  "
      ]
     },
     "execution_count": 5,
     "metadata": {},
     "output_type": "execute_result"
    }
   ],
   "source": [
    "azdias.head(3).iloc[:, 21:40]"
   ]
  },
  {
   "cell_type": "code",
   "execution_count": 6,
   "metadata": {},
   "outputs": [
    {
     "data": {
      "text/html": [
       "<div>\n",
       "<style>\n",
       "    .dataframe thead tr:only-child th {\n",
       "        text-align: right;\n",
       "    }\n",
       "\n",
       "    .dataframe thead th {\n",
       "        text-align: left;\n",
       "    }\n",
       "\n",
       "    .dataframe tbody tr th {\n",
       "        vertical-align: top;\n",
       "    }\n",
       "</style>\n",
       "<table border=\"1\" class=\"dataframe\">\n",
       "  <thead>\n",
       "    <tr style=\"text-align: right;\">\n",
       "      <th></th>\n",
       "      <th>VERS_TYP</th>\n",
       "      <th>ZABEOTYP</th>\n",
       "      <th>ALTER_HH</th>\n",
       "      <th>ANZ_PERSONEN</th>\n",
       "      <th>ANZ_TITEL</th>\n",
       "      <th>HH_EINKOMMEN_SCORE</th>\n",
       "      <th>KK_KUNDENTYP</th>\n",
       "      <th>W_KEIT_KIND_HH</th>\n",
       "      <th>WOHNDAUER_2008</th>\n",
       "      <th>ANZ_HAUSHALTE_AKTIV</th>\n",
       "      <th>ANZ_HH_TITEL</th>\n",
       "      <th>GEBAEUDETYP</th>\n",
       "      <th>KONSUMNAEHE</th>\n",
       "      <th>MIN_GEBAEUDEJAHR</th>\n",
       "      <th>OST_WEST_KZ</th>\n",
       "      <th>WOHNLAGE</th>\n",
       "      <th>CAMEO_DEUG_2015</th>\n",
       "      <th>CAMEO_DEU_2015</th>\n",
       "      <th>CAMEO_INTL_2015</th>\n",
       "    </tr>\n",
       "  </thead>\n",
       "  <tbody>\n",
       "    <tr>\n",
       "      <th>0</th>\n",
       "      <td>-1</td>\n",
       "      <td>3</td>\n",
       "      <td>NaN</td>\n",
       "      <td>NaN</td>\n",
       "      <td>NaN</td>\n",
       "      <td>2.0</td>\n",
       "      <td>NaN</td>\n",
       "      <td>NaN</td>\n",
       "      <td>NaN</td>\n",
       "      <td>NaN</td>\n",
       "      <td>NaN</td>\n",
       "      <td>NaN</td>\n",
       "      <td>NaN</td>\n",
       "      <td>NaN</td>\n",
       "      <td>NaN</td>\n",
       "      <td>NaN</td>\n",
       "      <td>NaN</td>\n",
       "      <td>NaN</td>\n",
       "      <td>NaN</td>\n",
       "    </tr>\n",
       "    <tr>\n",
       "      <th>1</th>\n",
       "      <td>2</td>\n",
       "      <td>5</td>\n",
       "      <td>0.0</td>\n",
       "      <td>2.0</td>\n",
       "      <td>0.0</td>\n",
       "      <td>6.0</td>\n",
       "      <td>NaN</td>\n",
       "      <td>3.0</td>\n",
       "      <td>9.0</td>\n",
       "      <td>11.0</td>\n",
       "      <td>0.0</td>\n",
       "      <td>8.0</td>\n",
       "      <td>1.0</td>\n",
       "      <td>1992.0</td>\n",
       "      <td>W</td>\n",
       "      <td>4.0</td>\n",
       "      <td>8</td>\n",
       "      <td>8A</td>\n",
       "      <td>51</td>\n",
       "    </tr>\n",
       "    <tr>\n",
       "      <th>2</th>\n",
       "      <td>1</td>\n",
       "      <td>5</td>\n",
       "      <td>17.0</td>\n",
       "      <td>1.0</td>\n",
       "      <td>0.0</td>\n",
       "      <td>4.0</td>\n",
       "      <td>NaN</td>\n",
       "      <td>3.0</td>\n",
       "      <td>9.0</td>\n",
       "      <td>10.0</td>\n",
       "      <td>0.0</td>\n",
       "      <td>1.0</td>\n",
       "      <td>5.0</td>\n",
       "      <td>1992.0</td>\n",
       "      <td>W</td>\n",
       "      <td>2.0</td>\n",
       "      <td>4</td>\n",
       "      <td>4C</td>\n",
       "      <td>24</td>\n",
       "    </tr>\n",
       "  </tbody>\n",
       "</table>\n",
       "</div>"
      ],
      "text/plain": [
       "   VERS_TYP  ZABEOTYP  ALTER_HH  ANZ_PERSONEN  ANZ_TITEL  HH_EINKOMMEN_SCORE  \\\n",
       "0        -1         3       NaN           NaN        NaN                 2.0   \n",
       "1         2         5       0.0           2.0        0.0                 6.0   \n",
       "2         1         5      17.0           1.0        0.0                 4.0   \n",
       "\n",
       "   KK_KUNDENTYP  W_KEIT_KIND_HH  WOHNDAUER_2008  ANZ_HAUSHALTE_AKTIV  \\\n",
       "0           NaN             NaN             NaN                  NaN   \n",
       "1           NaN             3.0             9.0                 11.0   \n",
       "2           NaN             3.0             9.0                 10.0   \n",
       "\n",
       "   ANZ_HH_TITEL  GEBAEUDETYP  KONSUMNAEHE  MIN_GEBAEUDEJAHR OST_WEST_KZ  \\\n",
       "0           NaN          NaN          NaN               NaN         NaN   \n",
       "1           0.0          8.0          1.0            1992.0           W   \n",
       "2           0.0          1.0          5.0            1992.0           W   \n",
       "\n",
       "   WOHNLAGE CAMEO_DEUG_2015 CAMEO_DEU_2015 CAMEO_INTL_2015  \n",
       "0       NaN             NaN            NaN             NaN  \n",
       "1       4.0               8             8A              51  \n",
       "2       2.0               4             4C              24  "
      ]
     },
     "execution_count": 6,
     "metadata": {},
     "output_type": "execute_result"
    }
   ],
   "source": [
    "azdias.head(3).iloc[:, 41:60]"
   ]
  },
  {
   "cell_type": "code",
   "execution_count": 7,
   "metadata": {},
   "outputs": [
    {
     "data": {
      "text/html": [
       "<div>\n",
       "<style>\n",
       "    .dataframe thead tr:only-child th {\n",
       "        text-align: right;\n",
       "    }\n",
       "\n",
       "    .dataframe thead th {\n",
       "        text-align: left;\n",
       "    }\n",
       "\n",
       "    .dataframe tbody tr th {\n",
       "        vertical-align: top;\n",
       "    }\n",
       "</style>\n",
       "<table border=\"1\" class=\"dataframe\">\n",
       "  <thead>\n",
       "    <tr style=\"text-align: right;\">\n",
       "      <th></th>\n",
       "      <th>KBA05_ANTG2</th>\n",
       "      <th>KBA05_ANTG3</th>\n",
       "      <th>KBA05_ANTG4</th>\n",
       "      <th>KBA05_BAUMAX</th>\n",
       "      <th>KBA05_GBZ</th>\n",
       "      <th>BALLRAUM</th>\n",
       "      <th>EWDICHTE</th>\n",
       "      <th>INNENSTADT</th>\n",
       "      <th>GEBAEUDETYP_RASTER</th>\n",
       "      <th>KKK</th>\n",
       "      <th>MOBI_REGIO</th>\n",
       "      <th>ONLINE_AFFINITAET</th>\n",
       "      <th>REGIOTYP</th>\n",
       "      <th>KBA13_ANZAHL_PKW</th>\n",
       "      <th>PLZ8_ANTG1</th>\n",
       "      <th>PLZ8_ANTG2</th>\n",
       "      <th>PLZ8_ANTG3</th>\n",
       "      <th>PLZ8_ANTG4</th>\n",
       "      <th>PLZ8_BAUMAX</th>\n",
       "    </tr>\n",
       "  </thead>\n",
       "  <tbody>\n",
       "    <tr>\n",
       "      <th>0</th>\n",
       "      <td>NaN</td>\n",
       "      <td>NaN</td>\n",
       "      <td>NaN</td>\n",
       "      <td>NaN</td>\n",
       "      <td>NaN</td>\n",
       "      <td>NaN</td>\n",
       "      <td>NaN</td>\n",
       "      <td>NaN</td>\n",
       "      <td>NaN</td>\n",
       "      <td>NaN</td>\n",
       "      <td>NaN</td>\n",
       "      <td>1.0</td>\n",
       "      <td>NaN</td>\n",
       "      <td>NaN</td>\n",
       "      <td>NaN</td>\n",
       "      <td>NaN</td>\n",
       "      <td>NaN</td>\n",
       "      <td>NaN</td>\n",
       "      <td>NaN</td>\n",
       "    </tr>\n",
       "    <tr>\n",
       "      <th>1</th>\n",
       "      <td>0.0</td>\n",
       "      <td>0.0</td>\n",
       "      <td>2.0</td>\n",
       "      <td>5.0</td>\n",
       "      <td>1.0</td>\n",
       "      <td>6.0</td>\n",
       "      <td>3.0</td>\n",
       "      <td>8.0</td>\n",
       "      <td>3.0</td>\n",
       "      <td>2.0</td>\n",
       "      <td>1.0</td>\n",
       "      <td>3.0</td>\n",
       "      <td>3.0</td>\n",
       "      <td>963.0</td>\n",
       "      <td>2.0</td>\n",
       "      <td>3.0</td>\n",
       "      <td>2.0</td>\n",
       "      <td>1.0</td>\n",
       "      <td>1.0</td>\n",
       "    </tr>\n",
       "    <tr>\n",
       "      <th>2</th>\n",
       "      <td>3.0</td>\n",
       "      <td>1.0</td>\n",
       "      <td>0.0</td>\n",
       "      <td>0.0</td>\n",
       "      <td>3.0</td>\n",
       "      <td>2.0</td>\n",
       "      <td>4.0</td>\n",
       "      <td>4.0</td>\n",
       "      <td>4.0</td>\n",
       "      <td>2.0</td>\n",
       "      <td>3.0</td>\n",
       "      <td>2.0</td>\n",
       "      <td>2.0</td>\n",
       "      <td>712.0</td>\n",
       "      <td>3.0</td>\n",
       "      <td>3.0</td>\n",
       "      <td>1.0</td>\n",
       "      <td>0.0</td>\n",
       "      <td>1.0</td>\n",
       "    </tr>\n",
       "  </tbody>\n",
       "</table>\n",
       "</div>"
      ],
      "text/plain": [
       "   KBA05_ANTG2  KBA05_ANTG3  KBA05_ANTG4  KBA05_BAUMAX  KBA05_GBZ  BALLRAUM  \\\n",
       "0          NaN          NaN          NaN           NaN        NaN       NaN   \n",
       "1          0.0          0.0          2.0           5.0        1.0       6.0   \n",
       "2          3.0          1.0          0.0           0.0        3.0       2.0   \n",
       "\n",
       "   EWDICHTE  INNENSTADT  GEBAEUDETYP_RASTER  KKK  MOBI_REGIO  \\\n",
       "0       NaN         NaN                 NaN  NaN         NaN   \n",
       "1       3.0         8.0                 3.0  2.0         1.0   \n",
       "2       4.0         4.0                 4.0  2.0         3.0   \n",
       "\n",
       "   ONLINE_AFFINITAET  REGIOTYP  KBA13_ANZAHL_PKW  PLZ8_ANTG1  PLZ8_ANTG2  \\\n",
       "0                1.0       NaN               NaN         NaN         NaN   \n",
       "1                3.0       3.0             963.0         2.0         3.0   \n",
       "2                2.0       2.0             712.0         3.0         3.0   \n",
       "\n",
       "   PLZ8_ANTG3  PLZ8_ANTG4  PLZ8_BAUMAX  \n",
       "0         NaN         NaN          NaN  \n",
       "1         2.0         1.0          1.0  \n",
       "2         1.0         0.0          1.0  "
      ]
     },
     "execution_count": 7,
     "metadata": {},
     "output_type": "execute_result"
    }
   ],
   "source": [
    "azdias.head(3).iloc[:, 61:80]"
   ]
  },
  {
   "cell_type": "code",
   "execution_count": 8,
   "metadata": {},
   "outputs": [
    {
     "data": {
      "text/html": [
       "<div>\n",
       "<style>\n",
       "    .dataframe thead tr:only-child th {\n",
       "        text-align: right;\n",
       "    }\n",
       "\n",
       "    .dataframe thead th {\n",
       "        text-align: left;\n",
       "    }\n",
       "\n",
       "    .dataframe tbody tr th {\n",
       "        vertical-align: top;\n",
       "    }\n",
       "</style>\n",
       "<table border=\"1\" class=\"dataframe\">\n",
       "  <thead>\n",
       "    <tr style=\"text-align: right;\">\n",
       "      <th></th>\n",
       "      <th>PLZ8_GBZ</th>\n",
       "      <th>ARBEIT</th>\n",
       "      <th>ORTSGR_KLS9</th>\n",
       "      <th>RELAT_AB</th>\n",
       "    </tr>\n",
       "  </thead>\n",
       "  <tbody>\n",
       "    <tr>\n",
       "      <th>0</th>\n",
       "      <td>NaN</td>\n",
       "      <td>NaN</td>\n",
       "      <td>NaN</td>\n",
       "      <td>NaN</td>\n",
       "    </tr>\n",
       "    <tr>\n",
       "      <th>1</th>\n",
       "      <td>4.0</td>\n",
       "      <td>3.0</td>\n",
       "      <td>5.0</td>\n",
       "      <td>4.0</td>\n",
       "    </tr>\n",
       "    <tr>\n",
       "      <th>2</th>\n",
       "      <td>4.0</td>\n",
       "      <td>3.0</td>\n",
       "      <td>5.0</td>\n",
       "      <td>2.0</td>\n",
       "    </tr>\n",
       "  </tbody>\n",
       "</table>\n",
       "</div>"
      ],
      "text/plain": [
       "   PLZ8_GBZ  ARBEIT  ORTSGR_KLS9  RELAT_AB\n",
       "0       NaN     NaN          NaN       NaN\n",
       "1       4.0     3.0          5.0       4.0\n",
       "2       4.0     3.0          5.0       2.0"
      ]
     },
     "execution_count": 8,
     "metadata": {},
     "output_type": "execute_result"
    }
   ],
   "source": [
    "azdias.head(3).iloc[:, 81:]"
   ]
  },
  {
   "cell_type": "code",
   "execution_count": 9,
   "metadata": {
    "scrolled": true
   },
   "outputs": [
    {
     "name": "stdout",
     "output_type": "stream",
     "text": [
      "Total Number of Null Values in azdiaz:  4896838\n",
      "Percentage in All Values in azdias:  6.46% \n",
      "\n",
      "Number of Features having Any Null Values:  53\n",
      "Number of Features having All No-Null Values:  32 \n",
      "\n"
     ]
    }
   ],
   "source": [
    "print (\"Total Number of Null Values in azdiaz: \", azdias.isnull().sum().sum())\n",
    "print (\"Percentage in All Values in azdias: \", \n",
    "       \"{:.2%}\".format(azdias.isnull().sum().sum()/azdias.shape[0]/azdias.shape[1]), \"\\n\")\n",
    "\n",
    "\n",
    "print (\"Number of Features having Any Null Values: \", len(np.where(azdias.isnull().sum() > 0)[0]))\n",
    "print (\"Number of Features having All No-Null Values: \", len(np.where(azdias.isnull().sum() == 0)[0]), \"\\n\")"
   ]
  },
  {
   "cell_type": "code",
   "execution_count": null,
   "metadata": {},
   "outputs": [],
   "source": []
  },
  {
   "cell_type": "markdown",
   "metadata": {},
   "source": [
    "> **Tip**: Add additional cells to keep everything in reasonably-sized chunks! Keyboard shortcut `esc --> a` (press escape to enter command mode, then press the 'A' key) adds a new cell before the active cell, and `esc --> b` adds a new cell after the active cell. If you need to convert an active cell to a markdown cell, use `esc --> m` and to convert to a code cell, use `esc --> y`. \n",
    "\n",
    "## Step 1: Preprocessing\n",
    "\n",
    "### Step 1.1: Assess Missing Data\n",
    "\n",
    "The feature summary file contains a summary of properties for each demographics data column. You will use this file to help you make cleaning decisions during this stage of the project. First of all, you should assess the demographics data in terms of missing data. Pay attention to the following points as you perform your analysis, and take notes on what you observe. Make sure that you fill in the **Discussion** cell with your findings and decisions at the end of each step that has one!\n",
    "\n",
    "#### Step 1.1.1: Convert Missing Value Codes to NaNs\n",
    "The fourth column of the feature attributes summary (loaded in above as `feat_info`) documents the codes from the data dictionary that indicate missing or unknown data. While the file encodes this as a list (e.g. `[-1,0]`), this will get read in as a string object. You'll need to do a little bit of parsing to make use of it to identify and clean the data. Convert data that matches a 'missing' or 'unknown' value code into a numpy NaN value. You might want to see how much data takes on a 'missing' or 'unknown' code, and how much data is naturally missing, as a point of interest.\n",
    "\n",
    "**As one more reminder, you are encouraged to add additional cells to break up your analysis into manageable chunks.**"
   ]
  },
  {
   "cell_type": "code",
   "execution_count": 10,
   "metadata": {},
   "outputs": [],
   "source": [
    "# Identify missing or unknown data values and convert them to NaNs."
   ]
  },
  {
   "cell_type": "code",
   "execution_count": 11,
   "metadata": {},
   "outputs": [],
   "source": [
    "feat_info.set_index(\"attribute\", inplace = True)"
   ]
  },
  {
   "cell_type": "code",
   "execution_count": 12,
   "metadata": {},
   "outputs": [
    {
     "data": {
      "text/plain": [
       "0"
      ]
     },
     "execution_count": 12,
     "metadata": {},
     "output_type": "execute_result"
    }
   ],
   "source": [
    "(feat_info.index != azdias.columns).sum()"
   ]
  },
  {
   "cell_type": "code",
   "execution_count": 13,
   "metadata": {},
   "outputs": [
    {
     "data": {
      "text/html": [
       "<div>\n",
       "<style>\n",
       "    .dataframe thead tr:only-child th {\n",
       "        text-align: right;\n",
       "    }\n",
       "\n",
       "    .dataframe thead th {\n",
       "        text-align: left;\n",
       "    }\n",
       "\n",
       "    .dataframe tbody tr th {\n",
       "        vertical-align: top;\n",
       "    }\n",
       "</style>\n",
       "<table border=\"1\" class=\"dataframe\">\n",
       "  <thead>\n",
       "    <tr style=\"text-align: right;\">\n",
       "      <th></th>\n",
       "      <th>information_level</th>\n",
       "      <th>type</th>\n",
       "      <th>missing_or_unknown</th>\n",
       "    </tr>\n",
       "    <tr>\n",
       "      <th>attribute</th>\n",
       "      <th></th>\n",
       "      <th></th>\n",
       "      <th></th>\n",
       "    </tr>\n",
       "  </thead>\n",
       "  <tbody>\n",
       "    <tr>\n",
       "      <th>AGER_TYP</th>\n",
       "      <td>person</td>\n",
       "      <td>categorical</td>\n",
       "      <td>[-1,0]</td>\n",
       "    </tr>\n",
       "    <tr>\n",
       "      <th>ALTERSKATEGORIE_GROB</th>\n",
       "      <td>person</td>\n",
       "      <td>ordinal</td>\n",
       "      <td>[-1,0,9]</td>\n",
       "    </tr>\n",
       "    <tr>\n",
       "      <th>ANREDE_KZ</th>\n",
       "      <td>person</td>\n",
       "      <td>categorical</td>\n",
       "      <td>[-1,0]</td>\n",
       "    </tr>\n",
       "  </tbody>\n",
       "</table>\n",
       "</div>"
      ],
      "text/plain": [
       "                     information_level         type missing_or_unknown\n",
       "attribute                                                             \n",
       "AGER_TYP                        person  categorical             [-1,0]\n",
       "ALTERSKATEGORIE_GROB            person      ordinal           [-1,0,9]\n",
       "ANREDE_KZ                       person  categorical             [-1,0]"
      ]
     },
     "execution_count": 13,
     "metadata": {},
     "output_type": "execute_result"
    }
   ],
   "source": [
    "feat_info.head(3)"
   ]
  },
  {
   "cell_type": "code",
   "execution_count": 14,
   "metadata": {},
   "outputs": [
    {
     "data": {
      "text/plain": [
       "str"
      ]
     },
     "execution_count": 14,
     "metadata": {},
     "output_type": "execute_result"
    }
   ],
   "source": [
    "type(feat_info.loc[\"AGER_TYP\", \"missing_or_unknown\"])"
   ]
  },
  {
   "cell_type": "code",
   "execution_count": 15,
   "metadata": {},
   "outputs": [
    {
     "data": {
      "text/plain": [
       "[-1]        26\n",
       "[-1,9]      17\n",
       "[-1,0]      16\n",
       "[0]         12\n",
       "[]          10\n",
       "[XX]         1\n",
       "[-1,X]       1\n",
       "[-1,XX]      1\n",
       "[-1,0,9]     1\n",
       "Name: missing_or_unknown, dtype: int64"
      ]
     },
     "execution_count": 15,
     "metadata": {},
     "output_type": "execute_result"
    }
   ],
   "source": [
    "feat_info[\"missing_or_unknown\"].value_counts()"
   ]
  },
  {
   "cell_type": "code",
   "execution_count": 16,
   "metadata": {},
   "outputs": [
    {
     "data": {
      "text/html": [
       "<div>\n",
       "<style>\n",
       "    .dataframe thead tr:only-child th {\n",
       "        text-align: right;\n",
       "    }\n",
       "\n",
       "    .dataframe thead th {\n",
       "        text-align: left;\n",
       "    }\n",
       "\n",
       "    .dataframe tbody tr th {\n",
       "        vertical-align: top;\n",
       "    }\n",
       "</style>\n",
       "<table border=\"1\" class=\"dataframe\">\n",
       "  <thead>\n",
       "    <tr style=\"text-align: right;\">\n",
       "      <th></th>\n",
       "      <th>information_level</th>\n",
       "      <th>type</th>\n",
       "      <th>missing_or_unknown</th>\n",
       "    </tr>\n",
       "    <tr>\n",
       "      <th>attribute</th>\n",
       "      <th></th>\n",
       "      <th></th>\n",
       "      <th></th>\n",
       "    </tr>\n",
       "  </thead>\n",
       "  <tbody>\n",
       "    <tr>\n",
       "      <th>CAMEO_INTL_2015</th>\n",
       "      <td>microcell_rr4</td>\n",
       "      <td>mixed</td>\n",
       "      <td>[-1,XX]</td>\n",
       "    </tr>\n",
       "  </tbody>\n",
       "</table>\n",
       "</div>"
      ],
      "text/plain": [
       "                information_level   type missing_or_unknown\n",
       "attribute                                                  \n",
       "CAMEO_INTL_2015     microcell_rr4  mixed            [-1,XX]"
      ]
     },
     "execution_count": 16,
     "metadata": {},
     "output_type": "execute_result"
    }
   ],
   "source": [
    "feat_info.query('missing_or_unknown == \"[-1,XX]\"')"
   ]
  },
  {
   "cell_type": "code",
   "execution_count": 17,
   "metadata": {},
   "outputs": [
    {
     "data": {
      "text/plain": [
       "-1    677503\n",
       " 2     98472\n",
       " 1     79802\n",
       " 3     27104\n",
       " 0      8340\n",
       "Name: AGER_TYP, dtype: int64"
      ]
     },
     "execution_count": 17,
     "metadata": {},
     "output_type": "execute_result"
    }
   ],
   "source": [
    "azdias[\"AGER_TYP\"].value_counts()"
   ]
  },
  {
   "cell_type": "code",
   "execution_count": 18,
   "metadata": {},
   "outputs": [
    {
     "data": {
      "text/html": [
       "<div>\n",
       "<style>\n",
       "    .dataframe thead tr:only-child th {\n",
       "        text-align: right;\n",
       "    }\n",
       "\n",
       "    .dataframe thead th {\n",
       "        text-align: left;\n",
       "    }\n",
       "\n",
       "    .dataframe tbody tr th {\n",
       "        vertical-align: top;\n",
       "    }\n",
       "</style>\n",
       "<table border=\"1\" class=\"dataframe\">\n",
       "  <thead>\n",
       "    <tr style=\"text-align: right;\">\n",
       "      <th></th>\n",
       "      <th>CAMEO_INTL_2015</th>\n",
       "    </tr>\n",
       "  </thead>\n",
       "  <tbody>\n",
       "    <tr>\n",
       "      <th>2511</th>\n",
       "      <td>XX</td>\n",
       "    </tr>\n",
       "  </tbody>\n",
       "</table>\n",
       "</div>"
      ],
      "text/plain": [
       "     CAMEO_INTL_2015\n",
       "2511              XX"
      ]
     },
     "execution_count": 18,
     "metadata": {},
     "output_type": "execute_result"
    }
   ],
   "source": [
    "azdias[azdias[\"CAMEO_INTL_2015\"] == \"XX\"].head(1)[[\"CAMEO_INTL_2015\"]]"
   ]
  },
  {
   "cell_type": "code",
   "execution_count": 19,
   "metadata": {},
   "outputs": [
    {
     "data": {
      "text/html": [
       "<div>\n",
       "<style>\n",
       "    .dataframe thead tr:only-child th {\n",
       "        text-align: right;\n",
       "    }\n",
       "\n",
       "    .dataframe thead th {\n",
       "        text-align: left;\n",
       "    }\n",
       "\n",
       "    .dataframe tbody tr th {\n",
       "        vertical-align: top;\n",
       "    }\n",
       "</style>\n",
       "<table border=\"1\" class=\"dataframe\">\n",
       "  <thead>\n",
       "    <tr style=\"text-align: right;\">\n",
       "      <th></th>\n",
       "      <th>col_0</th>\n",
       "      <th>col_1</th>\n",
       "      <th>col_2</th>\n",
       "    </tr>\n",
       "    <tr>\n",
       "      <th>attribute</th>\n",
       "      <th></th>\n",
       "      <th></th>\n",
       "      <th></th>\n",
       "    </tr>\n",
       "  </thead>\n",
       "  <tbody>\n",
       "    <tr>\n",
       "      <th>AGER_TYP</th>\n",
       "      <td>-1</td>\n",
       "      <td>0</td>\n",
       "      <td>None</td>\n",
       "    </tr>\n",
       "    <tr>\n",
       "      <th>ALTERSKATEGORIE_GROB</th>\n",
       "      <td>-1</td>\n",
       "      <td>0</td>\n",
       "      <td>9</td>\n",
       "    </tr>\n",
       "    <tr>\n",
       "      <th>ANREDE_KZ</th>\n",
       "      <td>-1</td>\n",
       "      <td>0</td>\n",
       "      <td>None</td>\n",
       "    </tr>\n",
       "    <tr>\n",
       "      <th>CJT_GESAMTTYP</th>\n",
       "      <td>0</td>\n",
       "      <td>None</td>\n",
       "      <td>None</td>\n",
       "    </tr>\n",
       "    <tr>\n",
       "      <th>FINANZ_MINIMALIST</th>\n",
       "      <td>-1</td>\n",
       "      <td>None</td>\n",
       "      <td>None</td>\n",
       "    </tr>\n",
       "  </tbody>\n",
       "</table>\n",
       "</div>"
      ],
      "text/plain": [
       "                     col_0 col_1 col_2\n",
       "attribute                             \n",
       "AGER_TYP                -1     0  None\n",
       "ALTERSKATEGORIE_GROB    -1     0     9\n",
       "ANREDE_KZ               -1     0  None\n",
       "CJT_GESAMTTYP            0  None  None\n",
       "FINANZ_MINIMALIST       -1  None  None"
      ]
     },
     "execution_count": 19,
     "metadata": {},
     "output_type": "execute_result"
    }
   ],
   "source": [
    "feat_info.missing_or_unknown.str.strip('[').str.strip(']').str.split(',', expand = True).head()\\\n",
    ".rename(columns = lambda x: \"col_\" + str(x))"
   ]
  },
  {
   "cell_type": "code",
   "execution_count": 20,
   "metadata": {},
   "outputs": [],
   "source": [
    "missing_df = \\\n",
    "feat_info.missing_or_unknown.str.strip('[').str.strip(']').str.split(',', expand = True)\\\n",
    ".rename(columns = lambda x: \"col_\" + str(x)).T"
   ]
  },
  {
   "cell_type": "code",
   "execution_count": 21,
   "metadata": {},
   "outputs": [
    {
     "data": {
      "text/html": [
       "<div>\n",
       "<style>\n",
       "    .dataframe thead tr:only-child th {\n",
       "        text-align: right;\n",
       "    }\n",
       "\n",
       "    .dataframe thead th {\n",
       "        text-align: left;\n",
       "    }\n",
       "\n",
       "    .dataframe tbody tr th {\n",
       "        vertical-align: top;\n",
       "    }\n",
       "</style>\n",
       "<table border=\"1\" class=\"dataframe\">\n",
       "  <thead>\n",
       "    <tr style=\"text-align: right;\">\n",
       "      <th>attribute</th>\n",
       "      <th>AGER_TYP</th>\n",
       "      <th>ALTERSKATEGORIE_GROB</th>\n",
       "      <th>ANREDE_KZ</th>\n",
       "      <th>CJT_GESAMTTYP</th>\n",
       "      <th>FINANZ_MINIMALIST</th>\n",
       "      <th>FINANZ_SPARER</th>\n",
       "      <th>FINANZ_VORSORGER</th>\n",
       "      <th>FINANZ_ANLEGER</th>\n",
       "      <th>FINANZ_UNAUFFAELLIGER</th>\n",
       "      <th>FINANZ_HAUSBAUER</th>\n",
       "      <th>...</th>\n",
       "      <th>PLZ8_ANTG1</th>\n",
       "      <th>PLZ8_ANTG2</th>\n",
       "      <th>PLZ8_ANTG3</th>\n",
       "      <th>PLZ8_ANTG4</th>\n",
       "      <th>PLZ8_BAUMAX</th>\n",
       "      <th>PLZ8_HHZ</th>\n",
       "      <th>PLZ8_GBZ</th>\n",
       "      <th>ARBEIT</th>\n",
       "      <th>ORTSGR_KLS9</th>\n",
       "      <th>RELAT_AB</th>\n",
       "    </tr>\n",
       "  </thead>\n",
       "  <tbody>\n",
       "    <tr>\n",
       "      <th>col_0</th>\n",
       "      <td>-1</td>\n",
       "      <td>-1</td>\n",
       "      <td>-1</td>\n",
       "      <td>0</td>\n",
       "      <td>-1</td>\n",
       "      <td>-1</td>\n",
       "      <td>-1</td>\n",
       "      <td>-1</td>\n",
       "      <td>-1</td>\n",
       "      <td>-1</td>\n",
       "      <td>...</td>\n",
       "      <td>-1</td>\n",
       "      <td>-1</td>\n",
       "      <td>-1</td>\n",
       "      <td>-1</td>\n",
       "      <td>-1</td>\n",
       "      <td>-1</td>\n",
       "      <td>-1</td>\n",
       "      <td>-1</td>\n",
       "      <td>-1</td>\n",
       "      <td>-1</td>\n",
       "    </tr>\n",
       "    <tr>\n",
       "      <th>col_1</th>\n",
       "      <td>0</td>\n",
       "      <td>0</td>\n",
       "      <td>0</td>\n",
       "      <td>None</td>\n",
       "      <td>None</td>\n",
       "      <td>None</td>\n",
       "      <td>None</td>\n",
       "      <td>None</td>\n",
       "      <td>None</td>\n",
       "      <td>None</td>\n",
       "      <td>...</td>\n",
       "      <td>None</td>\n",
       "      <td>None</td>\n",
       "      <td>None</td>\n",
       "      <td>None</td>\n",
       "      <td>0</td>\n",
       "      <td>None</td>\n",
       "      <td>None</td>\n",
       "      <td>9</td>\n",
       "      <td>0</td>\n",
       "      <td>9</td>\n",
       "    </tr>\n",
       "    <tr>\n",
       "      <th>col_2</th>\n",
       "      <td>None</td>\n",
       "      <td>9</td>\n",
       "      <td>None</td>\n",
       "      <td>None</td>\n",
       "      <td>None</td>\n",
       "      <td>None</td>\n",
       "      <td>None</td>\n",
       "      <td>None</td>\n",
       "      <td>None</td>\n",
       "      <td>None</td>\n",
       "      <td>...</td>\n",
       "      <td>None</td>\n",
       "      <td>None</td>\n",
       "      <td>None</td>\n",
       "      <td>None</td>\n",
       "      <td>None</td>\n",
       "      <td>None</td>\n",
       "      <td>None</td>\n",
       "      <td>None</td>\n",
       "      <td>None</td>\n",
       "      <td>None</td>\n",
       "    </tr>\n",
       "  </tbody>\n",
       "</table>\n",
       "<p>3 rows × 85 columns</p>\n",
       "</div>"
      ],
      "text/plain": [
       "attribute AGER_TYP ALTERSKATEGORIE_GROB ANREDE_KZ CJT_GESAMTTYP  \\\n",
       "col_0           -1                   -1        -1             0   \n",
       "col_1            0                    0         0          None   \n",
       "col_2         None                    9      None          None   \n",
       "\n",
       "attribute FINANZ_MINIMALIST FINANZ_SPARER FINANZ_VORSORGER FINANZ_ANLEGER  \\\n",
       "col_0                    -1            -1               -1             -1   \n",
       "col_1                  None          None             None           None   \n",
       "col_2                  None          None             None           None   \n",
       "\n",
       "attribute FINANZ_UNAUFFAELLIGER FINANZ_HAUSBAUER   ...    PLZ8_ANTG1  \\\n",
       "col_0                        -1               -1   ...            -1   \n",
       "col_1                      None             None   ...          None   \n",
       "col_2                      None             None   ...          None   \n",
       "\n",
       "attribute PLZ8_ANTG2 PLZ8_ANTG3 PLZ8_ANTG4 PLZ8_BAUMAX PLZ8_HHZ PLZ8_GBZ  \\\n",
       "col_0             -1         -1         -1          -1       -1       -1   \n",
       "col_1           None       None       None           0     None     None   \n",
       "col_2           None       None       None        None     None     None   \n",
       "\n",
       "attribute ARBEIT ORTSGR_KLS9 RELAT_AB  \n",
       "col_0         -1          -1       -1  \n",
       "col_1          9           0        9  \n",
       "col_2       None        None     None  \n",
       "\n",
       "[3 rows x 85 columns]"
      ]
     },
     "execution_count": 21,
     "metadata": {},
     "output_type": "execute_result"
    }
   ],
   "source": [
    "missing_df"
   ]
  },
  {
   "cell_type": "code",
   "execution_count": 22,
   "metadata": {},
   "outputs": [],
   "source": [
    "for col in missing_df.columns:\n",
    "    try:\n",
    "        missing_df[col] = missing_df[col].astype(float)\n",
    "    except:\n",
    "        continue"
   ]
  },
  {
   "cell_type": "code",
   "execution_count": 23,
   "metadata": {},
   "outputs": [
    {
     "data": {
      "text/html": [
       "<div>\n",
       "<style>\n",
       "    .dataframe thead tr:only-child th {\n",
       "        text-align: right;\n",
       "    }\n",
       "\n",
       "    .dataframe thead th {\n",
       "        text-align: left;\n",
       "    }\n",
       "\n",
       "    .dataframe tbody tr th {\n",
       "        vertical-align: top;\n",
       "    }\n",
       "</style>\n",
       "<table border=\"1\" class=\"dataframe\">\n",
       "  <thead>\n",
       "    <tr style=\"text-align: right;\">\n",
       "      <th></th>\n",
       "      <th>col_0</th>\n",
       "      <th>col_1</th>\n",
       "      <th>col_2</th>\n",
       "    </tr>\n",
       "    <tr>\n",
       "      <th>attribute</th>\n",
       "      <th></th>\n",
       "      <th></th>\n",
       "      <th></th>\n",
       "    </tr>\n",
       "  </thead>\n",
       "  <tbody>\n",
       "    <tr>\n",
       "      <th>GFK_URLAUBERTYP</th>\n",
       "      <td></td>\n",
       "      <td>None</td>\n",
       "      <td>None</td>\n",
       "    </tr>\n",
       "    <tr>\n",
       "      <th>GREEN_AVANTGARDE</th>\n",
       "      <td></td>\n",
       "      <td>None</td>\n",
       "      <td>None</td>\n",
       "    </tr>\n",
       "    <tr>\n",
       "      <th>ANZ_PERSONEN</th>\n",
       "      <td></td>\n",
       "      <td>None</td>\n",
       "      <td>None</td>\n",
       "    </tr>\n",
       "    <tr>\n",
       "      <th>ANZ_TITEL</th>\n",
       "      <td></td>\n",
       "      <td>None</td>\n",
       "      <td>None</td>\n",
       "    </tr>\n",
       "    <tr>\n",
       "      <th>ANZ_HH_TITEL</th>\n",
       "      <td></td>\n",
       "      <td>None</td>\n",
       "      <td>None</td>\n",
       "    </tr>\n",
       "    <tr>\n",
       "      <th>KONSUMNAEHE</th>\n",
       "      <td></td>\n",
       "      <td>None</td>\n",
       "      <td>None</td>\n",
       "    </tr>\n",
       "    <tr>\n",
       "      <th>CAMEO_DEUG_2015</th>\n",
       "      <td>-1</td>\n",
       "      <td>X</td>\n",
       "      <td>None</td>\n",
       "    </tr>\n",
       "    <tr>\n",
       "      <th>CAMEO_DEU_2015</th>\n",
       "      <td>XX</td>\n",
       "      <td>None</td>\n",
       "      <td>None</td>\n",
       "    </tr>\n",
       "    <tr>\n",
       "      <th>CAMEO_INTL_2015</th>\n",
       "      <td>-1</td>\n",
       "      <td>XX</td>\n",
       "      <td>None</td>\n",
       "    </tr>\n",
       "    <tr>\n",
       "      <th>GEBAEUDETYP_RASTER</th>\n",
       "      <td></td>\n",
       "      <td>None</td>\n",
       "      <td>None</td>\n",
       "    </tr>\n",
       "    <tr>\n",
       "      <th>MOBI_REGIO</th>\n",
       "      <td></td>\n",
       "      <td>None</td>\n",
       "      <td>None</td>\n",
       "    </tr>\n",
       "    <tr>\n",
       "      <th>ONLINE_AFFINITAET</th>\n",
       "      <td></td>\n",
       "      <td>None</td>\n",
       "      <td>None</td>\n",
       "    </tr>\n",
       "    <tr>\n",
       "      <th>KBA13_ANZAHL_PKW</th>\n",
       "      <td></td>\n",
       "      <td>None</td>\n",
       "      <td>None</td>\n",
       "    </tr>\n",
       "  </tbody>\n",
       "</table>\n",
       "</div>"
      ],
      "text/plain": [
       "                   col_0 col_1 col_2\n",
       "attribute                           \n",
       "GFK_URLAUBERTYP           None  None\n",
       "GREEN_AVANTGARDE          None  None\n",
       "ANZ_PERSONEN              None  None\n",
       "ANZ_TITEL                 None  None\n",
       "ANZ_HH_TITEL              None  None\n",
       "KONSUMNAEHE               None  None\n",
       "CAMEO_DEUG_2015       -1     X  None\n",
       "CAMEO_DEU_2015        XX  None  None\n",
       "CAMEO_INTL_2015       -1    XX  None\n",
       "GEBAEUDETYP_RASTER        None  None\n",
       "MOBI_REGIO                None  None\n",
       "ONLINE_AFFINITAET         None  None\n",
       "KBA13_ANZAHL_PKW          None  None"
      ]
     },
     "execution_count": 23,
     "metadata": {},
     "output_type": "execute_result"
    }
   ],
   "source": [
    "missing_df.T[missing_df.dtypes != \"float64\"]"
   ]
  },
  {
   "cell_type": "code",
   "execution_count": 24,
   "metadata": {},
   "outputs": [],
   "source": [
    "for col in azdias.columns:\n",
    "    try:\n",
    "        azdias[col] = azdias[col].astype(float)\n",
    "    except:\n",
    "        continue"
   ]
  },
  {
   "cell_type": "code",
   "execution_count": 25,
   "metadata": {},
   "outputs": [
    {
     "data": {
      "text/plain": [
       "72"
      ]
     },
     "execution_count": 25,
     "metadata": {},
     "output_type": "execute_result"
    }
   ],
   "source": [
    "(missing_df.dtypes == 'float64').sum()"
   ]
  },
  {
   "cell_type": "code",
   "execution_count": 26,
   "metadata": {},
   "outputs": [],
   "source": [
    "azdias = azdias.replace(missing_df.to_dict(orient = 'list'), np.nan)"
   ]
  },
  {
   "cell_type": "code",
   "execution_count": 27,
   "metadata": {},
   "outputs": [
    {
     "data": {
      "text/plain": [
       "8373929"
      ]
     },
     "execution_count": 27,
     "metadata": {},
     "output_type": "execute_result"
    }
   ],
   "source": [
    "azdias.isnull().sum().sum()"
   ]
  },
  {
   "cell_type": "markdown",
   "metadata": {},
   "source": [
    "#### Step 1.1.2: Assess Missing Data in Each Column\n",
    "\n",
    "How much missing data is present in each column? There are a few columns that are outliers in terms of the proportion of values that are missing. You will want to use matplotlib's [`hist()`](https://matplotlib.org/api/_as_gen/matplotlib.pyplot.hist.html) function to visualize the distribution of missing value counts to find these columns. Identify and document these columns. While some of these columns might have justifications for keeping or re-encoding the data, for this project you should just remove them from the dataframe. (Feel free to make remarks about these outlier columns in the discussion, however!)\n",
    "\n",
    "For the remaining features, are there any patterns in which columns have, or share, missing data?"
   ]
  },
  {
   "cell_type": "code",
   "execution_count": 28,
   "metadata": {},
   "outputs": [],
   "source": [
    "# Perform an assessment of how much missing data there is in each column of the dataset.\n",
    "table_count_missing_col = azdias.isnull().sum().to_frame(\"count_missing_col\")\n",
    "\n",
    "# Investigate patterns in the amount of missing data in each column.\n",
    "table_count_missing_col[\"pct_missing_col\"] = table_count_missing_col[\"count_missing_col\"] / azdias.shape[0] * 100.00\n",
    "\n",
    "table_count_missing_col.sort_values(\"pct_missing_col\", ascending = False, inplace = True)"
   ]
  },
  {
   "cell_type": "code",
   "execution_count": 29,
   "metadata": {},
   "outputs": [
    {
     "data": {
      "text/plain": [
       "61"
      ]
     },
     "execution_count": 29,
     "metadata": {},
     "output_type": "execute_result"
    }
   ],
   "source": [
    "(table_count_missing_col[\"count_missing_col\"] > 0).sum()"
   ]
  },
  {
   "cell_type": "code",
   "execution_count": 30,
   "metadata": {},
   "outputs": [
    {
     "data": {
      "text/html": [
       "<div>\n",
       "<style>\n",
       "    .dataframe thead tr:only-child th {\n",
       "        text-align: right;\n",
       "    }\n",
       "\n",
       "    .dataframe thead th {\n",
       "        text-align: left;\n",
       "    }\n",
       "\n",
       "    .dataframe tbody tr th {\n",
       "        vertical-align: top;\n",
       "    }\n",
       "</style>\n",
       "<table border=\"1\" class=\"dataframe\">\n",
       "  <thead>\n",
       "    <tr style=\"text-align: right;\">\n",
       "      <th></th>\n",
       "      <th>count_missing_col</th>\n",
       "      <th>pct_missing_col</th>\n",
       "    </tr>\n",
       "  </thead>\n",
       "  <tbody>\n",
       "    <tr>\n",
       "      <th>TITEL_KZ</th>\n",
       "      <td>889061</td>\n",
       "      <td>99.757636</td>\n",
       "    </tr>\n",
       "    <tr>\n",
       "      <th>AGER_TYP</th>\n",
       "      <td>685843</td>\n",
       "      <td>76.955435</td>\n",
       "    </tr>\n",
       "    <tr>\n",
       "      <th>KK_KUNDENTYP</th>\n",
       "      <td>584612</td>\n",
       "      <td>65.596749</td>\n",
       "    </tr>\n",
       "    <tr>\n",
       "      <th>KBA05_BAUMAX</th>\n",
       "      <td>476524</td>\n",
       "      <td>53.468668</td>\n",
       "    </tr>\n",
       "    <tr>\n",
       "      <th>GEBURTSJAHR</th>\n",
       "      <td>392318</td>\n",
       "      <td>44.020282</td>\n",
       "    </tr>\n",
       "    <tr>\n",
       "      <th>ALTER_HH</th>\n",
       "      <td>310267</td>\n",
       "      <td>34.813699</td>\n",
       "    </tr>\n",
       "    <tr>\n",
       "      <th>KKK</th>\n",
       "      <td>158064</td>\n",
       "      <td>17.735668</td>\n",
       "    </tr>\n",
       "    <tr>\n",
       "      <th>REGIOTYP</th>\n",
       "      <td>158064</td>\n",
       "      <td>17.735668</td>\n",
       "    </tr>\n",
       "    <tr>\n",
       "      <th>W_KEIT_KIND_HH</th>\n",
       "      <td>147988</td>\n",
       "      <td>16.605084</td>\n",
       "    </tr>\n",
       "    <tr>\n",
       "      <th>KBA05_ANTG1</th>\n",
       "      <td>133324</td>\n",
       "      <td>14.959701</td>\n",
       "    </tr>\n",
       "  </tbody>\n",
       "</table>\n",
       "</div>"
      ],
      "text/plain": [
       "                count_missing_col  pct_missing_col\n",
       "TITEL_KZ                   889061        99.757636\n",
       "AGER_TYP                   685843        76.955435\n",
       "KK_KUNDENTYP               584612        65.596749\n",
       "KBA05_BAUMAX               476524        53.468668\n",
       "GEBURTSJAHR                392318        44.020282\n",
       "ALTER_HH                   310267        34.813699\n",
       "KKK                        158064        17.735668\n",
       "REGIOTYP                   158064        17.735668\n",
       "W_KEIT_KIND_HH             147988        16.605084\n",
       "KBA05_ANTG1                133324        14.959701"
      ]
     },
     "execution_count": 30,
     "metadata": {},
     "output_type": "execute_result"
    }
   ],
   "source": [
    "table_count_missing_col.head(10)"
   ]
  },
  {
   "cell_type": "code",
   "execution_count": 31,
   "metadata": {},
   "outputs": [
    {
     "data": {
      "text/html": [
       "<div>\n",
       "<style>\n",
       "    .dataframe thead tr:only-child th {\n",
       "        text-align: right;\n",
       "    }\n",
       "\n",
       "    .dataframe thead th {\n",
       "        text-align: left;\n",
       "    }\n",
       "\n",
       "    .dataframe tbody tr th {\n",
       "        vertical-align: top;\n",
       "    }\n",
       "</style>\n",
       "<table border=\"1\" class=\"dataframe\">\n",
       "  <thead>\n",
       "    <tr style=\"text-align: right;\">\n",
       "      <th></th>\n",
       "      <th>count</th>\n",
       "      <th>mean</th>\n",
       "      <th>std</th>\n",
       "      <th>min</th>\n",
       "      <th>25%</th>\n",
       "      <th>50%</th>\n",
       "      <th>75%</th>\n",
       "      <th>max</th>\n",
       "    </tr>\n",
       "  </thead>\n",
       "  <tbody>\n",
       "    <tr>\n",
       "      <th>pct_missing_col</th>\n",
       "      <td>85.0</td>\n",
       "      <td>11.054139</td>\n",
       "      <td>16.449815</td>\n",
       "      <td>0.0</td>\n",
       "      <td>0.0</td>\n",
       "      <td>10.451729</td>\n",
       "      <td>13.073637</td>\n",
       "      <td>99.757636</td>\n",
       "    </tr>\n",
       "  </tbody>\n",
       "</table>\n",
       "</div>"
      ],
      "text/plain": [
       "                 count       mean        std  min  25%        50%        75%  \\\n",
       "pct_missing_col   85.0  11.054139  16.449815  0.0  0.0  10.451729  13.073637   \n",
       "\n",
       "                       max  \n",
       "pct_missing_col  99.757636  "
      ]
     },
     "execution_count": 31,
     "metadata": {},
     "output_type": "execute_result"
    }
   ],
   "source": [
    "table_count_missing_col[[\"pct_missing_col\"]].describe().T"
   ]
  },
  {
   "cell_type": "code",
   "execution_count": 32,
   "metadata": {},
   "outputs": [
    {
     "data": {
      "image/png": "[encoded data removed]",
      "text/plain": [
       "<matplotlib.figure.Figure at 0x7fc8796ce518>"
      ]
     },
     "metadata": {
      "needs_background": "light"
     },
     "output_type": "display_data"
    }
   ],
   "source": [
    "table_count_missing_col.hist(\"pct_missing_col\", bins = 20, figsize = (12,8));\n",
    "plt.title(\"Histogram of Percentage of Missing Values in Each Column\", fontsize = 12);\n",
    "plt.xlabel(\"Percentage of Missing Values in Each Column (%)\", fontsize = 12);\n",
    "plt.ylabel(\"Count\", fontsize = 12);"
   ]
  },
  {
   "cell_type": "code",
   "execution_count": 33,
   "metadata": {},
   "outputs": [
    {
     "data": {
      "text/plain": [
       "Index(['TITEL_KZ', 'AGER_TYP', 'KK_KUNDENTYP', 'KBA05_BAUMAX', 'GEBURTSJAHR',\n",
       "       'ALTER_HH'],\n",
       "      dtype='object')"
      ]
     },
     "execution_count": 33,
     "metadata": {},
     "output_type": "execute_result"
    }
   ],
   "source": [
    "# Remove the outlier columns from the dataset. (You'll perform other data\n",
    "# engineering tasks such as re-encoding and imputation later.)\n",
    "drop_features = table_count_missing_col[table_count_missing_col[\"pct_missing_col\"] > 20.00].index\n",
    "drop_features"
   ]
  },
  {
   "cell_type": "code",
   "execution_count": 34,
   "metadata": {},
   "outputs": [],
   "source": [
    "azdias.drop(drop_features, axis = 1, inplace = True)"
   ]
  },
  {
   "cell_type": "code",
   "execution_count": null,
   "metadata": {},
   "outputs": [],
   "source": []
  },
  {
   "cell_type": "markdown",
   "metadata": {},
   "source": [
    "#### Discussion 1.1.2: Assess Missing Data in Each Column\n",
    "\n",
    "(Double click this cell and replace this text with your own text, reporting your observations regarding the amount of missing data in each column. Are there any patterns in missing values? Which columns were removed from the dataset?)\n",
    "\n",
    "1. After replacing missing or unknown value codes with NaN values, among 85 features, __61__ have missing values. And among all features, `TITEL_KZ`, `AGER_TYP`, `KK_KUNDENTYP`, `KBA05_BAUMAX`, `GEBURTSJAHR`, and `ALTER_HH` are top 6 having the highest missing value percentages. \n",
    "1. Based on the histogram of missing percentages, most of them are lower than 20%. Therefore, `TITEL_KZ`, `AGER_TYP`, `KK_KUNDENTYP`, `KBA05_BAUMAX`, `GEBURTSJAHR`, and `ALTER_HH` are removed."
   ]
  },
  {
   "cell_type": "markdown",
   "metadata": {},
   "source": [
    "#### Step 1.1.3: Assess Missing Data in Each Row\n",
    "\n",
    "Now, you'll perform a similar assessment for the rows of the dataset. How much data is missing in each row? As with the columns, you should see some groups of points that have a very different numbers of missing values. Divide the data into two subsets: one for data points that are above some threshold for missing values, and a second subset for points below that threshold.\n",
    "\n",
    "In order to know what to do with the outlier rows, we should see if the distribution of data values on columns that are not missing data (or are missing very little data) are similar or different between the two groups. Select at least five of these columns and compare the distribution of values.\n",
    "- You can use seaborn's [`countplot()`](https://seaborn.pydata.org/generated/seaborn.countplot.html) function to create a bar chart of code frequencies and matplotlib's [`subplot()`](https://matplotlib.org/api/_as_gen/matplotlib.pyplot.subplot.html) function to put bar charts for the two subplots side by side.\n",
    "- To reduce repeated code, you might want to write a function that can perform this comparison, taking as one of its arguments a column to be compared.\n",
    "\n",
    "Depending on what you observe in your comparison, this will have implications on how you approach your conclusions later in the analysis. If the distributions of non-missing features look similar between the data with many missing values and the data with few or no missing values, then we could argue that simply dropping those points from the analysis won't present a major issue. On the other hand, if the data with many missing values looks very different from the data with few or no missing values, then we should make a note on those data as special. We'll revisit these data later on. **Either way, you should continue your analysis for now using just the subset of the data with few or no missing values.**"
   ]
  },
  {
   "cell_type": "code",
   "execution_count": 35,
   "metadata": {},
   "outputs": [],
   "source": [
    "# How much data is missing in each row of the dataset?\n",
    "azdias[\"count_missing_row\"] = azdias.isnull().sum(axis = 1)\n",
    "\n",
    "# Investigate patterns in the amount of missing data in each column.\n",
    "azdias[\"pct_missing_row\"] = azdias[\"count_missing_row\"] / azdias.shape[1] * 100.00\n",
    "\n",
    "azdias.sort_values(\"pct_missing_row\", ascending = False, inplace = True)"
   ]
  },
  {
   "cell_type": "code",
   "execution_count": 36,
   "metadata": {},
   "outputs": [
    {
     "data": {
      "text/html": [
       "<div>\n",
       "<style>\n",
       "    .dataframe thead tr:only-child th {\n",
       "        text-align: right;\n",
       "    }\n",
       "\n",
       "    .dataframe thead th {\n",
       "        text-align: left;\n",
       "    }\n",
       "\n",
       "    .dataframe tbody tr th {\n",
       "        vertical-align: top;\n",
       "    }\n",
       "</style>\n",
       "<table border=\"1\" class=\"dataframe\">\n",
       "  <thead>\n",
       "    <tr style=\"text-align: right;\">\n",
       "      <th></th>\n",
       "      <th>count_missing_row</th>\n",
       "      <th>pct_missing_row</th>\n",
       "    </tr>\n",
       "  </thead>\n",
       "  <tbody>\n",
       "    <tr>\n",
       "      <th>732775</th>\n",
       "      <td>49</td>\n",
       "      <td>61.25</td>\n",
       "    </tr>\n",
       "    <tr>\n",
       "      <th>643174</th>\n",
       "      <td>49</td>\n",
       "      <td>61.25</td>\n",
       "    </tr>\n",
       "    <tr>\n",
       "      <th>472919</th>\n",
       "      <td>48</td>\n",
       "      <td>60.00</td>\n",
       "    </tr>\n",
       "    <tr>\n",
       "      <th>345274</th>\n",
       "      <td>47</td>\n",
       "      <td>58.75</td>\n",
       "    </tr>\n",
       "    <tr>\n",
       "      <th>299868</th>\n",
       "      <td>47</td>\n",
       "      <td>58.75</td>\n",
       "    </tr>\n",
       "    <tr>\n",
       "      <th>582092</th>\n",
       "      <td>47</td>\n",
       "      <td>58.75</td>\n",
       "    </tr>\n",
       "    <tr>\n",
       "      <th>681255</th>\n",
       "      <td>47</td>\n",
       "      <td>58.75</td>\n",
       "    </tr>\n",
       "    <tr>\n",
       "      <th>818343</th>\n",
       "      <td>47</td>\n",
       "      <td>58.75</td>\n",
       "    </tr>\n",
       "    <tr>\n",
       "      <th>582109</th>\n",
       "      <td>47</td>\n",
       "      <td>58.75</td>\n",
       "    </tr>\n",
       "    <tr>\n",
       "      <th>439981</th>\n",
       "      <td>47</td>\n",
       "      <td>58.75</td>\n",
       "    </tr>\n",
       "  </tbody>\n",
       "</table>\n",
       "</div>"
      ],
      "text/plain": [
       "        count_missing_row  pct_missing_row\n",
       "732775                 49            61.25\n",
       "643174                 49            61.25\n",
       "472919                 48            60.00\n",
       "345274                 47            58.75\n",
       "299868                 47            58.75\n",
       "582092                 47            58.75\n",
       "681255                 47            58.75\n",
       "818343                 47            58.75\n",
       "582109                 47            58.75\n",
       "439981                 47            58.75"
      ]
     },
     "execution_count": 36,
     "metadata": {},
     "output_type": "execute_result"
    }
   ],
   "source": [
    "azdias[[\"count_missing_row\", \"pct_missing_row\"]].head(10)"
   ]
  },
  {
   "cell_type": "code",
   "execution_count": 37,
   "metadata": {},
   "outputs": [
    {
     "data": {
      "text/html": [
       "<div>\n",
       "<style>\n",
       "    .dataframe thead tr:only-child th {\n",
       "        text-align: right;\n",
       "    }\n",
       "\n",
       "    .dataframe thead th {\n",
       "        text-align: left;\n",
       "    }\n",
       "\n",
       "    .dataframe tbody tr th {\n",
       "        vertical-align: top;\n",
       "    }\n",
       "</style>\n",
       "<table border=\"1\" class=\"dataframe\">\n",
       "  <thead>\n",
       "    <tr style=\"text-align: right;\">\n",
       "      <th></th>\n",
       "      <th>count</th>\n",
       "      <th>mean</th>\n",
       "      <th>std</th>\n",
       "      <th>min</th>\n",
       "      <th>25%</th>\n",
       "      <th>50%</th>\n",
       "      <th>75%</th>\n",
       "      <th>max</th>\n",
       "    </tr>\n",
       "  </thead>\n",
       "  <tbody>\n",
       "    <tr>\n",
       "      <th>pct_missing_row</th>\n",
       "      <td>891221.0</td>\n",
       "      <td>7.062367</td>\n",
       "      <td>16.543358</td>\n",
       "      <td>0.0</td>\n",
       "      <td>0.0</td>\n",
       "      <td>0.0</td>\n",
       "      <td>3.75</td>\n",
       "      <td>61.25</td>\n",
       "    </tr>\n",
       "  </tbody>\n",
       "</table>\n",
       "</div>"
      ],
      "text/plain": [
       "                    count      mean        std  min  25%  50%   75%    max\n",
       "pct_missing_row  891221.0  7.062367  16.543358  0.0  0.0  0.0  3.75  61.25"
      ]
     },
     "execution_count": 37,
     "metadata": {},
     "output_type": "execute_result"
    }
   ],
   "source": [
    "azdias[[\"pct_missing_row\"]].describe().T"
   ]
  },
  {
   "cell_type": "code",
   "execution_count": 38,
   "metadata": {},
   "outputs": [
    {
     "data": {
      "image/png": "[encoded data removed]",
      "text/plain": [
       "<matplotlib.figure.Figure at 0x7fc877593b38>"
      ]
     },
     "metadata": {
      "needs_background": "light"
     },
     "output_type": "display_data"
    }
   ],
   "source": [
    "azdias.hist(\"pct_missing_row\", bins = 20, figsize = (12,8));\n",
    "plt.title(\"Histogram of Percentage of Missing Values in Each Row\", fontsize = 12);\n",
    "plt.xlabel(\"Percentage of Missing Values in Each Row(%)\", fontsize = 12);\n",
    "plt.ylabel(\"Count\", fontsize = 12);"
   ]
  },
  {
   "cell_type": "code",
   "execution_count": 39,
   "metadata": {},
   "outputs": [
    {
     "data": {
      "text/plain": [
       "0.1341081505036349"
      ]
     },
     "execution_count": 39,
     "metadata": {},
     "output_type": "execute_result"
    }
   ],
   "source": [
    "1.0 * azdias[azdias[\"pct_missing_row\"] > 10.0].shape[0]/azdias.shape[0]"
   ]
  },
  {
   "cell_type": "code",
   "execution_count": 40,
   "metadata": {},
   "outputs": [],
   "source": [
    "# Write code to divide the data into two subsets based on the number of missing\n",
    "# values in each row.\n",
    "azdias_row_missing_few = azdias[azdias[\"pct_missing_row\"] <= 10.0]\n",
    "azdias_row_missing_many = azdias[azdias[\"pct_missing_row\"] > 10.0]"
   ]
  },
  {
   "cell_type": "code",
   "execution_count": 41,
   "metadata": {},
   "outputs": [
    {
     "name": "stdout",
     "output_type": "stream",
     "text": [
      "Number of Observations with NO More Than 10% Missing Values:  771701\n",
      "Number of Observations with More Than 10% Missing Values:  119520\n"
     ]
    }
   ],
   "source": [
    "print (\"Number of Observations with NO More Than 10% Missing Values: \", azdias_row_missing_few.shape[0]) \n",
    "print (\"Number of Observations with More Than 10% Missing Values: \", azdias_row_missing_many.shape[0])"
   ]
  },
  {
   "cell_type": "code",
   "execution_count": 42,
   "metadata": {
    "scrolled": false
   },
   "outputs": [
    {
     "data": {
      "image/png": "[encoded data removed]",
      "text/plain": [
       "<matplotlib.figure.Figure at 0x7fc857077b38>"
      ]
     },
     "metadata": {
      "needs_background": "light"
     },
     "output_type": "display_data"
    }
   ],
   "source": [
    "# Compare the distribution of values for at least five columns where there are\n",
    "# no or few missing values, between the two subsets.\n",
    "col_checklist = table_count_missing_col.query('count_missing_col == 0').index[:6]\n",
    "\n",
    "fig, ax = plt.subplots(len(col_checklist), 2, figsize = (25,25))\n",
    "\n",
    "for k in range(len(col_checklist)):\n",
    "    sns.countplot(azdias_row_missing_few[col_checklist[k]], ax = ax[k, 0]);\n",
    "    ax[0, 0].set_title(\"Missing Values in Row: No More Than 10%\");\n",
    "    \n",
    "    sns.countplot(azdias_row_missing_many[col_checklist[k]], ax = ax[k, 1]);\n",
    "    ax[0, 1].set_title(\"Missing Values in Row: More Than 10%\");"
   ]
  },
  {
   "cell_type": "code",
   "execution_count": 43,
   "metadata": {},
   "outputs": [],
   "source": [
    "# Keep only observations without missing values\n",
    "azdias = azdias[azdias[\"pct_missing_row\"] <= 10.0].copy(deep = True)"
   ]
  },
  {
   "cell_type": "code",
   "execution_count": 44,
   "metadata": {},
   "outputs": [],
   "source": [
    "azdias.drop([\"count_missing_row\", \"pct_missing_row\"], axis = 1, inplace = True)"
   ]
  },
  {
   "cell_type": "code",
   "execution_count": 45,
   "metadata": {},
   "outputs": [
    {
     "data": {
      "text/plain": [
       "(771701, 79)"
      ]
     },
     "execution_count": 45,
     "metadata": {},
     "output_type": "execute_result"
    }
   ],
   "source": [
    "azdias.shape"
   ]
  },
  {
   "cell_type": "code",
   "execution_count": 48,
   "metadata": {},
   "outputs": [
    {
     "data": {
      "text/plain": [
       "Index(['FINANZ_UNAUFFAELLIGER', 'FINANZTYP', 'FINANZ_HAUSBAUER',\n",
       "       'GREEN_AVANTGARDE', 'FINANZ_SPARER', 'FINANZ_MINIMALIST'],\n",
       "      dtype='object')"
      ]
     },
     "execution_count": 48,
     "metadata": {},
     "output_type": "execute_result"
    }
   ],
   "source": [
    "col_checklist"
   ]
  },
  {
   "cell_type": "code",
   "execution_count": null,
   "metadata": {},
   "outputs": [],
   "source": []
  },
  {
   "cell_type": "markdown",
   "metadata": {},
   "source": [
    "#### Discussion 1.1.3: Assess Missing Data in Each Row\n",
    "\n",
    "(Double-click this cell and replace this text with your own text, reporting your observations regarding missing data in rows. Are the data with lots of missing values are qualitatively different from data with few or no missing values?)\n",
    "\n",
    "\n",
    "1. Among 891221 observations, at least half of them with 0 missing values, and the maximun percentage of missing value out of 82 features observed for one observation is over 60%.\n",
    "1. From the bar chart about percentage of missing values in each row, we see that most of them are no more than 10%. And only 13% of our entire data contains more than 10% missing values. Therefore, will split the data based on whether an observation containins more than 10% missing values.\n",
    "1. Split the entire data set into two subsets based on whether an observation has more than 10% missing values, and compared distributions between these subset of 6 columns which have non-missing values. From the plot above, we should tell they are qualitatively different from each other.\n",
    "    - `FINANZ_UNAUFFAELLIGER`: \n",
    "        - Measures Financial typology about inconspicuous.\n",
    "        - In data with __More than 10%__ missing values, most frequently observed values are 5 (very low). \n",
    "        - In data with __NO More than 10%__ missing values, most frequently observed values are 1 (very high).\n",
    "    - `FINANZTYP`: \n",
    "        - About descriptive financial type for individual.\n",
    "        - In data with __More than 10%__ missing values, the most frequent value is 4 (be prepared, VORSORGER).\n",
    "        - In data with __NO More than 10%__ missing values, the most frequent value is 6 (inconspicuous, UNAUFFAELLIGER) and second most frequent value is 1 (low financial interest, MINIMALIST).\n",
    "     - `FINANZ_HAUSBAUER`: \n",
    "        - Measures Financial typology about home ownership.\n",
    "        - In data with __More than 10%__ missing values, 4 (low) is much more than other categories. \n",
    "        - In data with __NO More than 10%__ missing values, the mode is 5 (very low), but 2 (high), 3 (average), 4(low) seem to be equally distributed.\n",
    "    - `GREEN_AVANTGARDE`: \n",
    "        - Tells about Membership in environmental sustainability as part of youth.\n",
    "        - In data with __More than 10%__ missing values, the mode is 0 (not a member of green avantgarde).  \n",
    "        - In data with __NO More than 10%__ missing values, the mode is also 0 (not a member of green avantgarde), but the ratio of 1 to 0 (being a member to not being a member) is higher than that from the data containing more than 10% missing values.  \n",
    "    - `FINANZ_SPARER`: \n",
    "        - Tells Financial typology about money-saver. \n",
    "        - In data with __More than 10%__ missing values, the mode is 4 (low).  \n",
    "        - In data with __NO More than 10%__ missing values, the mode is 1 (very high) and 4 (low) is the least frequently observed value.\n",
    "    - `FINANZ_MINIMALIST`: \n",
    "        - Tells Financial typology about low financial interest. \n",
    "        - In data with __More than 10%__ missing values, the mode is 3 (average). \n",
    "        - In data with __NO More than 10%__ missing values, the mode is also 3 (average), but frequencies of all types are much closer than those from the data containing more than 10% missing values."
   ]
  },
  {
   "cell_type": "markdown",
   "metadata": {},
   "source": [
    "### Step 1.2: Select and Re-Encode Features\n",
    "\n",
    "Checking for missing data isn't the only way in which you can prepare a dataset for analysis. Since the unsupervised learning techniques to be used will only work on data that is encoded numerically, you need to make a few encoding changes or additional assumptions to be able to make progress. In addition, while almost all of the values in the dataset are encoded using numbers, not all of them represent numeric values. Check the third column of the feature summary (`feat_info`) for a summary of types of measurement.\n",
    "- For numeric and interval data, these features can be kept without changes.\n",
    "- Most of the variables in the dataset are ordinal in nature. While ordinal values may technically be non-linear in spacing, make the simplifying assumption that the ordinal variables can be treated as being interval in nature (that is, kept without any changes).\n",
    "- Special handling may be necessary for the remaining two variable types: categorical, and 'mixed'.\n",
    "\n",
    "In the first two parts of this sub-step, you will perform an investigation of the categorical and mixed-type features and make a decision on each of them, whether you will keep, drop, or re-encode each. Then, in the last part, you will create a new data frame with only the selected and engineered columns.\n",
    "\n",
    "Data wrangling is often the trickiest part of the data analysis process, and there's a lot of it to be done here. But stick with it: once you're done with this step, you'll be ready to get to the machine learning parts of the project!"
   ]
  },
  {
   "cell_type": "code",
   "execution_count": 49,
   "metadata": {},
   "outputs": [
    {
     "data": {
      "text/plain": [
       "ordinal        49\n",
       "categorical    21\n",
       "numeric         7\n",
       "mixed           7\n",
       "interval        1\n",
       "Name: type, dtype: int64"
      ]
     },
     "execution_count": 49,
     "metadata": {},
     "output_type": "execute_result"
    }
   ],
   "source": [
    "# How many features are there of each data type?\n",
    "feat_info[\"type\"].value_counts()"
   ]
  },
  {
   "cell_type": "markdown",
   "metadata": {},
   "source": [
    "#### Step 1.2.1: Re-Encode Categorical Features\n",
    "\n",
    "For categorical data, you would ordinarily need to encode the levels as dummy variables. Depending on the number of categories, perform one of the following:\n",
    "- For binary (two-level) categoricals that take numeric values, you can keep them without needing to do anything.\n",
    "- There is one binary variable that takes on non-numeric values. For this one, you need to re-encode the values as numbers or create a dummy variable.\n",
    "- For multi-level categoricals (three or more values), you can choose to encode the values using multiple dummy variables (e.g. via [OneHotEncoder](http://scikit-learn.org/stable/modules/generated/sklearn.preprocessing.OneHotEncoder.html)), or (to keep things straightforward) just drop them from the analysis. As always, document your choices in the Discussion section."
   ]
  },
  {
   "cell_type": "code",
   "execution_count": 50,
   "metadata": {},
   "outputs": [
    {
     "name": "stdout",
     "output_type": "stream",
     "text": [
      "Dropped Categorical Variables due to Higher Percentage of Mising Values in Each Column:  \n",
      " {'TITEL_KZ', 'KK_KUNDENTYP', 'AGER_TYP'} \n",
      "\n",
      "Binary Variables: 5 in total \n",
      "\n",
      "Multi-Level Variables: 13 in total\n"
     ]
    }
   ],
   "source": [
    "# Assess categorical variables: which are binary, which are multi-level, and\n",
    "# which one needs to be re-encoded?\n",
    "\n",
    "cat_checklist = feat_info[feat_info[\"type\"] == \"categorical\"].index\n",
    "cat_var = {\"binary\":[], \"multi_level\": []}\n",
    "for col in azdias.columns:\n",
    "    if col in cat_checklist:\n",
    "        if azdias[col].nunique() == 2:\n",
    "            cat_var[\"binary\"].append([col, azdias[col].unique()])\n",
    "        elif azdias[col].nunique() > 2:\n",
    "            cat_var[\"multi_level\"].append([col, azdias[col].unique()])\n",
    "\n",
    "print (\"Dropped Categorical Variables due to Higher Percentage of Mising Values in Each Column: \", \"\\n\", \n",
    "      set(cat_checklist) - set(azdias.columns), \"\\n\")            \n",
    "print (\"Binary Variables: {} in total\".format(len(cat_var[\"binary\"])), \"\\n\")            \n",
    "print (\"Multi-Level Variables: {} in total\".format(len(cat_var[\"multi_level\"])))"
   ]
  },
  {
   "cell_type": "code",
   "execution_count": 51,
   "metadata": {},
   "outputs": [
    {
     "data": {
      "text/plain": [
       "[['ANREDE_KZ', array([ 2.,  1.])],\n",
       " ['GREEN_AVANTGARDE', array([ 0.,  1.])],\n",
       " ['SOHO_KZ', array([ 0.,  1.])],\n",
       " ['VERS_TYP', array([ nan,   1.,   2.])],\n",
       " ['OST_WEST_KZ', array(['W', 'O'], dtype=object)]]"
      ]
     },
     "execution_count": 51,
     "metadata": {},
     "output_type": "execute_result"
    }
   ],
   "source": [
    "cat_var[\"binary\"]"
   ]
  },
  {
   "cell_type": "code",
   "execution_count": 52,
   "metadata": {},
   "outputs": [],
   "source": [
    "azdias.drop([\"FINANZTYP\", \"LP_FAMILIE_GROB\", \"LP_STATUS_GROB\", \"CAMEO_DEUG_2015\", \"CAMEO_DEU_2015\"], \n",
    "            axis = 1, inplace = True)"
   ]
  },
  {
   "cell_type": "code",
   "execution_count": 53,
   "metadata": {},
   "outputs": [],
   "source": [
    "# Re-encode categorical variable(s) to be kept in the analysis.\n",
    "azdias[\"OST_WEST_KZ\"] = azdias[\"OST_WEST_KZ\"].replace(\"W\",1).replace(\"O\",0)"
   ]
  },
  {
   "cell_type": "code",
   "execution_count": 54,
   "metadata": {},
   "outputs": [],
   "source": [
    "categorial_features_transform = \\\n",
    "[\"CJT_GESAMTTYP\", \"GFK_URLAUBERTYP\", \"LP_FAMILIE_FEIN\", \"LP_STATUS_FEIN\", \n",
    " \"NATIONALITAET_KZ\", \"SHOPPER_TYP\", \"ZABEOTYP\", \"GEBAEUDETYP\"]"
   ]
  },
  {
   "cell_type": "code",
   "execution_count": 55,
   "metadata": {},
   "outputs": [],
   "source": [
    "azdias = pd.get_dummies(azdias, columns = categorial_features_transform)"
   ]
  },
  {
   "cell_type": "code",
   "execution_count": 56,
   "metadata": {},
   "outputs": [
    {
     "data": {
      "text/plain": [
       "(771701, 125)"
      ]
     },
     "execution_count": 56,
     "metadata": {},
     "output_type": "execute_result"
    }
   ],
   "source": [
    "azdias.shape"
   ]
  },
  {
   "cell_type": "markdown",
   "metadata": {},
   "source": [
    "#### Discussion 1.2.1: Re-Encode Categorical Features\n",
    "\n",
    "(Double-click this cell and replace this text with your own text, reporting your findings and decisions regarding categorical features. Which ones did you keep, which did you drop, and what engineering steps did you perform?)"
   ]
  },
  {
   "cell_type": "markdown",
   "metadata": {},
   "source": [
    "- There are 21 Categorical Features in original data, and 3 of them got removed because of having too many missing values in their columns.\n",
    "- Among remaining 18 Categorical Features, 5 of them are Binary Variables and among which `OST_WEST_KZ` takes non-numeric values. And 13 of them are Multi-Level Variables.\n",
    "\n",
    "Following are Categorical Feature should be re-encoded into dummy variables:\n",
    "1. Binary: \n",
    "    - `OST_WEST_KZ`\n",
    "1. Multi-Levle: \n",
    "    - `CJT_GESAMTTYP`: Customer-Journey-Typology: preferred information and buying channels for\n",
    "consumer\n",
    "    - `FINANZTYP`: Most descriptive financial type for individual (low financial interest (MINIMALIST), money-saver (SPARER), home ownership (HAUSBAUER), ...)\n",
    "    - `GFK_URLAUBERTYP`: Vacation habits (Event travelers, Family-oriented vacationists, Winter sportspeople, ...)\n",
    "    - `LP_FAMILIE_FEIN`: Family type, fine scale (single, couple, young single parent, single parent with teenager, ...)\n",
    "    - `LP_FAMILIE_GROB`: Family type, rough scale (single (maps to 1 in fine scale), ...)\n",
    "    - `LP_STATUS_FEIN`: Social status, fine scale (typical low-income earners, orientation-seeking low-income earners, ...)\n",
    "    - `LP_STATUS_GROB`: Social status, rough scale (low-income earners (maps to 1-2 in fine scale), ...)\n",
    "    - `NATIONALITAET_KZ`: Nationality based on given name analysis\n",
    "    - `SHOPPER_TYP`: Shopper typology (external supplied hedonists, Shopping-stressed, family-shopper, demanding shopper)\n",
    "    - `ZABEOTYP`: Energy consumption typology (green, smart, fair supplied, price driven, ...)\n",
    "    - `GEBAEUDETYP`: Type of building (residential vs. commercial) (residential building, residential building buildings without actually known household, ...)\n",
    "    - `CAMEO_DEUG_2015`: German CAMEO: Wealth / Life Stage Typology, rough scale (upper class, upper middleclass, ...)\n",
    "    - `CAMEO_DEU_2015`: German CAMEO: Wealth / Life Stage Typology, detailed scale (Work-Life-Balance, Wealthy Best Ager, Successful Songwriter, ...)\n",
    "    \n",
    "\n",
    "From Data_Dictionary file, we learned that:\n",
    "1. `FINANZTYP` can be represented by `FINANZ_MINIMALIST`,`FINANZ_SPARER`,`FINANZ_VORSORGER`,`FINANZ_ANLEGER`,`FINANZ_UNAUFFAELLIGER`,`FINANZ_HAUSBAUER`. Then will remove it.\n",
    "1. `LP_FAMILIE_FEIN` and `LP_FAMILIE_GROB`, `LP_STATUS_FEIN` and `LP_STATUS_GROB`, `CAMEO_DEUG_2015` and `CAMEO_DEU_2015` contain overlapped information, then only the fine scale features will be kept. In the meantime, there is a feature `CAMEO_INTL_2015` representing \"Wealth / Life Stage Typology, mapped to international code\" which is similar to `CAMEO_DEUG_2015` and `CAMEO_DEU_2015`, then will remove `CAMEO_DEUG_2015` and `CAMEO_DEU_2015`.\n",
    "\n",
    "\n",
    "Hence, following are Categorical Feature decided to be re-encoded into dummy variables:\n",
    "1. Binary: \n",
    "    - OST_WEST_KZ\n",
    "1. Multi-Levle:\n",
    "    - CJT_GESAMTTYP\n",
    "    - GFK_URLAUBERTYP\n",
    "    - LP_FAMILIE_FEIN\n",
    "    - LP_STATUS_FEIN  \n",
    "    - NATIONALITAET_KZ\n",
    "    - SHOPPER_TYP\n",
    "    - ZABEOTYP\n",
    "    - GEBAEUDETYP"
   ]
  },
  {
   "cell_type": "markdown",
   "metadata": {},
   "source": [
    "#### Step 1.2.2: Engineer Mixed-Type Features\n",
    "\n",
    "There are a handful of features that are marked as \"mixed\" in the feature summary that require special treatment in order to be included in the analysis. There are two in particular that deserve attention; the handling of the rest are up to your own choices:\n",
    "- \"PRAEGENDE_JUGENDJAHRE\" combines information on three dimensions: generation by decade, movement (mainstream vs. avantgarde), and nation (east vs. west). While there aren't enough levels to disentangle east from west, you should create two new variables to capture the other two dimensions: an interval-type variable for decade, and a binary variable for movement.\n",
    "- \"CAMEO_INTL_2015\" combines information on two axes: wealth and life stage. Break up the two-digit codes by their 'tens'-place and 'ones'-place digits into two new ordinal variables (which, for the purposes of this project, is equivalent to just treating them as their raw numeric values).\n",
    "- If you decide to keep or engineer new features around the other mixed-type features, make sure you note your steps in the Discussion section.\n",
    "\n",
    "Be sure to check `Data_Dictionary.md` for the details needed to finish these tasks."
   ]
  },
  {
   "cell_type": "code",
   "execution_count": 57,
   "metadata": {},
   "outputs": [
    {
     "data": {
      "text/plain": [
       "14.0    177055\n",
       "8.0     137517\n",
       "10.0     83180\n",
       "5.0      82984\n",
       "3.0      52645\n",
       "15.0     40684\n",
       "11.0     34300\n",
       "9.0      32901\n",
       "6.0      25293\n",
       "12.0     23861\n",
       "4.0      20175\n",
       "1.0      19974\n",
       "2.0       7372\n",
       "13.0      5497\n",
       "7.0       3934\n",
       "Name: PRAEGENDE_JUGENDJAHRE, dtype: int64"
      ]
     },
     "execution_count": 57,
     "metadata": {},
     "output_type": "execute_result"
    }
   ],
   "source": [
    "# Investigate \"PRAEGENDE_JUGENDJAHRE\" and engineer two new variables.\n",
    "azdias[\"PRAEGENDE_JUGENDJAHRE\"].value_counts()"
   ]
  },
  {
   "cell_type": "markdown",
   "metadata": {},
   "source": [
    "1.18. PRAEGENDE_JUGENDJAHRE\n",
    "\n",
    "Dominating movement of person's youth (avantgarde vs. mainstream; east vs. west)\n",
    "- -1: unknown\n",
    "-  0: unknown\n",
    "-  1: 40s - war years (Mainstream, E+W)\n",
    "-  2: 40s - reconstruction years (Avantgarde, E+W)\n",
    "-  3: 50s - economic miracle (Mainstream, E+W)\n",
    "-  4: 50s - milk bar / Individualisation (Avantgarde, E+W)\n",
    "-  5: 60s - economic miracle (Mainstream, E+W)\n",
    "-  6: 60s - generation 68 / student protestors (Avantgarde, W)\n",
    "-  7: 60s - opponents to the building of the Wall (Avantgarde, E)\n",
    "-  8: 70s - family orientation (Mainstream, E+W)\n",
    "-  9: 70s - peace movement (Avantgarde, E+W)\n",
    "- 10: 80s - Generation Golf (Mainstream, W)\n",
    "- 11: 80s - ecological awareness (Avantgarde, W)\n",
    "- 12: 80s - FDJ / communist party youth organisation (Mainstream, E)\n",
    "- 13: 80s - Swords into ploughshares (Avantgarde, E)\n",
    "- 14: 90s - digital media kids (Mainstream, E+W)\n",
    "- 15: 90s - ecological awareness (Avantgarde, E+W)"
   ]
  },
  {
   "cell_type": "code",
   "execution_count": 58,
   "metadata": {},
   "outputs": [],
   "source": [
    "dict_decades = {1: 40, 2: 40, 3: 50, 4: 50, 5: 60, 6: 60,\n",
    "                7: 60, 8: 70, 9: 70, 10: 80, 11: 80, 12: 80,\n",
    "                13: 80, 14: 90, 15: 90}\n",
    "azdias[\"PRAEGENDE_JUGENDJAHRE_DECADES\"] = azdias[\"PRAEGENDE_JUGENDJAHRE\"]\\\n",
    ".replace(to_replace = dict_decades)\n",
    "\n",
    "# Avantgarden: 0, Mainstream: 1\n",
    "dict_movements = {1: \"Mainstream\", 2: \"Avantgarde\", 3: \"Mainstream\", 4: \"Avantgarde\", \n",
    "                  5: \"Mainstream\", 6: \"Avantgarde\", 7: \"Avantgarde\", 8: \"Mainstream\", \n",
    "                  9: \"Avantgarde\", 10: \"Mainstream\", 11: \"Avantgarde\", 12: \"Mainstream\", \n",
    "                  13: \"Avantgarde\", 14: \"Mainstream\", 15: \"Avantgarde\"}\n",
    "azdias[\"PRAEGENDE_JUGENDJAHRE_MOVEMENTS\"] = azdias[\"PRAEGENDE_JUGENDJAHRE\"]\\\n",
    ".replace(to_replace = dict_movements).replace(to_replace = {\"Avantgarde\": 0, \"Mainstream\": 1})"
   ]
  },
  {
   "cell_type": "code",
   "execution_count": 59,
   "metadata": {},
   "outputs": [
    {
     "data": {
      "text/html": [
       "<div>\n",
       "<style>\n",
       "    .dataframe thead tr:only-child th {\n",
       "        text-align: right;\n",
       "    }\n",
       "\n",
       "    .dataframe thead th {\n",
       "        text-align: left;\n",
       "    }\n",
       "\n",
       "    .dataframe tbody tr th {\n",
       "        vertical-align: top;\n",
       "    }\n",
       "</style>\n",
       "<table border=\"1\" class=\"dataframe\">\n",
       "  <thead>\n",
       "    <tr style=\"text-align: right;\">\n",
       "      <th></th>\n",
       "      <th>PRAEGENDE_JUGENDJAHRE</th>\n",
       "      <th>PRAEGENDE_JUGENDJAHRE_DECADES</th>\n",
       "      <th>PRAEGENDE_JUGENDJAHRE_MOVEMENTS</th>\n",
       "    </tr>\n",
       "  </thead>\n",
       "  <tbody>\n",
       "    <tr>\n",
       "      <th>76279</th>\n",
       "      <td>NaN</td>\n",
       "      <td>NaN</td>\n",
       "      <td>NaN</td>\n",
       "    </tr>\n",
       "    <tr>\n",
       "      <th>493154</th>\n",
       "      <td>14.0</td>\n",
       "      <td>90.0</td>\n",
       "      <td>1.0</td>\n",
       "    </tr>\n",
       "    <tr>\n",
       "      <th>361857</th>\n",
       "      <td>NaN</td>\n",
       "      <td>NaN</td>\n",
       "      <td>NaN</td>\n",
       "    </tr>\n",
       "    <tr>\n",
       "      <th>108690</th>\n",
       "      <td>12.0</td>\n",
       "      <td>80.0</td>\n",
       "      <td>1.0</td>\n",
       "    </tr>\n",
       "    <tr>\n",
       "      <th>52464</th>\n",
       "      <td>NaN</td>\n",
       "      <td>NaN</td>\n",
       "      <td>NaN</td>\n",
       "    </tr>\n",
       "  </tbody>\n",
       "</table>\n",
       "</div>"
      ],
      "text/plain": [
       "        PRAEGENDE_JUGENDJAHRE  PRAEGENDE_JUGENDJAHRE_DECADES  \\\n",
       "76279                     NaN                            NaN   \n",
       "493154                   14.0                           90.0   \n",
       "361857                    NaN                            NaN   \n",
       "108690                   12.0                           80.0   \n",
       "52464                     NaN                            NaN   \n",
       "\n",
       "        PRAEGENDE_JUGENDJAHRE_MOVEMENTS  \n",
       "76279                               NaN  \n",
       "493154                              1.0  \n",
       "361857                              NaN  \n",
       "108690                              1.0  \n",
       "52464                               NaN  "
      ]
     },
     "execution_count": 59,
     "metadata": {},
     "output_type": "execute_result"
    }
   ],
   "source": [
    "azdias[[\"PRAEGENDE_JUGENDJAHRE\", \"PRAEGENDE_JUGENDJAHRE_DECADES\", \"PRAEGENDE_JUGENDJAHRE_MOVEMENTS\"]].head(5)#.info()"
   ]
  },
  {
   "cell_type": "code",
   "execution_count": 60,
   "metadata": {},
   "outputs": [
    {
     "data": {
      "text/plain": [
       "51    131800\n",
       "41     90199\n",
       "24     88313\n",
       "14     60741\n",
       "43     55285\n",
       "54     44601\n",
       "25     38401\n",
       "22     31827\n",
       "45     25524\n",
       "13     25348\n",
       "23     23882\n",
       "55     23244\n",
       "52     20207\n",
       "34     18061\n",
       "31     17596\n",
       "15     16587\n",
       "44     14455\n",
       "12     12618\n",
       "35     10100\n",
       "32     10052\n",
       "33      9521\n",
       "Name: CAMEO_INTL_2015, dtype: int64"
      ]
     },
     "execution_count": 60,
     "metadata": {},
     "output_type": "execute_result"
    }
   ],
   "source": [
    "# Investigate \"CAMEO_INTL_2015\" and engineer two new variables.\n",
    "azdias[\"CAMEO_INTL_2015\"].value_counts()"
   ]
  },
  {
   "cell_type": "code",
   "execution_count": 61,
   "metadata": {},
   "outputs": [
    {
     "name": "stdout",
     "output_type": "stream",
     "text": [
      "<class 'pandas.core.frame.DataFrame'>\n",
      "Int64Index: 771701 entries, 76279 to 891220\n",
      "Data columns (total 1 columns):\n",
      "CAMEO_INTL_2015    768362 non-null object\n",
      "dtypes: object(1)\n",
      "memory usage: 11.8+ MB\n"
     ]
    }
   ],
   "source": [
    "azdias[[\"CAMEO_INTL_2015\"]].info()"
   ]
  },
  {
   "cell_type": "code",
   "execution_count": 62,
   "metadata": {},
   "outputs": [],
   "source": [
    "def cameo_intl_2015_wealth(cameo_intl_2015):\n",
    "    try:\n",
    "        k = int(cameo_intl_2015)\n",
    "    except:\n",
    "        k = np.nan\n",
    "        \n",
    "    return k//10\n",
    "\n",
    "def cameo_intl_2015_life(cameo_intl_2015):\n",
    "    try:\n",
    "        k = int(cameo_intl_2015)\n",
    "    except:\n",
    "        k = np.nan\n",
    "        \n",
    "    return k%10"
   ]
  },
  {
   "cell_type": "code",
   "execution_count": 63,
   "metadata": {},
   "outputs": [],
   "source": [
    "azdias[\"CAMEO_INTL_2015_WEALTH\"] = azdias[\"CAMEO_INTL_2015\"].apply(cameo_intl_2015_wealth)\n",
    "azdias[\"CAMEO_INTL_2015_LIFE\"] = azdias[\"CAMEO_INTL_2015\"].apply(cameo_intl_2015_life)"
   ]
  },
  {
   "cell_type": "code",
   "execution_count": 65,
   "metadata": {},
   "outputs": [
    {
     "data": {
      "text/html": [
       "<div>\n",
       "<style>\n",
       "    .dataframe thead tr:only-child th {\n",
       "        text-align: right;\n",
       "    }\n",
       "\n",
       "    .dataframe thead th {\n",
       "        text-align: left;\n",
       "    }\n",
       "\n",
       "    .dataframe tbody tr th {\n",
       "        vertical-align: top;\n",
       "    }\n",
       "</style>\n",
       "<table border=\"1\" class=\"dataframe\">\n",
       "  <thead>\n",
       "    <tr style=\"text-align: right;\">\n",
       "      <th></th>\n",
       "      <th>CAMEO_INTL_2015</th>\n",
       "      <th>CAMEO_INTL_2015_WEALTH</th>\n",
       "      <th>CAMEO_INTL_2015_LIFE</th>\n",
       "    </tr>\n",
       "  </thead>\n",
       "  <tbody>\n",
       "    <tr>\n",
       "      <th>76279</th>\n",
       "      <td>51</td>\n",
       "      <td>5.0</td>\n",
       "      <td>1.0</td>\n",
       "    </tr>\n",
       "    <tr>\n",
       "      <th>493154</th>\n",
       "      <td>32</td>\n",
       "      <td>3.0</td>\n",
       "      <td>2.0</td>\n",
       "    </tr>\n",
       "    <tr>\n",
       "      <th>108690</th>\n",
       "      <td>25</td>\n",
       "      <td>2.0</td>\n",
       "      <td>5.0</td>\n",
       "    </tr>\n",
       "    <tr>\n",
       "      <th>148374</th>\n",
       "      <td>13</td>\n",
       "      <td>1.0</td>\n",
       "      <td>3.0</td>\n",
       "    </tr>\n",
       "    <tr>\n",
       "      <th>410085</th>\n",
       "      <td>23</td>\n",
       "      <td>2.0</td>\n",
       "      <td>3.0</td>\n",
       "    </tr>\n",
       "    <tr>\n",
       "      <th>641619</th>\n",
       "      <td>33</td>\n",
       "      <td>3.0</td>\n",
       "      <td>3.0</td>\n",
       "    </tr>\n",
       "    <tr>\n",
       "      <th>79323</th>\n",
       "      <td>14</td>\n",
       "      <td>1.0</td>\n",
       "      <td>4.0</td>\n",
       "    </tr>\n",
       "    <tr>\n",
       "      <th>789513</th>\n",
       "      <td>43</td>\n",
       "      <td>4.0</td>\n",
       "      <td>3.0</td>\n",
       "    </tr>\n",
       "    <tr>\n",
       "      <th>606173</th>\n",
       "      <td>52</td>\n",
       "      <td>5.0</td>\n",
       "      <td>2.0</td>\n",
       "    </tr>\n",
       "    <tr>\n",
       "      <th>212576</th>\n",
       "      <td>44</td>\n",
       "      <td>4.0</td>\n",
       "      <td>4.0</td>\n",
       "    </tr>\n",
       "    <tr>\n",
       "      <th>410059</th>\n",
       "      <td>31</td>\n",
       "      <td>3.0</td>\n",
       "      <td>1.0</td>\n",
       "    </tr>\n",
       "    <tr>\n",
       "      <th>361869</th>\n",
       "      <td>54</td>\n",
       "      <td>5.0</td>\n",
       "      <td>4.0</td>\n",
       "    </tr>\n",
       "    <tr>\n",
       "      <th>406746</th>\n",
       "      <td>34</td>\n",
       "      <td>3.0</td>\n",
       "      <td>4.0</td>\n",
       "    </tr>\n",
       "    <tr>\n",
       "      <th>603907</th>\n",
       "      <td>35</td>\n",
       "      <td>3.0</td>\n",
       "      <td>5.0</td>\n",
       "    </tr>\n",
       "    <tr>\n",
       "      <th>437337</th>\n",
       "      <td>24</td>\n",
       "      <td>2.0</td>\n",
       "      <td>4.0</td>\n",
       "    </tr>\n",
       "    <tr>\n",
       "      <th>362379</th>\n",
       "      <td>55</td>\n",
       "      <td>5.0</td>\n",
       "      <td>5.0</td>\n",
       "    </tr>\n",
       "    <tr>\n",
       "      <th>75845</th>\n",
       "      <td>41</td>\n",
       "      <td>4.0</td>\n",
       "      <td>1.0</td>\n",
       "    </tr>\n",
       "    <tr>\n",
       "      <th>357154</th>\n",
       "      <td>12</td>\n",
       "      <td>1.0</td>\n",
       "      <td>2.0</td>\n",
       "    </tr>\n",
       "    <tr>\n",
       "      <th>637399</th>\n",
       "      <td>22</td>\n",
       "      <td>2.0</td>\n",
       "      <td>2.0</td>\n",
       "    </tr>\n",
       "    <tr>\n",
       "      <th>493334</th>\n",
       "      <td>45</td>\n",
       "      <td>4.0</td>\n",
       "      <td>5.0</td>\n",
       "    </tr>\n",
       "    <tr>\n",
       "      <th>212863</th>\n",
       "      <td>15</td>\n",
       "      <td>1.0</td>\n",
       "      <td>5.0</td>\n",
       "    </tr>\n",
       "    <tr>\n",
       "      <th>405961</th>\n",
       "      <td>NaN</td>\n",
       "      <td>NaN</td>\n",
       "      <td>NaN</td>\n",
       "    </tr>\n",
       "  </tbody>\n",
       "</table>\n",
       "</div>"
      ],
      "text/plain": [
       "       CAMEO_INTL_2015  CAMEO_INTL_2015_WEALTH  CAMEO_INTL_2015_LIFE\n",
       "76279               51                     5.0                   1.0\n",
       "493154              32                     3.0                   2.0\n",
       "108690              25                     2.0                   5.0\n",
       "148374              13                     1.0                   3.0\n",
       "410085              23                     2.0                   3.0\n",
       "641619              33                     3.0                   3.0\n",
       "79323               14                     1.0                   4.0\n",
       "789513              43                     4.0                   3.0\n",
       "606173              52                     5.0                   2.0\n",
       "212576              44                     4.0                   4.0\n",
       "410059              31                     3.0                   1.0\n",
       "361869              54                     5.0                   4.0\n",
       "406746              34                     3.0                   4.0\n",
       "603907              35                     3.0                   5.0\n",
       "437337              24                     2.0                   4.0\n",
       "362379              55                     5.0                   5.0\n",
       "75845               41                     4.0                   1.0\n",
       "357154              12                     1.0                   2.0\n",
       "637399              22                     2.0                   2.0\n",
       "493334              45                     4.0                   5.0\n",
       "212863              15                     1.0                   5.0\n",
       "405961             NaN                     NaN                   NaN"
      ]
     },
     "execution_count": 65,
     "metadata": {},
     "output_type": "execute_result"
    }
   ],
   "source": [
    "azdias[[\"CAMEO_INTL_2015\", \"CAMEO_INTL_2015_WEALTH\", \"CAMEO_INTL_2015_LIFE\"]].drop_duplicates(keep = \"first\")"
   ]
  },
  {
   "cell_type": "code",
   "execution_count": 66,
   "metadata": {},
   "outputs": [],
   "source": [
    "azdias.drop([\"PRAEGENDE_JUGENDJAHRE\", \"CAMEO_INTL_2015\"], axis = 1, inplace = True)"
   ]
  },
  {
   "cell_type": "code",
   "execution_count": null,
   "metadata": {},
   "outputs": [],
   "source": []
  },
  {
   "cell_type": "markdown",
   "metadata": {},
   "source": [
    "#### Discussion 1.2.2: Engineer Mixed-Type Features\n",
    "\n",
    "(Double-click this cell and replace this text with your own text, reporting your findings and decisions regarding mixed-value features. Which ones did you keep, which did you drop, and what engineering steps did you perform?)"
   ]
  },
  {
   "cell_type": "code",
   "execution_count": 67,
   "metadata": {},
   "outputs": [
    {
     "data": {
      "text/plain": [
       "Index(['LP_LEBENSPHASE_FEIN', 'LP_LEBENSPHASE_GROB', 'PRAEGENDE_JUGENDJAHRE',\n",
       "       'WOHNLAGE', 'CAMEO_INTL_2015', 'KBA05_BAUMAX', 'PLZ8_BAUMAX'],\n",
       "      dtype='object', name='attribute')"
      ]
     },
     "execution_count": 67,
     "metadata": {},
     "output_type": "execute_result"
    }
   ],
   "source": [
    "# Other Mixed Type Features\n",
    "feat_info[feat_info[\"type\"] == \"mixed\"].index"
   ]
  },
  {
   "cell_type": "code",
   "execution_count": 68,
   "metadata": {},
   "outputs": [
    {
     "name": "stdout",
     "output_type": "stream",
     "text": [
      "Dropped Mixed Features:  {'CAMEO_INTL_2015', 'PRAEGENDE_JUGENDJAHRE', 'KBA05_BAUMAX'} \n",
      "\n",
      "Remaining Mixed Features:  {'LP_LEBENSPHASE_GROB', 'PLZ8_BAUMAX', 'LP_LEBENSPHASE_FEIN', 'WOHNLAGE'}\n"
     ]
    }
   ],
   "source": [
    "mixed_checklist = feat_info[feat_info[\"type\"] == \"mixed\"].index\n",
    "dropped_mixed = []\n",
    "\n",
    "for mixed_feature in mixed_checklist:\n",
    "    if mixed_feature not in azdias.columns:\n",
    "        dropped_mixed.append(mixed_feature)\n",
    "        \n",
    "print (\"Dropped Mixed Features: \", set(dropped_mixed), \"\\n\")   \n",
    "print (\"Remaining Mixed Features: \", set(mixed_checklist)- set(dropped_mixed))"
   ]
  },
  {
   "cell_type": "markdown",
   "metadata": {},
   "source": [
    "1. `LP_LEBENSPHASE_FEIN` and `LP_LEBENSPHASE_GROB` contain Life Stage information and `LP_LEBENSPHASE_FEIN` is recorded in a fine scale while `LP_LEBENSPHASE_GROB` is in a rough scale. As `CAMEO_INTL_2015` also contains Life Stage information, will remove both `LP_LEBENSPHASE_FEIN` and `LP_LEBENSPHASE_GROB`.\n",
    "1. `WOHNLAGE` contains information about Neighborhood quality (or rural flag). From dictionary we find that `REGIOTYP` contains Neighborhood typology information and `BALLRAUM` contains information about distance to nearest urban center, which is able to flag rural areas. Therefore `WOHNLAGE` will be removed.\n",
    "1. `PLZ8_BAUMAX` is about most common building type within the PLZ8 region. Will drop this feature as it can be represented by other features in PLZ8 macro-cell features."
   ]
  },
  {
   "cell_type": "code",
   "execution_count": 69,
   "metadata": {},
   "outputs": [],
   "source": [
    "azdias.drop([\"LP_LEBENSPHASE_FEIN\", \"LP_LEBENSPHASE_GROB\", \"WOHNLAGE\", \"PLZ8_BAUMAX\"], \n",
    "            axis = 1, inplace = True)"
   ]
  },
  {
   "cell_type": "code",
   "execution_count": 70,
   "metadata": {},
   "outputs": [
    {
     "data": {
      "text/plain": [
       "(771701, 123)"
      ]
     },
     "execution_count": 70,
     "metadata": {},
     "output_type": "execute_result"
    }
   ],
   "source": [
    "azdias.shape"
   ]
  },
  {
   "cell_type": "code",
   "execution_count": 71,
   "metadata": {},
   "outputs": [],
   "source": [
    "azdias.to_csv(\"azdias_cleaned.csv\", sep=';', index = False)"
   ]
  },
  {
   "cell_type": "code",
   "execution_count": null,
   "metadata": {},
   "outputs": [],
   "source": [
    "#azdias = pd.read_csv(\"azdias_cleaned.csv\", delimiter = \";\")"
   ]
  },
  {
   "cell_type": "code",
   "execution_count": null,
   "metadata": {},
   "outputs": [],
   "source": [
    "#azdias.shape"
   ]
  },
  {
   "cell_type": "markdown",
   "metadata": {},
   "source": [
    "#### Step 1.2.3: Complete Feature Selection\n",
    "\n",
    "In order to finish this step up, you need to make sure that your data frame now only has the columns that you want to keep. To summarize, the dataframe should consist of the following:\n",
    "- All numeric, interval, and ordinal type columns from the original dataset.\n",
    "- Binary categorical features (all numerically-encoded).\n",
    "- Engineered features from other multi-level categorical features and mixed features.\n",
    "\n",
    "Make sure that for any new columns that you have engineered, that you've excluded the original columns from the final dataset. Otherwise, their values will interfere with the analysis later on the project. For example, you should not keep \"PRAEGENDE_JUGENDJAHRE\", since its values won't be useful for the algorithm: only the values derived from it in the engineered features you created should be retained. As a reminder, your data should only be from **the subset with few or no missing values**."
   ]
  },
  {
   "cell_type": "code",
   "execution_count": null,
   "metadata": {},
   "outputs": [],
   "source": [
    "# If there are other re-engineering tasks you need to perform, make sure you\n",
    "# take care of them here. (Dealing with missing data will come in step 2.1.)"
   ]
  },
  {
   "cell_type": "code",
   "execution_count": null,
   "metadata": {},
   "outputs": [],
   "source": [
    "# Do whatever you need to in order to ensure that the dataframe only contains\n",
    "# the columns that should be passed to the algorithm functions."
   ]
  },
  {
   "cell_type": "markdown",
   "metadata": {},
   "source": [
    "### Step 1.3: Create a Cleaning Function\n",
    "\n",
    "Even though you've finished cleaning up the general population demographics data, it's important to look ahead to the future and realize that you'll need to perform the same cleaning steps on the customer demographics data. In this substep, complete the function below to execute the main feature selection, encoding, and re-engineering steps you performed above. Then, when it comes to looking at the customer data in Step 3, you can just run this function on that DataFrame to get the trimmed dataset in a single step."
   ]
  },
  {
   "cell_type": "code",
   "execution_count": 122,
   "metadata": {},
   "outputs": [],
   "source": [
    "def clean_data(df):\n",
    "    \"\"\"\n",
    "    Perform feature trimming, re-encoding, and engineering for demographics\n",
    "    data\n",
    "    \n",
    "    INPUT: Demographics DataFrame\n",
    "    OUTPUT: Trimmed and cleaned demographics DataFrame\n",
    "    \"\"\"\n",
    "    import copy\n",
    "    df_process = copy.deepcopy(df)\n",
    "    \n",
    "    feat_info = pd.read_csv(\"AZDIAS_Feature_Summary.csv\", delimiter = \";\")\n",
    "    feat_info.set_index(\"attribute\", inplace = True)\n",
    "    \n",
    "    missing_df = \\\n",
    "    feat_info.missing_or_unknown.str.strip('[').str.strip(']').str.split(',', expand = True)\\\n",
    "    .rename(columns = lambda x: \"col_\" + str(x)).T\n",
    "\n",
    "\n",
    "    for col in missing_df.columns:\n",
    "        try:\n",
    "            missing_df[col] = missing_df[col].astype(float)\n",
    "        except:\n",
    "            continue\n",
    "\n",
    "\n",
    "    for col in df_process.columns:\n",
    "        try:\n",
    "            df_process[col] = df_process[col].astype(float)\n",
    "        except:\n",
    "            continue\n",
    "\n",
    "    # Put in code here to execute all main cleaning steps:\n",
    "    # convert missing value codes into NaNs, ...\n",
    "    df_process.replace(missing_df.to_dict(orient = 'list'), np.nan, inplace = True)    \n",
    "      \n",
    "    # remove selected columns and rows, ...\n",
    "    ### Romove columns\n",
    "    drop_features = ['TITEL_KZ', 'AGER_TYP', 'KK_KUNDENTYP', \n",
    "    'KBA05_BAUMAX', 'GEBURTSJAHR', 'ALTER_HH']\n",
    "    df_process.drop(drop_features, axis=1, inplace=True)\n",
    "    ### Remove Rows\n",
    "    df_process[\"count_missing_row\"] = df_process.isnull().sum(axis = 1)\n",
    "    df_process[\"pct_missing_row\"] = df_process[\"count_missing_row\"] / df_process.shape[1] * 100.00\n",
    "\n",
    "    df_process = df_process[df_process[\"pct_missing_row\"] <= 10.0].copy(deep = True)\n",
    "    df_process.drop([\"count_missing_row\", \"pct_missing_row\"], axis = 1, inplace = True)\n",
    "\n",
    "    # select, re-encode, and engineer column values.\n",
    "    \n",
    "    ### Drop No Longer Needed Categorical Features\n",
    "    drop_categorical_features = [\"FINANZTYP\", \"LP_FAMILIE_GROB\", \"LP_STATUS_GROB\", \"CAMEO_DEUG_2015\", \n",
    "                                 \"CAMEO_DEU_2015\"]\n",
    "    df_process.drop(drop_categorical_features, axis = 1, inplace = True)\n",
    "    ### Re-encoding Binary Features\n",
    "    df_process[\"OST_WEST_KZ\"] = df_process[\"OST_WEST_KZ\"].replace(\"W\",1).replace(\"O\",0)\n",
    "    ### Re-encoding Multi-Level Features\n",
    "    categorial_features_transform = \\\n",
    "    [\"CJT_GESAMTTYP\", \"GFK_URLAUBERTYP\", \"LP_FAMILIE_FEIN\", \"LP_STATUS_FEIN\", \n",
    "    \"NATIONALITAET_KZ\", \"SHOPPER_TYP\", \"ZABEOTYP\", \"GEBAEUDETYP\"]\n",
    "    df_process = pd.get_dummies(df_process, columns = categorial_features_transform)\n",
    "\n",
    "    \n",
    "    ### Engineer Mixed-Type Feature\n",
    "    ##### PRAEGENDE_JUGENDJAHRE\n",
    "    dict_decades = {1: 40, 2: 40, 3: 50, 4: 50, 5: 60, 6: 60,\n",
    "                    7: 60, 8: 70, 9: 70, 10: 80, 11: 80, 12: 80,\n",
    "                    13: 80, 14: 90, 15: 90}\n",
    "    df_process[\"PRAEGENDE_JUGENDJAHRE_DECADES\"] = df_process[\"PRAEGENDE_JUGENDJAHRE\"]\\\n",
    "    .replace(to_replace = dict_decades)\n",
    "    \n",
    "    # Avantgarden: 0, Mainstream: 1\n",
    "    dict_movements = {1: \"Mainstream\", 2: \"Avantgarde\", 3: \"Mainstream\", 4: \"Avantgarde\", \n",
    "                      5: \"Mainstream\", 6: \"Avantgarde\", 7: \"Avantgarde\", 8: \"Mainstream\", \n",
    "                      9: \"Avantgarde\", 10: \"Mainstream\", 11: \"Avantgarde\", 12: \"Mainstream\", \n",
    "                      13: \"Avantgarde\", 14: \"Mainstream\", 15: \"Avantgarde\"}\n",
    "    df_process[\"PRAEGENDE_JUGENDJAHRE_MOVEMENTS\"] = df_process[\"PRAEGENDE_JUGENDJAHRE\"]\\\n",
    "    .replace(to_replace = dict_movements).replace(to_replace = {\"Avantgarde\": 0, \"Mainstream\": 1})\n",
    "\n",
    "    ##### CAMEO_INTL_2015\n",
    "    def cameo_intl_2015_wealth(cameo_intl_2015):\n",
    "        try:\n",
    "            k = int(cameo_intl_2015)\n",
    "        except:\n",
    "            k = np.nan\n",
    "        \n",
    "        return k//10\n",
    "\n",
    "    def cameo_intl_2015_life(cameo_intl_2015):\n",
    "        try:\n",
    "            k = int(cameo_intl_2015)\n",
    "        except:\n",
    "            k = np.nan\n",
    "        \n",
    "        return k%10\n",
    "\n",
    "    df_process[\"CAMEO_INTL_2015_WEALTH\"] = df_process[\"CAMEO_INTL_2015\"].apply(cameo_intl_2015_wealth)\n",
    "    df_process[\"CAMEO_INTL_2015_LIFE\"] = df_process[\"CAMEO_INTL_2015\"].apply(cameo_intl_2015_life)\n",
    "\n",
    "    ### Drop Original Columns after Engineering AND Other No-Longer Needed Mixed Type Columns\n",
    "    drop_mixed_original_features = \\\n",
    "    [\"PRAEGENDE_JUGENDJAHRE\", \"CAMEO_INTL_2015\", \"LP_LEBENSPHASE_FEIN\", \n",
    "    \"LP_LEBENSPHASE_GROB\", \"WOHNLAGE\", \"PLZ8_BAUMAX\"]\n",
    "    df_process.drop(drop_mixed_original_features, axis = 1, inplace = True)\n",
    "   \n",
    "    # Return the cleaned dataframe.\n",
    "    return df_process"
   ]
  },
  {
   "cell_type": "markdown",
   "metadata": {},
   "source": [
    "## Step 2: Feature Transformation\n",
    "\n",
    "### Step 2.1: Apply Feature Scaling\n",
    "\n",
    "Before we apply dimensionality reduction techniques to the data, we need to perform feature scaling so that the principal component vectors are not influenced by the natural differences in scale for features. Starting from this part of the project, you'll want to keep an eye on the [API reference page for sklearn](http://scikit-learn.org/stable/modules/classes.html) to help you navigate to all of the classes and functions that you'll need. In this substep, you'll need to check the following:\n",
    "\n",
    "- sklearn requires that data not have missing values in order for its estimators to work properly. So, before applying the scaler to your data, make sure that you've cleaned the DataFrame of the remaining missing values. This can be as simple as just removing all data points with missing data, or applying an [Imputer](http://scikit-learn.org/stable/modules/generated/sklearn.preprocessing.Imputer.html) to replace all missing values. You might also try a more complicated procedure where you temporarily remove missing values in order to compute the scaling parameters before re-introducing those missing values and applying imputation. Think about how much missing data you have and what possible effects each approach might have on your analysis, and justify your decision in the discussion section below.\n",
    "- For the actual scaling function, a [StandardScaler](http://scikit-learn.org/stable/modules/generated/sklearn.preprocessing.StandardScaler.html) instance is suggested, scaling each feature to mean 0 and standard deviation 1.\n",
    "- For these classes, you can make use of the `.fit_transform()` method to both fit a procedure to the data as well as apply the transformation to the data at the same time. Don't forget to keep the fit sklearn objects handy, since you'll be applying them to the customer demographics data towards the end of the project."
   ]
  },
  {
   "cell_type": "code",
   "execution_count": 75,
   "metadata": {},
   "outputs": [
    {
     "data": {
      "text/plain": [
       "487905"
      ]
     },
     "execution_count": 75,
     "metadata": {},
     "output_type": "execute_result"
    }
   ],
   "source": [
    "# If you've not yet cleaned the dataset of all NaN values, then investigate and\n",
    "# do that now.\n",
    "azdias.isnull().sum().sum()"
   ]
  },
  {
   "cell_type": "markdown",
   "metadata": {},
   "source": [
    "We still have over 487905 missing values in our cleaned data set. In this dataset, as numbers are representing different categories of a feature, will use most frequently appeared to replace all missing values."
   ]
  },
  {
   "cell_type": "code",
   "execution_count": 89,
   "metadata": {},
   "outputs": [],
   "source": [
    "for col in azdias.columns:\n",
    "    azdias[col] = azdias[col].fillna(azdias[col].mode()[0])"
   ]
  },
  {
   "cell_type": "code",
   "execution_count": 90,
   "metadata": {},
   "outputs": [
    {
     "name": "stdout",
     "output_type": "stream",
     "text": [
      "Number of Missing Values after Imputation:  0\n"
     ]
    }
   ],
   "source": [
    "print (\"Number of Missing Values after Imputation: \", azdias.isnull().sum().sum())"
   ]
  },
  {
   "cell_type": "code",
   "execution_count": null,
   "metadata": {},
   "outputs": [],
   "source": []
  },
  {
   "cell_type": "code",
   "execution_count": 91,
   "metadata": {},
   "outputs": [],
   "source": [
    "# Apply feature scaling to the general population demographics data.\n",
    "from sklearn.preprocessing import StandardScaler\n",
    "scaler = StandardScaler().fit(azdias)"
   ]
  },
  {
   "cell_type": "code",
   "execution_count": 92,
   "metadata": {},
   "outputs": [],
   "source": [
    "azdias_std_scaled = pd.DataFrame(data = scaler.transform(azdias), columns = azdias.columns)"
   ]
  },
  {
   "cell_type": "code",
   "execution_count": 93,
   "metadata": {},
   "outputs": [
    {
     "data": {
      "text/html": [
       "<div>\n",
       "<style>\n",
       "    .dataframe thead tr:only-child th {\n",
       "        text-align: right;\n",
       "    }\n",
       "\n",
       "    .dataframe thead th {\n",
       "        text-align: left;\n",
       "    }\n",
       "\n",
       "    .dataframe tbody tr th {\n",
       "        vertical-align: top;\n",
       "    }\n",
       "</style>\n",
       "<table border=\"1\" class=\"dataframe\">\n",
       "  <thead>\n",
       "    <tr style=\"text-align: right;\">\n",
       "      <th></th>\n",
       "      <th>ALTERSKATEGORIE_GROB</th>\n",
       "      <th>ANREDE_KZ</th>\n",
       "      <th>FINANZ_MINIMALIST</th>\n",
       "      <th>FINANZ_SPARER</th>\n",
       "      <th>FINANZ_VORSORGER</th>\n",
       "    </tr>\n",
       "  </thead>\n",
       "  <tbody>\n",
       "    <tr>\n",
       "      <th>0</th>\n",
       "      <td>0.199826</td>\n",
       "      <td>0.959073</td>\n",
       "      <td>-1.488002</td>\n",
       "      <td>1.539656</td>\n",
       "      <td>-0.317869</td>\n",
       "    </tr>\n",
       "    <tr>\n",
       "      <th>1</th>\n",
       "      <td>-0.782389</td>\n",
       "      <td>0.959073</td>\n",
       "      <td>-1.488002</td>\n",
       "      <td>0.866704</td>\n",
       "      <td>-0.317869</td>\n",
       "    </tr>\n",
       "    <tr>\n",
       "      <th>2</th>\n",
       "      <td>0.199826</td>\n",
       "      <td>0.959073</td>\n",
       "      <td>-1.488002</td>\n",
       "      <td>0.866704</td>\n",
       "      <td>-1.043931</td>\n",
       "    </tr>\n",
       "    <tr>\n",
       "      <th>3</th>\n",
       "      <td>0.199826</td>\n",
       "      <td>0.959073</td>\n",
       "      <td>0.690044</td>\n",
       "      <td>0.193752</td>\n",
       "      <td>-0.317869</td>\n",
       "    </tr>\n",
       "    <tr>\n",
       "      <th>4</th>\n",
       "      <td>0.199826</td>\n",
       "      <td>-1.042673</td>\n",
       "      <td>-1.488002</td>\n",
       "      <td>1.539656</td>\n",
       "      <td>-1.043931</td>\n",
       "    </tr>\n",
       "  </tbody>\n",
       "</table>\n",
       "</div>"
      ],
      "text/plain": [
       "   ALTERSKATEGORIE_GROB  ANREDE_KZ  FINANZ_MINIMALIST  FINANZ_SPARER  \\\n",
       "0              0.199826   0.959073          -1.488002       1.539656   \n",
       "1             -0.782389   0.959073          -1.488002       0.866704   \n",
       "2              0.199826   0.959073          -1.488002       0.866704   \n",
       "3              0.199826   0.959073           0.690044       0.193752   \n",
       "4              0.199826  -1.042673          -1.488002       1.539656   \n",
       "\n",
       "   FINANZ_VORSORGER  \n",
       "0         -0.317869  \n",
       "1         -0.317869  \n",
       "2         -1.043931  \n",
       "3         -0.317869  \n",
       "4         -1.043931  "
      ]
     },
     "execution_count": 93,
     "metadata": {},
     "output_type": "execute_result"
    }
   ],
   "source": [
    "azdias_std_scaled.head().iloc[: , :5]"
   ]
  },
  {
   "cell_type": "code",
   "execution_count": null,
   "metadata": {},
   "outputs": [],
   "source": []
  },
  {
   "cell_type": "code",
   "execution_count": null,
   "metadata": {},
   "outputs": [],
   "source": []
  },
  {
   "cell_type": "markdown",
   "metadata": {},
   "source": [
    "### Discussion 2.1: Apply Feature Scaling\n",
    "\n",
    "(Double-click this cell and replace this text with your own text, reporting your decisions regarding feature scaling.)\n",
    "\n",
    "\n",
    "1. Missing Values are replaced by the most frequently observed value in each column based on the meaning of values in each cloumn.\n",
    "1. After replacing missing values, standard scaler was applied to scale each feature to mean 0 and standard deviation 1 one."
   ]
  },
  {
   "cell_type": "markdown",
   "metadata": {},
   "source": [
    "### Step 2.2: Perform Dimensionality Reduction\n",
    "\n",
    "On your scaled data, you are now ready to apply dimensionality reduction techniques.\n",
    "\n",
    "- Use sklearn's [PCA](http://scikit-learn.org/stable/modules/generated/sklearn.decomposition.PCA.html) class to apply principal component analysis on the data, thus finding the vectors of maximal variance in the data. To start, you should not set any parameters (so all components are computed) or set a number of components that is at least half the number of features (so there's enough features to see the general trend in variability).\n",
    "- Check out the ratio of variance explained by each principal component as well as the cumulative variance explained. Try plotting the cumulative or sequential values using matplotlib's [`plot()`](https://matplotlib.org/api/_as_gen/matplotlib.pyplot.plot.html) function. Based on what you find, select a value for the number of transformed features you'll retain for the clustering part of the project.\n",
    "- Once you've made a choice for the number of components to keep, make sure you re-fit a PCA instance to perform the decided-on transformation."
   ]
  },
  {
   "cell_type": "code",
   "execution_count": 94,
   "metadata": {},
   "outputs": [],
   "source": [
    "# Apply PCA to the data.\n",
    "from sklearn.decomposition import PCA\n",
    "\n",
    "model_pca = PCA(random_state = 42)\n",
    "azdias_std_scaled_pca = model_pca.fit_transform(azdias_std_scaled)"
   ]
  },
  {
   "cell_type": "code",
   "execution_count": 95,
   "metadata": {},
   "outputs": [
    {
     "data": {
      "text/plain": [
       "array([[  5.90644695e+00,   6.24835103e-01,  -2.10512767e+00, ...,\n",
       "         -9.25732556e-15,  -3.78837290e-14,  -1.31150453e-13],\n",
       "       [ -1.05165661e+00,  -4.98902059e+00,  -3.94925952e+00, ...,\n",
       "          3.50871472e-14,   1.24017118e-13,  -1.44985845e-14],\n",
       "       [  7.24546511e+00,   1.48479743e+00,  -1.68319205e+00, ...,\n",
       "          6.48959015e-15,  -5.22861617e-14,   1.70705083e-13],\n",
       "       ..., \n",
       "       [  9.56652944e-01,  -2.43477999e+00,   3.33005213e+00, ...,\n",
       "         -1.38639343e-16,   1.38542947e-16,   5.00317480e-17],\n",
       "       [  6.23862382e+00,  -2.93584359e+00,   2.83413381e+00, ...,\n",
       "         -5.68181929e-17,   1.86721595e-16,   1.41082505e-16],\n",
       "       [ -1.72085463e-01,   2.15132895e+00,   2.66173530e+00, ...,\n",
       "          4.81573990e-16,  -3.92475352e-16,  -1.86704208e-17]])"
      ]
     },
     "execution_count": 95,
     "metadata": {},
     "output_type": "execute_result"
    }
   ],
   "source": [
    "azdias_std_scaled_pca"
   ]
  },
  {
   "cell_type": "code",
   "execution_count": 96,
   "metadata": {},
   "outputs": [],
   "source": [
    "# Scree_Plot function is defined based on Udacity DSND Cource Resource\n",
    "def scree_plot(pca, figsize):\n",
    "    '''\n",
    "    Creates a scree plot associated with the principal components \n",
    "    \n",
    "    INPUT: pca - the result of instantian of PCA in scikit learn\n",
    "            \n",
    "    OUTPUT:\n",
    "            None\n",
    "    '''\n",
    "    num_components=len(pca.explained_variance_ratio_)\n",
    "    ind = np.arange(num_components)\n",
    "    vals = pca.explained_variance_ratio_\n",
    " \n",
    "    plt.figure(figsize=figsize)\n",
    "    ax = plt.subplot(111)\n",
    "    cumvals = np.cumsum(vals)\n",
    "    ax.bar(ind, vals)\n",
    "    ax.plot(ind, cumvals)\n",
    "    for i in range(num_components):\n",
    "        ax.annotate(r\"%s%%\" % ((str(vals[i]*100)[:4])), (ind[i]+0.2, vals[i]), va=\"bottom\", ha=\"center\", fontsize=12)\n",
    " \n",
    "    ax.xaxis.set_tick_params(width=0)\n",
    "    ax.yaxis.set_tick_params(width=2, length=12)\n",
    " \n",
    "    ax.set_xlabel(\"Principal Component\", fontsize = 18)\n",
    "    ax.set_ylabel(\"Variance Explained (%)\", fontsize = 18)\n",
    "    ax.set_xticks(np.arange(0, num_components, 10));\n",
    "    ax.set_xticklabels(np.arange(0, num_components, 10), fontsize = 18, minor = False);\n",
    "    #ax.set_yticklabels(fontsize = 18);\n",
    "    plt.title('Explained Variance Per Principal Component', fontsize = 18)"
   ]
  },
  {
   "cell_type": "code",
   "execution_count": 97,
   "metadata": {},
   "outputs": [
    {
     "data": {
      "image/png": "[encoded data removed]",
      "text/plain": [
       "<matplotlib.figure.Figure at 0x7fc80f902cc0>"
      ]
     },
     "metadata": {
      "needs_background": "light"
     },
     "output_type": "display_data"
    }
   ],
   "source": [
    "# Investigate the variance accounted for by each principal component.\n",
    "scree_plot(model_pca, figsize = (25,10))"
   ]
  },
  {
   "cell_type": "code",
   "execution_count": 98,
   "metadata": {},
   "outputs": [
    {
     "name": "stdout",
     "output_type": "stream",
     "text": [
      "The minimum number of components explains at least 80%:  54\n"
     ]
    }
   ],
   "source": [
    "for k in range(len(model_pca.explained_variance_ratio_)):\n",
    "    if model_pca.explained_variance_ratio_[:k].sum() >= 0.8:\n",
    "        print (\"The minimum number of components explains at least 80%: \", k)\n",
    "        break"
   ]
  },
  {
   "cell_type": "code",
   "execution_count": 99,
   "metadata": {},
   "outputs": [
    {
     "data": {
      "text/plain": [
       "array([ 0.10203265,  0.08284386,  0.05336112,  0.03482679,  0.02363605,\n",
       "        0.01997897,  0.01858735,  0.01704533,  0.01532586,  0.01500453])"
      ]
     },
     "execution_count": 99,
     "metadata": {},
     "output_type": "execute_result"
    }
   ],
   "source": [
    "model_pca.explained_variance_ratio_[0:10]"
   ]
  },
  {
   "cell_type": "code",
   "execution_count": 100,
   "metadata": {},
   "outputs": [
    {
     "data": {
      "text/plain": [
       "array([ 0.00792391,  0.00779405,  0.00776715,  0.00767614,  0.0074532 ,\n",
       "        0.00741484,  0.00724418,  0.00715235,  0.00700118,  0.00686746])"
      ]
     },
     "execution_count": 100,
     "metadata": {},
     "output_type": "execute_result"
    }
   ],
   "source": [
    "model_pca.explained_variance_ratio_[50:60]"
   ]
  },
  {
   "cell_type": "code",
   "execution_count": 101,
   "metadata": {},
   "outputs": [],
   "source": [
    "# Re-apply PCA to the data while selecting for number of components to retain.\n",
    "model_pca_fin = PCA(n_components = 54, random_state = 42)\n",
    "azdias_std_scaled_pca = model_pca_fin.fit_transform(azdias_std_scaled)"
   ]
  },
  {
   "cell_type": "markdown",
   "metadata": {},
   "source": [
    "### Discussion 2.2: Perform Dimensionality Reduction\n",
    "\n",
    "(Double-click this cell and replace this text with your own text, reporting your findings and decisions regarding dimensionality reduction. How many principal components / transformed features are you retaining for the next step of the analysis?)\n",
    "\n",
    "\n",
    "1. Based on PCA model, the first component only explains ~10% of the varaince and the we need at least 54 components to explain at least 80% of variances. And this is less than half of our original feastures. All these 54 components will be retained for the next step of the analysis."
   ]
  },
  {
   "cell_type": "markdown",
   "metadata": {},
   "source": [
    "### Step 2.3: Interpret Principal Components\n",
    "\n",
    "Now that we have our transformed principal components, it's a nice idea to check out the weight of each variable on the first few components to see if they can be interpreted in some fashion.\n",
    "\n",
    "As a reminder, each principal component is a unit vector that points in the direction of highest variance (after accounting for the variance captured by earlier principal components). The further a weight is from zero, the more the principal component is in the direction of the corresponding feature. If two features have large weights of the same sign (both positive or both negative), then increases in one tend expect to be associated with increases in the other. To contrast, features with different signs can be expected to show a negative correlation: increases in one variable should result in a decrease in the other.\n",
    "\n",
    "- To investigate the features, you should map each weight to their corresponding feature name, then sort the features according to weight. The most interesting features for each principal component, then, will be those at the beginning and end of the sorted list. Use the data dictionary document to help you understand these most prominent features, their relationships, and what a positive or negative value on the principal component might indicate.\n",
    "- You should investigate and interpret feature associations from the first three principal components in this substep. To help facilitate this, you should write a function that you can call at any time to print the sorted list of feature weights, for the *i*-th principal component. This might come in handy in the next step of the project, when you interpret the tendencies of the discovered clusters."
   ]
  },
  {
   "cell_type": "code",
   "execution_count": 102,
   "metadata": {},
   "outputs": [],
   "source": [
    "def mapping_pca_weights(df, pca_model, dimension):\n",
    "    index = df.columns\n",
    "    return pd.DataFrame(data = pca_model.components_[dimension-1], \n",
    "                        index = index, \n",
    "                        columns = [\"dimension_{}_weight\".format(dimension)])\\\n",
    "    .sort_values(\"dimension_{}_weight\".format(dimension), ascending = False)"
   ]
  },
  {
   "cell_type": "code",
   "execution_count": 103,
   "metadata": {},
   "outputs": [],
   "source": [
    "def plot_high_value_weights(df_weights, top_k):\n",
    "    dimension = df_weights.columns[0].split(\"_\")[1]\n",
    "    df_weights.head(top_k).append(df_weights.tail(top_k)).plot(kind = \"bar\", figsize = (25,10));\n",
    "    plt.title(\"Top {0} Positive and Negative Components Weights in Dimension {1}\".format(top_k , dimension), \n",
    "              fontsize = 18);\n",
    "    plt.xticks(fontsize = 18);\n",
    "    plt.yticks(fontsize = 18);"
   ]
  },
  {
   "cell_type": "markdown",
   "metadata": {},
   "source": [
    "### Discussion 2.3: Interpret Principal Components\n",
    "\n",
    "(Double-click this cell and replace this text with your own text, reporting your observations from detailed investigation of the first few principal components generated. Can we interpret positive and negative values from them in a meaningful way?)"
   ]
  },
  {
   "cell_type": "code",
   "execution_count": 107,
   "metadata": {},
   "outputs": [],
   "source": [
    "# Functions is from https://github.com/epmoyer/ipy_table/issues/24\n",
    "from IPython.core.display import HTML\n",
    "\n",
    "def multi_table(table_list):\n",
    "    ''' Acceps a list of IpyTable objects and returns a table which contains each IpyTable in a cell\n",
    "    '''\n",
    "    return HTML(\n",
    "        '<table><tr style=\"background-color:white;\">' + \n",
    "        ''.join(['<td>' + table._repr_html_() + '</td>' for table in table_list]) +\n",
    "        '</tr></table>'\n",
    "    )"
   ]
  },
  {
   "cell_type": "code",
   "execution_count": 112,
   "metadata": {},
   "outputs": [
    {
     "data": {
      "text/plain": [
       "array([ 0.10203265,  0.08284386,  0.05336112,  0.03482678,  0.02363604,\n",
       "        0.01997882,  0.01858714,  0.01704486,  0.01532444,  0.0150037 ])"
      ]
     },
     "execution_count": 112,
     "metadata": {},
     "output_type": "execute_result"
    }
   ],
   "source": [
    "model_pca_fin.explained_variance_ratio_[0:10]"
   ]
  },
  {
   "cell_type": "code",
   "execution_count": 108,
   "metadata": {},
   "outputs": [
    {
     "data": {
      "text/html": [
       "<table><tr style=\"background-color:white;\"><td><div>\n",
       "<style>\n",
       "    .dataframe thead tr:only-child th {\n",
       "        text-align: right;\n",
       "    }\n",
       "\n",
       "    .dataframe thead th {\n",
       "        text-align: left;\n",
       "    }\n",
       "\n",
       "    .dataframe tbody tr th {\n",
       "        vertical-align: top;\n",
       "    }\n",
       "</style>\n",
       "<table border=\"1\" class=\"dataframe\">\n",
       "  <thead>\n",
       "    <tr style=\"text-align: right;\">\n",
       "      <th></th>\n",
       "      <th>dimension_1_weight</th>\n",
       "    </tr>\n",
       "  </thead>\n",
       "  <tbody>\n",
       "    <tr>\n",
       "      <th>PLZ8_ANTG3</th>\n",
       "      <td>0.196086</td>\n",
       "    </tr>\n",
       "    <tr>\n",
       "      <th>HH_EINKOMMEN_SCORE</th>\n",
       "      <td>0.192727</td>\n",
       "    </tr>\n",
       "    <tr>\n",
       "      <th>PLZ8_ANTG4</th>\n",
       "      <td>0.189818</td>\n",
       "    </tr>\n",
       "    <tr>\n",
       "      <th>CAMEO_INTL_2015_WEALTH</th>\n",
       "      <td>0.184284</td>\n",
       "    </tr>\n",
       "    <tr>\n",
       "      <th>ORTSGR_KLS9</th>\n",
       "      <td>0.169109</td>\n",
       "    </tr>\n",
       "    <tr>\n",
       "      <th>KBA05_GBZ</th>\n",
       "      <td>-0.193719</td>\n",
       "    </tr>\n",
       "    <tr>\n",
       "      <th>PLZ8_ANTG1</th>\n",
       "      <td>-0.196693</td>\n",
       "    </tr>\n",
       "    <tr>\n",
       "      <th>KBA05_ANTG1</th>\n",
       "      <td>-0.196961</td>\n",
       "    </tr>\n",
       "    <tr>\n",
       "      <th>MOBI_REGIO</th>\n",
       "      <td>-0.207361</td>\n",
       "    </tr>\n",
       "    <tr>\n",
       "      <th>FINANZ_MINIMALIST</th>\n",
       "      <td>-0.216399</td>\n",
       "    </tr>\n",
       "  </tbody>\n",
       "</table>\n",
       "</div></td><td><div>\n",
       "<style>\n",
       "    .dataframe thead tr:only-child th {\n",
       "        text-align: right;\n",
       "    }\n",
       "\n",
       "    .dataframe thead th {\n",
       "        text-align: left;\n",
       "    }\n",
       "\n",
       "    .dataframe tbody tr th {\n",
       "        vertical-align: top;\n",
       "    }\n",
       "</style>\n",
       "<table border=\"1\" class=\"dataframe\">\n",
       "  <thead>\n",
       "    <tr style=\"text-align: right;\">\n",
       "      <th></th>\n",
       "      <th>dimension_2_weight</th>\n",
       "    </tr>\n",
       "  </thead>\n",
       "  <tbody>\n",
       "    <tr>\n",
       "      <th>ALTERSKATEGORIE_GROB</th>\n",
       "      <td>0.227485</td>\n",
       "    </tr>\n",
       "    <tr>\n",
       "      <th>ZABEOTYP_3.0</th>\n",
       "      <td>0.206861</td>\n",
       "    </tr>\n",
       "    <tr>\n",
       "      <th>FINANZ_VORSORGER</th>\n",
       "      <td>0.205871</td>\n",
       "    </tr>\n",
       "    <tr>\n",
       "      <th>SEMIO_ERL</th>\n",
       "      <td>0.192777</td>\n",
       "    </tr>\n",
       "    <tr>\n",
       "      <th>SEMIO_LUST</th>\n",
       "      <td>0.159267</td>\n",
       "    </tr>\n",
       "    <tr>\n",
       "      <th>FINANZ_UNAUFFAELLIGER</th>\n",
       "      <td>-0.204761</td>\n",
       "    </tr>\n",
       "    <tr>\n",
       "      <th>SEMIO_TRADV</th>\n",
       "      <td>-0.206170</td>\n",
       "    </tr>\n",
       "    <tr>\n",
       "      <th>FINANZ_SPARER</th>\n",
       "      <td>-0.208796</td>\n",
       "    </tr>\n",
       "    <tr>\n",
       "      <th>SEMIO_REL</th>\n",
       "      <td>-0.218612</td>\n",
       "    </tr>\n",
       "    <tr>\n",
       "      <th>PRAEGENDE_JUGENDJAHRE_DECADES</th>\n",
       "      <td>-0.219893</td>\n",
       "    </tr>\n",
       "  </tbody>\n",
       "</table>\n",
       "</div></td><td><div>\n",
       "<style>\n",
       "    .dataframe thead tr:only-child th {\n",
       "        text-align: right;\n",
       "    }\n",
       "\n",
       "    .dataframe thead th {\n",
       "        text-align: left;\n",
       "    }\n",
       "\n",
       "    .dataframe tbody tr th {\n",
       "        vertical-align: top;\n",
       "    }\n",
       "</style>\n",
       "<table border=\"1\" class=\"dataframe\">\n",
       "  <thead>\n",
       "    <tr style=\"text-align: right;\">\n",
       "      <th></th>\n",
       "      <th>dimension_3_weight</th>\n",
       "    </tr>\n",
       "  </thead>\n",
       "  <tbody>\n",
       "    <tr>\n",
       "      <th>SEMIO_VERT</th>\n",
       "      <td>0.329036</td>\n",
       "    </tr>\n",
       "    <tr>\n",
       "      <th>SEMIO_SOZ</th>\n",
       "      <td>0.260719</td>\n",
       "    </tr>\n",
       "    <tr>\n",
       "      <th>SEMIO_FAM</th>\n",
       "      <td>0.256041</td>\n",
       "    </tr>\n",
       "    <tr>\n",
       "      <th>SEMIO_KULT</th>\n",
       "      <td>0.241932</td>\n",
       "    </tr>\n",
       "    <tr>\n",
       "      <th>FINANZ_MINIMALIST</th>\n",
       "      <td>0.134130</td>\n",
       "    </tr>\n",
       "    <tr>\n",
       "      <th>SEMIO_ERL</th>\n",
       "      <td>-0.193565</td>\n",
       "    </tr>\n",
       "    <tr>\n",
       "      <th>SEMIO_KRIT</th>\n",
       "      <td>-0.268942</td>\n",
       "    </tr>\n",
       "    <tr>\n",
       "      <th>SEMIO_DOM</th>\n",
       "      <td>-0.297411</td>\n",
       "    </tr>\n",
       "    <tr>\n",
       "      <th>SEMIO_KAEM</th>\n",
       "      <td>-0.323906</td>\n",
       "    </tr>\n",
       "    <tr>\n",
       "      <th>ANREDE_KZ</th>\n",
       "      <td>-0.353769</td>\n",
       "    </tr>\n",
       "  </tbody>\n",
       "</table>\n",
       "</div></td></tr></table>"
      ],
      "text/plain": [
       "<IPython.core.display.HTML object>"
      ]
     },
     "execution_count": 108,
     "metadata": {},
     "output_type": "execute_result"
    }
   ],
   "source": [
    "left = pca_1.head(5).append(pca_1.tail(5))\n",
    "middle = pca_2.head(5).append(pca_2.tail(5))\n",
    "right = pca_3.head(5).append(pca_3.tail(5))\n",
    "\n",
    "multi_table([left, middle, right])"
   ]
  },
  {
   "cell_type": "code",
   "execution_count": 109,
   "metadata": {},
   "outputs": [
    {
     "data": {
      "image/png": "[encoded data removed]",
      "text/plain": [
       "<matplotlib.figure.Figure at 0x7fc85fb8b4e0>"
      ]
     },
     "metadata": {
      "needs_background": "light"
     },
     "output_type": "display_data"
    }
   ],
   "source": [
    "# Map weights for the first principal component to corresponding feature names\n",
    "# and then print the linked values, sorted by weight.\n",
    "# HINT: Try defining a function here or in a new cell that you can reuse in the\n",
    "# other cells.\n",
    "pca_1 = mapping_pca_weights(azdias_std_scaled, model_pca_fin,1)\n",
    "plot_high_value_weights(pca_1, 10)"
   ]
  },
  {
   "cell_type": "markdown",
   "metadata": {},
   "source": [
    "__Dimension 1:__\n",
    "\n",
    "__*Top 5 Positive (Absolute Value from HIGH to LOW):*__\n",
    "1. PLZ8_ANTG3: Number of 6-10 family houses in the PLZ8 region\n",
    "1. HH_EINKOMMEN_SCORE: Estimated household net income\n",
    "1. PLZ8_ANTG4: Number of 10+ family houses in the PLZ8 region\n",
    "1. CAMEO_INTL_2015_WEALTH: German CAMEO: Wealth / Life Stage Typology\n",
    "1. ORTSGR_KLS9: Size of community\n",
    "\n",
    "\n",
    "__*Top 5 Negative (Absolute Value from LOW to HIGH):*__\n",
    "1. KBA05_GBZ: Number of buildings in the microcell\n",
    "1. PLZ8_ANTG1: Number of 1-2 family houses in the PLZ8 region\n",
    "1. KBA05_ANTG1: Number of 1-2 family houses in the microcell\n",
    "1. MOBI_REGIO: Movement patterns\n",
    "1. FINANZ_MINIMALIST: Financial typology, MINIMALIST: low financial interest\n",
    "\n",
    "\n",
    "In dimension 1, high weights components are more about communities features.\n",
    "\n",
    "In more details:\n",
    "1. PC1 has an eigenvalue of 0.1020\n",
    "1. FINANZ_MINIMALIST has the greastest impact in PC1 and followed by MOBI_REGIO.\n",
    "1. PLZ8_ANTG3, and PLZ8_ANTG4 are contrast with PLZ8_ANTG1."
   ]
  },
  {
   "cell_type": "code",
   "execution_count": 110,
   "metadata": {},
   "outputs": [
    {
     "data": {
      "image/png": "[encoded data removed]",
      "text/plain": [
       "<matplotlib.figure.Figure at 0x7fc85fb6b320>"
      ]
     },
     "metadata": {
      "needs_background": "light"
     },
     "output_type": "display_data"
    }
   ],
   "source": [
    "# Map weights for the second principal component to corresponding feature names\n",
    "# and then print the linked values, sorted by weight.\n",
    "pca_2 = mapping_pca_weights(azdias_std_scaled, model_pca_fin, 2)\n",
    "plot_high_value_weights(pca_2, 10)"
   ]
  },
  {
   "cell_type": "markdown",
   "metadata": {},
   "source": [
    "__Dimension 2:__\n",
    "\n",
    "__*Top 5 Positive (Absolute Value from HIGH to LOW):*__\n",
    "1. ALTERSKATEGORIE_GROB: Estimated age based on given name analysis\n",
    "1. ZABEOTYP_3: Energy consumption typology - 3: fair supplied\n",
    "1. FINANZ_VORSORGER: Financial typology, VORSORGER: be prepared\n",
    "1. SEMIO_ERL: Personality typology, ERL: event-oriented\n",
    "1. SEMIO_LUST: Personality typology, LUST: sensual-minded\n",
    "\n",
    "\n",
    "__*Top 5 Negative (Absolute Value from LOW to HIGH):*__\n",
    "1. FINANZ_UNAUFFAELLIGER: Financial typology, UNAUFFAELLIGER: inconspicuous\n",
    "1. SEMIO_TRADV: Personality typology, TRADV: tradional-minded\n",
    "1. FINANZ_SPARER: Financial typology, SPARER: money-saver\n",
    "1. SEMIO_REL: Personality typology, REL: religious \n",
    "1. PRAEGENDE_JUGENDJAHRE_DECADES: Dominating movement of person's youth (avantgarde vs. mainstream; east vs. west)\n",
    "\n",
    "In dimension 2, high weights components are more related to Financial and Personality features.\n",
    "\n",
    "With details:\n",
    "1. PC2 has an eigenvalue of 0.0828\n",
    "1. ALTERSKATEGORIE_GROB is the greatest one in this PC and followed by PRAEGENDE_JUGENDJAHRE_DECADES and SEMIO_REL.\n",
    "1. There is a contrast between FINANZ_VORSORGER and FINANZ_SPARER."
   ]
  },
  {
   "cell_type": "code",
   "execution_count": 111,
   "metadata": {},
   "outputs": [
    {
     "data": {
      "image/png": "[encoded data removed]",
      "text/plain": [
       "<matplotlib.figure.Figure at 0x7fc85f9ff278>"
      ]
     },
     "metadata": {
      "needs_background": "light"
     },
     "output_type": "display_data"
    }
   ],
   "source": [
    "# Map weights for the third principal component to corresponding feature names\n",
    "# and then print the linked values, sorted by weight.\n",
    "pca_3 = mapping_pca_weights(azdias_std_scaled, model_pca_fin, 3)\n",
    "plot_high_value_weights(pca_3, 10)"
   ]
  },
  {
   "cell_type": "markdown",
   "metadata": {},
   "source": [
    "__Dimension 3:__\n",
    "\n",
    "__*Top 5 Positive (Absolute Value from HIGH to LOW):*__\n",
    "1. SEMIO_VERT: Personality typology, VERT: dreamful\n",
    "1. SEMIO_SOZ: Personality typology, socially-minded\n",
    "1. SEMIO_FAM: Personality typology, family-minded\n",
    "1. SEMIO_KULT: Personality typology, cultural-minded\n",
    "1. FINANZ_MINIMALIST: Financial typology, MINIMALIST: low financial interest\n",
    "\n",
    "__*Top 5 Negative (Absolute Value from LOW to HIGH):*__\n",
    "1. SEMIO_ERL: Personality typology, event-oriented\n",
    "1. SEMIO_KRIT: Personality typology, critical-minded\n",
    "1. SEMIO_DOM: Personality typology, dominant-minded\n",
    "1. SEMIO_KAEM: Personality typology, combative attitude\n",
    "1. ANREDE_KZ: Gender\n",
    "\n",
    "In dimension 3, high weights components are still focused on and more on Personality features.\n",
    "\n",
    "In PC3:\n",
    "1. eigenvalue is 0.0534\n",
    "1. ANREDE_KZ plays a greatest role in this PC and followed by SEMIO_VERT and SEMIO_KAEM.\n",
    "1. There is a good contrast between SEMIO_VERT and SEMIO_KAEM."
   ]
  },
  {
   "cell_type": "markdown",
   "metadata": {},
   "source": [
    "## Step 3: Clustering\n",
    "\n",
    "### Step 3.1: Apply Clustering to General Population\n",
    "\n",
    "You've assessed and cleaned the demographics data, then scaled and transformed them. Now, it's time to see how the data clusters in the principal components space. In this substep, you will apply k-means clustering to the dataset and use the average within-cluster distances from each point to their assigned cluster's centroid to decide on a number of clusters to keep.\n",
    "\n",
    "- Use sklearn's [KMeans](http://scikit-learn.org/stable/modules/generated/sklearn.cluster.KMeans.html#sklearn.cluster.KMeans) class to perform k-means clustering on the PCA-transformed data.\n",
    "- Then, compute the average difference from each point to its assigned cluster's center. **Hint**: The KMeans object's `.score()` method might be useful here, but note that in sklearn, scores tend to be defined so that larger is better. Try applying it to a small, toy dataset, or use an internet search to help your understanding.\n",
    "- Perform the above two steps for a number of different cluster counts. You can then see how the average distance decreases with an increasing number of clusters. However, each additional cluster provides a smaller net benefit. Use this fact to select a final number of clusters in which to group the data. **Warning**: because of the large size of the dataset, it can take a long time for the algorithm to resolve. The more clusters to fit, the longer the algorithm will take. You should test for cluster counts through at least 10 clusters to get the full picture, but you shouldn't need to test for a number of clusters above about 30.\n",
    "- Once you've selected a final number of clusters to use, re-fit a KMeans instance to perform the clustering operation. Make sure that you also obtain the cluster assignments for the general demographics data, since you'll be using them in the final Step 3.3."
   ]
  },
  {
   "cell_type": "code",
   "execution_count": 114,
   "metadata": {},
   "outputs": [],
   "source": [
    "def kmeans_scores(df, centers):\n",
    "# Over a number of different cluster counts...\n",
    "    from sklearn.cluster import KMeans\n",
    "    \n",
    "    model_kmeans_scores = {}\n",
    "\n",
    "    for center in centers:\n",
    "        # run k-means clustering on the data and...\n",
    "        model_kmeans = KMeans(n_clusters = center, random_state = 42).fit(df)\n",
    "        # compute the average within-cluster distances.\n",
    "        new_score = np.abs(model_kmeans.score(df))\n",
    "        \n",
    "        model_kmeans_scores[center] = new_score\n",
    "        \n",
    "    return pd.DataFrame(model_kmeans_scores, index = [\"score\"]).T"
   ]
  },
  {
   "cell_type": "code",
   "execution_count": 115,
   "metadata": {},
   "outputs": [],
   "source": [
    "# Investigate the change in within-cluster distance across number of clusters.\n",
    "# HINT: Use matplotlib's plot function to visualize this relationship.\n",
    "centers = [2,4,8,10,12,14,16,18,20,22,24,26,28,30]\n",
    "\n",
    "scores = kmeans_scores(azdias_std_scaled_pca, centers)"
   ]
  },
  {
   "cell_type": "code",
   "execution_count": 116,
   "metadata": {},
   "outputs": [
    {
     "data": {
      "text/html": [
       "<table><tr style=\"background-color:white;\"><td><div>\n",
       "<style>\n",
       "    .dataframe thead tr:only-child th {\n",
       "        text-align: right;\n",
       "    }\n",
       "\n",
       "    .dataframe thead th {\n",
       "        text-align: left;\n",
       "    }\n",
       "\n",
       "    .dataframe tbody tr th {\n",
       "        vertical-align: top;\n",
       "    }\n",
       "</style>\n",
       "<table border=\"1\" class=\"dataframe\">\n",
       "  <thead>\n",
       "    <tr style=\"text-align: right;\">\n",
       "      <th></th>\n",
       "      <th>score</th>\n",
       "    </tr>\n",
       "  </thead>\n",
       "  <tbody>\n",
       "    <tr>\n",
       "      <th>2</th>\n",
       "      <td>6.863968e+07</td>\n",
       "    </tr>\n",
       "    <tr>\n",
       "      <th>4</th>\n",
       "      <td>6.220903e+07</td>\n",
       "    </tr>\n",
       "    <tr>\n",
       "      <th>8</th>\n",
       "      <td>5.696611e+07</td>\n",
       "    </tr>\n",
       "    <tr>\n",
       "      <th>10</th>\n",
       "      <td>5.560974e+07</td>\n",
       "    </tr>\n",
       "    <tr>\n",
       "      <th>12</th>\n",
       "      <td>5.428232e+07</td>\n",
       "    </tr>\n",
       "    <tr>\n",
       "      <th>14</th>\n",
       "      <td>5.346645e+07</td>\n",
       "    </tr>\n",
       "    <tr>\n",
       "      <th>16</th>\n",
       "      <td>5.236420e+07</td>\n",
       "    </tr>\n",
       "  </tbody>\n",
       "</table>\n",
       "</div></td><td><div>\n",
       "<style>\n",
       "    .dataframe thead tr:only-child th {\n",
       "        text-align: right;\n",
       "    }\n",
       "\n",
       "    .dataframe thead th {\n",
       "        text-align: left;\n",
       "    }\n",
       "\n",
       "    .dataframe tbody tr th {\n",
       "        vertical-align: top;\n",
       "    }\n",
       "</style>\n",
       "<table border=\"1\" class=\"dataframe\">\n",
       "  <thead>\n",
       "    <tr style=\"text-align: right;\">\n",
       "      <th></th>\n",
       "      <th>score</th>\n",
       "    </tr>\n",
       "  </thead>\n",
       "  <tbody>\n",
       "    <tr>\n",
       "      <th>18</th>\n",
       "      <td>5.149866e+07</td>\n",
       "    </tr>\n",
       "    <tr>\n",
       "      <th>20</th>\n",
       "      <td>5.024680e+07</td>\n",
       "    </tr>\n",
       "    <tr>\n",
       "      <th>22</th>\n",
       "      <td>4.951154e+07</td>\n",
       "    </tr>\n",
       "    <tr>\n",
       "      <th>24</th>\n",
       "      <td>4.903497e+07</td>\n",
       "    </tr>\n",
       "    <tr>\n",
       "      <th>26</th>\n",
       "      <td>4.795740e+07</td>\n",
       "    </tr>\n",
       "    <tr>\n",
       "      <th>28</th>\n",
       "      <td>4.687276e+07</td>\n",
       "    </tr>\n",
       "    <tr>\n",
       "      <th>30</th>\n",
       "      <td>4.647930e+07</td>\n",
       "    </tr>\n",
       "  </tbody>\n",
       "</table>\n",
       "</div></td></tr></table>"
      ],
      "text/plain": [
       "<IPython.core.display.HTML object>"
      ]
     },
     "execution_count": 116,
     "metadata": {},
     "output_type": "execute_result"
    }
   ],
   "source": [
    "multi_table([scores[:7],scores[7:]])"
   ]
  },
  {
   "cell_type": "code",
   "execution_count": 117,
   "metadata": {},
   "outputs": [
    {
     "data": {
      "image/png": "[encoded data removed]",
      "text/plain": [
       "<matplotlib.figure.Figure at 0x7fc85e10f470>"
      ]
     },
     "metadata": {
      "needs_background": "light"
     },
     "output_type": "display_data"
    }
   ],
   "source": [
    "scores.plot(kind = \"line\", marker = \".\", figsize = (12,8));\n",
    "plt.xlabel('K');\n",
    "plt.xticks(scores.index, scores.index, fontsize = 12);\n",
    "plt.ylabel('SSE');\n",
    "plt.title('SSE vs. K');"
   ]
  },
  {
   "cell_type": "markdown",
   "metadata": {},
   "source": [
    "The Score tends to be flat when k becomes greater than 16, therefore, will use 16 as our final number of centers."
   ]
  },
  {
   "cell_type": "code",
   "execution_count": 118,
   "metadata": {},
   "outputs": [],
   "source": [
    "# Re-fit the k-means model with the selected number of clusters and obtain\n",
    "# cluster predictions for the general population demographics data.\n",
    "from sklearn.cluster import KMeans\n",
    "model_kmeans_fin = KMeans(n_clusters = 16, random_state = 42).fit(azdias_std_scaled_pca)"
   ]
  },
  {
   "cell_type": "code",
   "execution_count": 119,
   "metadata": {},
   "outputs": [],
   "source": [
    "model_kmeans_fin_pred_general = model_kmeans_fin.predict(azdias_std_scaled_pca)"
   ]
  },
  {
   "cell_type": "markdown",
   "metadata": {},
   "source": [
    "### Discussion 3.1: Apply Clustering to General Population\n",
    "\n",
    "(Double-click this cell and replace this text with your own text, reporting your findings and decisions regarding clustering. Into how many clusters have you decided to segment the population?)\n",
    "\n",
    "\n",
    "From the plot, we can see that the marginal decrease is getting smaller after 16 clusters. Therefore, will do 16 as our total clusters for our population."
   ]
  },
  {
   "cell_type": "markdown",
   "metadata": {},
   "source": [
    "### Step 3.2: Apply All Steps to the Customer Data\n",
    "\n",
    "Now that you have clusters and cluster centers for the general population, it's time to see how the customer data maps on to those clusters. Take care to not confuse this for re-fitting all of the models to the customer data. Instead, you're going to use the fits from the general population to clean, transform, and cluster the customer data. In the last step of the project, you will interpret how the general population fits apply to the customer data.\n",
    "\n",
    "- Don't forget when loading in the customers data, that it is semicolon (`;`) delimited.\n",
    "- Apply the same feature wrangling, selection, and engineering steps to the customer demographics using the `clean_data()` function you created earlier. (You can assume that the customer demographics data has similar meaning behind missing data patterns as the general demographics data.)\n",
    "- Use the sklearn objects from the general demographics data, and apply their transformations to the customers data. That is, you should not be using a `.fit()` or `.fit_transform()` method to re-fit the old objects, nor should you be creating new sklearn objects! Carry the data through the feature scaling, PCA, and clustering steps, obtaining cluster assignments for all of the data in the customer demographics data."
   ]
  },
  {
   "cell_type": "code",
   "execution_count": 123,
   "metadata": {},
   "outputs": [],
   "source": [
    "# Load in the customer demographics data.\n",
    "customers = pd.read_csv(\"Udacity_CUSTOMERS_Subset.csv\", delimiter = \";\")"
   ]
  },
  {
   "cell_type": "code",
   "execution_count": 124,
   "metadata": {},
   "outputs": [],
   "source": [
    "# Apply preprocessing, feature transformation, and clustering from the general\n",
    "# demographics onto the customer data, obtaining cluster predictions for the\n",
    "# customer demographics data.\n",
    "customers = clean_data(customers)"
   ]
  },
  {
   "cell_type": "code",
   "execution_count": 125,
   "metadata": {},
   "outputs": [
    {
     "data": {
      "text/plain": [
       "{'GEBAEUDETYP_5.0'}"
      ]
     },
     "execution_count": 125,
     "metadata": {},
     "output_type": "execute_result"
    }
   ],
   "source": [
    "# Check Columns between General and Customers Data\n",
    "set(azdias_std_scaled.columns) - set(customers.columns)"
   ]
  },
  {
   "cell_type": "code",
   "execution_count": 126,
   "metadata": {},
   "outputs": [],
   "source": [
    "customers[\"GEBAEUDETYP_5.0\"] = 0"
   ]
  },
  {
   "cell_type": "code",
   "execution_count": 127,
   "metadata": {},
   "outputs": [
    {
     "data": {
      "text/plain": [
       "(135799, 123)"
      ]
     },
     "execution_count": 127,
     "metadata": {},
     "output_type": "execute_result"
    }
   ],
   "source": [
    "customers.shape"
   ]
  },
  {
   "cell_type": "code",
   "execution_count": 128,
   "metadata": {},
   "outputs": [
    {
     "data": {
      "text/plain": [
       "62683"
      ]
     },
     "execution_count": 128,
     "metadata": {},
     "output_type": "execute_result"
    }
   ],
   "source": [
    "customers.isnull().sum().sum()"
   ]
  },
  {
   "cell_type": "code",
   "execution_count": 129,
   "metadata": {},
   "outputs": [],
   "source": [
    "for col in customers.columns:\n",
    "    customers[col] = customers[col].fillna(customers[col].mode()[0])"
   ]
  },
  {
   "cell_type": "code",
   "execution_count": 130,
   "metadata": {},
   "outputs": [
    {
     "name": "stdout",
     "output_type": "stream",
     "text": [
      "Number of Missing Values after Imputation:  0\n"
     ]
    }
   ],
   "source": [
    "print (\"Number of Missing Values after Imputation: \", customers.isnull().sum().sum())    "
   ]
  },
  {
   "cell_type": "code",
   "execution_count": null,
   "metadata": {},
   "outputs": [],
   "source": []
  },
  {
   "cell_type": "code",
   "execution_count": 131,
   "metadata": {},
   "outputs": [],
   "source": [
    "# StandardScaler Customers Data\n",
    "customers_std_scaled = pd.DataFrame(data = scaler.transform(customers), columns = customers.columns)"
   ]
  },
  {
   "cell_type": "code",
   "execution_count": 132,
   "metadata": {},
   "outputs": [],
   "source": [
    "# Reduce Dimensions with PCA\n",
    "customers_std_scaled_pca = model_pca_fin.transform(customers_std_scaled)"
   ]
  },
  {
   "cell_type": "code",
   "execution_count": 133,
   "metadata": {},
   "outputs": [],
   "source": [
    "# Apply Model to Transformed Customers Data\n",
    "model_kmeans_fin_pred_customers = model_kmeans_fin.predict(customers_std_scaled_pca)"
   ]
  },
  {
   "cell_type": "code",
   "execution_count": null,
   "metadata": {},
   "outputs": [],
   "source": []
  },
  {
   "cell_type": "markdown",
   "metadata": {},
   "source": [
    "### Step 3.3: Compare Customer Data to Demographics Data\n",
    "\n",
    "At this point, you have clustered data based on demographics of the general population of Germany, and seen how the customer data for a mail-order sales company maps onto those demographic clusters. In this final substep, you will compare the two cluster distributions to see where the strongest customer base for the company is.\n",
    "\n",
    "Consider the proportion of persons in each cluster for the general population, and the proportions for the customers. If we think the company's customer base to be universal, then the cluster assignment proportions should be fairly similar between the two. If there are only particular segments of the population that are interested in the company's products, then we should see a mismatch from one to the other. If there is a higher proportion of persons in a cluster for the customer data compared to the general population (e.g. 5% of persons are assigned to a cluster for the general population, but 15% of the customer data is closest to that cluster's centroid) then that suggests the people in that cluster to be a target audience for the company. On the other hand, the proportion of the data in a cluster being larger in the general population than the customer data (e.g. only 2% of customers closest to a population centroid that captures 6% of the data) suggests that group of persons to be outside of the target demographics.\n",
    "\n",
    "Take a look at the following points in this step:\n",
    "\n",
    "- Compute the proportion of data points in each cluster for the general population and the customer data. Visualizations will be useful here: both for the individual dataset proportions, but also to visualize the ratios in cluster representation between groups. Seaborn's [`countplot()`](https://seaborn.pydata.org/generated/seaborn.countplot.html) or [`barplot()`](https://seaborn.pydata.org/generated/seaborn.barplot.html) function could be handy.\n",
    "  - Recall the analysis you performed in step 1.1.3 of the project, where you separated out certain data points from the dataset if they had more than a specified threshold of missing values. If you found that this group was qualitatively different from the main bulk of the data, you should treat this as an additional data cluster in this analysis. Make sure that you account for the number of data points in this subset, for both the general population and customer datasets, when making your computations!\n",
    "- Which cluster or clusters are overrepresented in the customer dataset compared to the general population? Select at least one such cluster and infer what kind of people might be represented by that cluster. Use the principal component interpretations from step 2.3 or look at additional components to help you make this inference. Alternatively, you can use the `.inverse_transform()` method of the PCA and StandardScaler objects to transform centroids back to the original data space and interpret the retrieved values directly.\n",
    "- Perform a similar investigation for the underrepresented clusters. Which cluster or clusters are underrepresented in the customer dataset compared to the general population, and what kinds of people are typified by these clusters?"
   ]
  },
  {
   "cell_type": "code",
   "execution_count": 135,
   "metadata": {},
   "outputs": [
    {
     "data": {
      "image/png": "[encoded data removed]",
      "text/plain": [
       "<matplotlib.figure.Figure at 0x7fc85aad4550>"
      ]
     },
     "metadata": {
      "needs_background": "light"
     },
     "output_type": "display_data"
    }
   ],
   "source": [
    "# Compare the proportion of data in each cluster for the customer data to the\n",
    "# proportion of data in each cluster for the general population.\n",
    "df_pred_cnt = \\\n",
    "pd.concat([pd.DataFrame(data = model_kmeans_fin_pred_general, \n",
    "                 columns = [\"cluster\"])[\"cluster\"].value_counts()\\\n",
    "           .to_frame(\"cnt_cluster_general\").sort_index(ascending = True).fillna(0).T,\n",
    "           pd.DataFrame(data = model_kmeans_fin_pred_customers, \n",
    "                    columns = [\"cluster\"])[\"cluster\"].value_counts()\\\n",
    "           .to_frame(\"cnt_cluster_customers\").sort_index(ascending = True).T]).fillna(0).T\n",
    "\n",
    "fig, ax = plt.subplots(1,1,figsize = (16,8))\n",
    "\n",
    "df_pred_cnt.div(df_pred_cnt.sum(axis = 0), axis = 1)\\\n",
    ".plot(kind = \"bar\", ax = ax);\n",
    "ax.set_title(\"Proportion of Data Points in Each Cluster\", fontsize = 12);\n",
    "ax.set_xticklabels([\"\"], rotation = 0, fontsize = 12);\n",
    "ax.set_xlabel(\" \", fontsize = 12);\n",
    "ax.set_ylabel(\"Proportion (%)\", fontsize = 12);\n",
    "ax.legend([\"General\", \"Customer\"], fontsize = 12);\n",
    "\n",
    "from pandas.plotting import table\n",
    "show_table = table(ax, df_pred_cnt.rename(columns = lambda x: x.replace(\"cnt_cluster\",\"\")).T);"
   ]
  },
  {
   "cell_type": "code",
   "execution_count": 137,
   "metadata": {},
   "outputs": [
    {
     "data": {
      "text/html": [
       "<div>\n",
       "<style>\n",
       "    .dataframe thead tr:only-child th {\n",
       "        text-align: right;\n",
       "    }\n",
       "\n",
       "    .dataframe thead th {\n",
       "        text-align: left;\n",
       "    }\n",
       "\n",
       "    .dataframe tbody tr th {\n",
       "        vertical-align: top;\n",
       "    }\n",
       "</style>\n",
       "<table border=\"1\" class=\"dataframe\">\n",
       "  <thead>\n",
       "    <tr style=\"text-align: right;\">\n",
       "      <th></th>\n",
       "      <th>ALTERSKATEGORIE_GROB</th>\n",
       "      <th>ANREDE_KZ</th>\n",
       "      <th>FINANZ_MINIMALIST</th>\n",
       "      <th>FINANZ_SPARER</th>\n",
       "      <th>FINANZ_VORSORGER</th>\n",
       "      <th>FINANZ_ANLEGER</th>\n",
       "      <th>FINANZ_UNAUFFAELLIGER</th>\n",
       "      <th>FINANZ_HAUSBAUER</th>\n",
       "      <th>GREEN_AVANTGARDE</th>\n",
       "      <th>HEALTH_TYP</th>\n",
       "      <th>...</th>\n",
       "      <th>GEBAEUDETYP_2.0</th>\n",
       "      <th>GEBAEUDETYP_3.0</th>\n",
       "      <th>GEBAEUDETYP_4.0</th>\n",
       "      <th>GEBAEUDETYP_6.0</th>\n",
       "      <th>GEBAEUDETYP_8.0</th>\n",
       "      <th>PRAEGENDE_JUGENDJAHRE_DECADES</th>\n",
       "      <th>PRAEGENDE_JUGENDJAHRE_MOVEMENTS</th>\n",
       "      <th>CAMEO_INTL_2015_WEALTH</th>\n",
       "      <th>CAMEO_INTL_2015_LIFE</th>\n",
       "      <th>GEBAEUDETYP_5.0</th>\n",
       "    </tr>\n",
       "  </thead>\n",
       "  <tbody>\n",
       "    <tr>\n",
       "      <th>0</th>\n",
       "      <td>4.0</td>\n",
       "      <td>1.0</td>\n",
       "      <td>5.0</td>\n",
       "      <td>1.0</td>\n",
       "      <td>5.0</td>\n",
       "      <td>1.0</td>\n",
       "      <td>2.0</td>\n",
       "      <td>2.0</td>\n",
       "      <td>1.0</td>\n",
       "      <td>1.0</td>\n",
       "      <td>...</td>\n",
       "      <td>0</td>\n",
       "      <td>0</td>\n",
       "      <td>0</td>\n",
       "      <td>0</td>\n",
       "      <td>0</td>\n",
       "      <td>50.0</td>\n",
       "      <td>0.0</td>\n",
       "      <td>1.0</td>\n",
       "      <td>3.0</td>\n",
       "      <td>0</td>\n",
       "    </tr>\n",
       "    <tr>\n",
       "      <th>2</th>\n",
       "      <td>4.0</td>\n",
       "      <td>2.0</td>\n",
       "      <td>5.0</td>\n",
       "      <td>1.0</td>\n",
       "      <td>5.0</td>\n",
       "      <td>1.0</td>\n",
       "      <td>4.0</td>\n",
       "      <td>4.0</td>\n",
       "      <td>1.0</td>\n",
       "      <td>2.0</td>\n",
       "      <td>...</td>\n",
       "      <td>0</td>\n",
       "      <td>0</td>\n",
       "      <td>0</td>\n",
       "      <td>0</td>\n",
       "      <td>1</td>\n",
       "      <td>50.0</td>\n",
       "      <td>0.0</td>\n",
       "      <td>3.0</td>\n",
       "      <td>4.0</td>\n",
       "      <td>0</td>\n",
       "    </tr>\n",
       "    <tr>\n",
       "      <th>5</th>\n",
       "      <td>3.0</td>\n",
       "      <td>1.0</td>\n",
       "      <td>5.0</td>\n",
       "      <td>1.0</td>\n",
       "      <td>5.0</td>\n",
       "      <td>1.0</td>\n",
       "      <td>2.0</td>\n",
       "      <td>3.0</td>\n",
       "      <td>1.0</td>\n",
       "      <td>3.0</td>\n",
       "      <td>...</td>\n",
       "      <td>0</td>\n",
       "      <td>0</td>\n",
       "      <td>0</td>\n",
       "      <td>0</td>\n",
       "      <td>0</td>\n",
       "      <td>50.0</td>\n",
       "      <td>0.0</td>\n",
       "      <td>3.0</td>\n",
       "      <td>4.0</td>\n",
       "      <td>0</td>\n",
       "    </tr>\n",
       "    <tr>\n",
       "      <th>6</th>\n",
       "      <td>4.0</td>\n",
       "      <td>1.0</td>\n",
       "      <td>5.0</td>\n",
       "      <td>1.0</td>\n",
       "      <td>5.0</td>\n",
       "      <td>1.0</td>\n",
       "      <td>1.0</td>\n",
       "      <td>2.0</td>\n",
       "      <td>1.0</td>\n",
       "      <td>2.0</td>\n",
       "      <td>...</td>\n",
       "      <td>0</td>\n",
       "      <td>0</td>\n",
       "      <td>0</td>\n",
       "      <td>0</td>\n",
       "      <td>0</td>\n",
       "      <td>50.0</td>\n",
       "      <td>0.0</td>\n",
       "      <td>2.0</td>\n",
       "      <td>3.0</td>\n",
       "      <td>0</td>\n",
       "    </tr>\n",
       "    <tr>\n",
       "      <th>7</th>\n",
       "      <td>4.0</td>\n",
       "      <td>1.0</td>\n",
       "      <td>5.0</td>\n",
       "      <td>1.0</td>\n",
       "      <td>5.0</td>\n",
       "      <td>1.0</td>\n",
       "      <td>2.0</td>\n",
       "      <td>2.0</td>\n",
       "      <td>1.0</td>\n",
       "      <td>1.0</td>\n",
       "      <td>...</td>\n",
       "      <td>0</td>\n",
       "      <td>0</td>\n",
       "      <td>0</td>\n",
       "      <td>0</td>\n",
       "      <td>0</td>\n",
       "      <td>50.0</td>\n",
       "      <td>0.0</td>\n",
       "      <td>1.0</td>\n",
       "      <td>5.0</td>\n",
       "      <td>0</td>\n",
       "    </tr>\n",
       "  </tbody>\n",
       "</table>\n",
       "<p>5 rows × 123 columns</p>\n",
       "</div>"
      ],
      "text/plain": [
       "   ALTERSKATEGORIE_GROB  ANREDE_KZ  FINANZ_MINIMALIST  FINANZ_SPARER  \\\n",
       "0                   4.0        1.0                5.0            1.0   \n",
       "2                   4.0        2.0                5.0            1.0   \n",
       "5                   3.0        1.0                5.0            1.0   \n",
       "6                   4.0        1.0                5.0            1.0   \n",
       "7                   4.0        1.0                5.0            1.0   \n",
       "\n",
       "   FINANZ_VORSORGER  FINANZ_ANLEGER  FINANZ_UNAUFFAELLIGER  FINANZ_HAUSBAUER  \\\n",
       "0               5.0             1.0                    2.0               2.0   \n",
       "2               5.0             1.0                    4.0               4.0   \n",
       "5               5.0             1.0                    2.0               3.0   \n",
       "6               5.0             1.0                    1.0               2.0   \n",
       "7               5.0             1.0                    2.0               2.0   \n",
       "\n",
       "   GREEN_AVANTGARDE  HEALTH_TYP       ...         GEBAEUDETYP_2.0  \\\n",
       "0               1.0         1.0       ...                       0   \n",
       "2               1.0         2.0       ...                       0   \n",
       "5               1.0         3.0       ...                       0   \n",
       "6               1.0         2.0       ...                       0   \n",
       "7               1.0         1.0       ...                       0   \n",
       "\n",
       "   GEBAEUDETYP_3.0  GEBAEUDETYP_4.0  GEBAEUDETYP_6.0  GEBAEUDETYP_8.0  \\\n",
       "0                0                0                0                0   \n",
       "2                0                0                0                1   \n",
       "5                0                0                0                0   \n",
       "6                0                0                0                0   \n",
       "7                0                0                0                0   \n",
       "\n",
       "   PRAEGENDE_JUGENDJAHRE_DECADES  PRAEGENDE_JUGENDJAHRE_MOVEMENTS  \\\n",
       "0                           50.0                              0.0   \n",
       "2                           50.0                              0.0   \n",
       "5                           50.0                              0.0   \n",
       "6                           50.0                              0.0   \n",
       "7                           50.0                              0.0   \n",
       "\n",
       "   CAMEO_INTL_2015_WEALTH  CAMEO_INTL_2015_LIFE  GEBAEUDETYP_5.0  \n",
       "0                     1.0                   3.0                0  \n",
       "2                     3.0                   4.0                0  \n",
       "5                     3.0                   4.0                0  \n",
       "6                     2.0                   3.0                0  \n",
       "7                     1.0                   5.0                0  \n",
       "\n",
       "[5 rows x 123 columns]"
      ]
     },
     "execution_count": 137,
     "metadata": {},
     "output_type": "execute_result"
    }
   ],
   "source": [
    "# What kinds of people are part of a cluster that is overrepresented in the\n",
    "# customer data compared to the general population?\n",
    "\n",
    "customer_cluster_7 = \\\n",
    "pd.DataFrame(data = model_kmeans_fin_pred_customers, index = customers.index, columns = [\"cluster_pred\"])\\\n",
    ".merge(customers, how = \"outer\", left_index = True, right_index = True)\\\n",
    ".query('cluster_pred == 7').drop(\"cluster_pred\", axis = 1)\n",
    "\n",
    "customer_cluster_7.head()"
   ]
  },
  {
   "cell_type": "code",
   "execution_count": 145,
   "metadata": {},
   "outputs": [],
   "source": [
    "dimension_1_top_bottom_5_features = pca_1.head(3).append(pca_1.tail(3)).index\n",
    "dimension_2_top_bottom_5_features = pca_2.head(3).append(pca_2.tail(3)).index\n",
    "dimension_3_top_bottom_5_features = pca_3.head(3).append(pca_3.tail(3)).index"
   ]
  },
  {
   "cell_type": "code",
   "execution_count": 148,
   "metadata": {
    "scrolled": false
   },
   "outputs": [
    {
     "data": {
      "image/png": "[encoded data removed]",
      "text/plain": [
       "<matplotlib.figure.Figure at 0x7fc8185b5f98>"
      ]
     },
     "metadata": {
      "needs_background": "light"
     },
     "output_type": "display_data"
    }
   ],
   "source": [
    "fig, ax = plt.subplots(6,3,figsize = (25,30))\n",
    "\n",
    "for k in range(len(dimension_1_top_bottom_5_features)):\n",
    "    ax_row = k // 3\n",
    "    ax_col = k % 3\n",
    "    \n",
    "    sns.countplot(customer_cluster_7[dimension_1_top_bottom_5_features[k]], ax = ax[k, 0]) \n",
    "    sns.countplot(customer_cluster_7[dimension_2_top_bottom_5_features[k]], ax = ax[k, 1]) \n",
    "    sns.countplot(customer_cluster_7[dimension_3_top_bottom_5_features[k]], ax = ax[k, 2]) "
   ]
  },
  {
   "cell_type": "markdown",
   "metadata": {},
   "source": [
    "In Cluster 7 First 3 PCs:\n",
    "1. Dimension 1 (Top 3 Positive & Top 3 Negative):\n",
    "    - Positive (Value with Sign from High to Low):\n",
    "        - PLZ8_ANTG3: mode 1 (lower share of 6-10 family homes)\n",
    "        - HH_EINKOMMEN_SCORE: mode 1 (highest income)\n",
    "        - PLZ8_ANTG4: mode 0 (no 10+ family homes)\n",
    "    - Negative (Value with Sign from High to Low)\n",
    "        - KBA05_ANTG1: mode 3 (high share of 1-2 family homes)\n",
    "        - MOBI_REGIO: mode 5 (very low movement)\n",
    "        - FINANZ_MINIMALIST: MINIMALIST: low financial interest, mode 5 (very low)\n",
    "\n",
    "\n",
    "2. Dimension 2 (Top 3 Positive & Top 3 Negative)\n",
    "    - Positive (Value with Sign from High to Low):\n",
    "        - ALTERSKATEGORIE_GROB: mode 4 (> 60 years old)\n",
    "        - ZABEOTYP_3: 3: fair supplied, mode 0\n",
    "        - FINANZ_VORSORGER: VORSORGER: be prepared, mode 5 (very low)\n",
    "    - Negative (Value with Sign from High to Low):\n",
    "        - FINANZ_SPARER: SPARER: money-saver, mode 1 (very high)\n",
    "        - SEMIO_REL: REL: religious, mode 4.0\n",
    "        - PRAEGENDE_JUGENDJAHRE_DECADES: Dominating movement of person's youth, mode 50, 60\n",
    "\n",
    "\n",
    "3. Dimension 3 (Top 3 Positive & Top 3 Negative):\n",
    "    - Positive (Value with Sign from High to Low):\n",
    "        - SEMIO_VERT: VERT: dreamful, mode 7 (lowest affinity)\n",
    "        - SEMIO_SOZ: socially-minded, mode 6 (very low affinity)\n",
    "        - SEMIO_FAM: family-minded, mode 4 (average affinity)\n",
    "    - Negative (Value with Sign from High to Low):\n",
    "        - SEMIO_DOM: dominant-minded, mode 5 (low affinity), 3 (high affinity)\n",
    "        - SEMIO_KAEM: combative attitude, mode 3 (high affinity)\n",
    "        - ANREDE_KZ: Gender, mode 1 (male)"
   ]
  },
  {
   "cell_type": "code",
   "execution_count": 149,
   "metadata": {},
   "outputs": [
    {
     "data": {
      "text/html": [
       "<div>\n",
       "<style>\n",
       "    .dataframe thead tr:only-child th {\n",
       "        text-align: right;\n",
       "    }\n",
       "\n",
       "    .dataframe thead th {\n",
       "        text-align: left;\n",
       "    }\n",
       "\n",
       "    .dataframe tbody tr th {\n",
       "        vertical-align: top;\n",
       "    }\n",
       "</style>\n",
       "<table border=\"1\" class=\"dataframe\">\n",
       "  <thead>\n",
       "    <tr style=\"text-align: right;\">\n",
       "      <th></th>\n",
       "      <th>ALTERSKATEGORIE_GROB</th>\n",
       "      <th>ANREDE_KZ</th>\n",
       "      <th>FINANZ_MINIMALIST</th>\n",
       "      <th>FINANZ_SPARER</th>\n",
       "      <th>FINANZ_VORSORGER</th>\n",
       "      <th>FINANZ_ANLEGER</th>\n",
       "      <th>FINANZ_UNAUFFAELLIGER</th>\n",
       "      <th>FINANZ_HAUSBAUER</th>\n",
       "      <th>GREEN_AVANTGARDE</th>\n",
       "      <th>HEALTH_TYP</th>\n",
       "      <th>...</th>\n",
       "      <th>GEBAEUDETYP_2.0</th>\n",
       "      <th>GEBAEUDETYP_3.0</th>\n",
       "      <th>GEBAEUDETYP_4.0</th>\n",
       "      <th>GEBAEUDETYP_6.0</th>\n",
       "      <th>GEBAEUDETYP_8.0</th>\n",
       "      <th>PRAEGENDE_JUGENDJAHRE_DECADES</th>\n",
       "      <th>PRAEGENDE_JUGENDJAHRE_MOVEMENTS</th>\n",
       "      <th>CAMEO_INTL_2015_WEALTH</th>\n",
       "      <th>CAMEO_INTL_2015_LIFE</th>\n",
       "      <th>GEBAEUDETYP_5.0</th>\n",
       "    </tr>\n",
       "  </thead>\n",
       "  <tbody>\n",
       "    <tr>\n",
       "      <th>615</th>\n",
       "      <td>3.0</td>\n",
       "      <td>2.0</td>\n",
       "      <td>1.0</td>\n",
       "      <td>4.0</td>\n",
       "      <td>1.0</td>\n",
       "      <td>4.0</td>\n",
       "      <td>4.0</td>\n",
       "      <td>4.0</td>\n",
       "      <td>0.0</td>\n",
       "      <td>2.0</td>\n",
       "      <td>...</td>\n",
       "      <td>0</td>\n",
       "      <td>0</td>\n",
       "      <td>0</td>\n",
       "      <td>0</td>\n",
       "      <td>1</td>\n",
       "      <td>90.0</td>\n",
       "      <td>1.0</td>\n",
       "      <td>4.0</td>\n",
       "      <td>3.0</td>\n",
       "      <td>0</td>\n",
       "    </tr>\n",
       "    <tr>\n",
       "      <th>946</th>\n",
       "      <td>1.0</td>\n",
       "      <td>2.0</td>\n",
       "      <td>1.0</td>\n",
       "      <td>5.0</td>\n",
       "      <td>2.0</td>\n",
       "      <td>5.0</td>\n",
       "      <td>3.0</td>\n",
       "      <td>5.0</td>\n",
       "      <td>0.0</td>\n",
       "      <td>3.0</td>\n",
       "      <td>...</td>\n",
       "      <td>0</td>\n",
       "      <td>0</td>\n",
       "      <td>0</td>\n",
       "      <td>0</td>\n",
       "      <td>0</td>\n",
       "      <td>90.0</td>\n",
       "      <td>1.0</td>\n",
       "      <td>1.0</td>\n",
       "      <td>4.0</td>\n",
       "      <td>0</td>\n",
       "    </tr>\n",
       "    <tr>\n",
       "      <th>1466</th>\n",
       "      <td>1.0</td>\n",
       "      <td>2.0</td>\n",
       "      <td>1.0</td>\n",
       "      <td>4.0</td>\n",
       "      <td>1.0</td>\n",
       "      <td>4.0</td>\n",
       "      <td>3.0</td>\n",
       "      <td>4.0</td>\n",
       "      <td>0.0</td>\n",
       "      <td>3.0</td>\n",
       "      <td>...</td>\n",
       "      <td>0</td>\n",
       "      <td>0</td>\n",
       "      <td>0</td>\n",
       "      <td>0</td>\n",
       "      <td>1</td>\n",
       "      <td>90.0</td>\n",
       "      <td>1.0</td>\n",
       "      <td>2.0</td>\n",
       "      <td>4.0</td>\n",
       "      <td>0</td>\n",
       "    </tr>\n",
       "    <tr>\n",
       "      <th>1501</th>\n",
       "      <td>1.0</td>\n",
       "      <td>2.0</td>\n",
       "      <td>1.0</td>\n",
       "      <td>4.0</td>\n",
       "      <td>2.0</td>\n",
       "      <td>3.0</td>\n",
       "      <td>3.0</td>\n",
       "      <td>4.0</td>\n",
       "      <td>0.0</td>\n",
       "      <td>3.0</td>\n",
       "      <td>...</td>\n",
       "      <td>0</td>\n",
       "      <td>0</td>\n",
       "      <td>0</td>\n",
       "      <td>0</td>\n",
       "      <td>0</td>\n",
       "      <td>90.0</td>\n",
       "      <td>1.0</td>\n",
       "      <td>5.0</td>\n",
       "      <td>4.0</td>\n",
       "      <td>0</td>\n",
       "    </tr>\n",
       "    <tr>\n",
       "      <th>1689</th>\n",
       "      <td>2.0</td>\n",
       "      <td>2.0</td>\n",
       "      <td>1.0</td>\n",
       "      <td>5.0</td>\n",
       "      <td>3.0</td>\n",
       "      <td>5.0</td>\n",
       "      <td>4.0</td>\n",
       "      <td>5.0</td>\n",
       "      <td>0.0</td>\n",
       "      <td>2.0</td>\n",
       "      <td>...</td>\n",
       "      <td>0</td>\n",
       "      <td>0</td>\n",
       "      <td>0</td>\n",
       "      <td>0</td>\n",
       "      <td>1</td>\n",
       "      <td>90.0</td>\n",
       "      <td>1.0</td>\n",
       "      <td>4.0</td>\n",
       "      <td>1.0</td>\n",
       "      <td>0</td>\n",
       "    </tr>\n",
       "  </tbody>\n",
       "</table>\n",
       "<p>5 rows × 123 columns</p>\n",
       "</div>"
      ],
      "text/plain": [
       "      ALTERSKATEGORIE_GROB  ANREDE_KZ  FINANZ_MINIMALIST  FINANZ_SPARER  \\\n",
       "615                    3.0        2.0                1.0            4.0   \n",
       "946                    1.0        2.0                1.0            5.0   \n",
       "1466                   1.0        2.0                1.0            4.0   \n",
       "1501                   1.0        2.0                1.0            4.0   \n",
       "1689                   2.0        2.0                1.0            5.0   \n",
       "\n",
       "      FINANZ_VORSORGER  FINANZ_ANLEGER  FINANZ_UNAUFFAELLIGER  \\\n",
       "615                1.0             4.0                    4.0   \n",
       "946                2.0             5.0                    3.0   \n",
       "1466               1.0             4.0                    3.0   \n",
       "1501               2.0             3.0                    3.0   \n",
       "1689               3.0             5.0                    4.0   \n",
       "\n",
       "      FINANZ_HAUSBAUER  GREEN_AVANTGARDE  HEALTH_TYP       ...         \\\n",
       "615                4.0               0.0         2.0       ...          \n",
       "946                5.0               0.0         3.0       ...          \n",
       "1466               4.0               0.0         3.0       ...          \n",
       "1501               4.0               0.0         3.0       ...          \n",
       "1689               5.0               0.0         2.0       ...          \n",
       "\n",
       "      GEBAEUDETYP_2.0  GEBAEUDETYP_3.0  GEBAEUDETYP_4.0  GEBAEUDETYP_6.0  \\\n",
       "615                 0                0                0                0   \n",
       "946                 0                0                0                0   \n",
       "1466                0                0                0                0   \n",
       "1501                0                0                0                0   \n",
       "1689                0                0                0                0   \n",
       "\n",
       "      GEBAEUDETYP_8.0  PRAEGENDE_JUGENDJAHRE_DECADES  \\\n",
       "615                 1                           90.0   \n",
       "946                 0                           90.0   \n",
       "1466                1                           90.0   \n",
       "1501                0                           90.0   \n",
       "1689                1                           90.0   \n",
       "\n",
       "      PRAEGENDE_JUGENDJAHRE_MOVEMENTS  CAMEO_INTL_2015_WEALTH  \\\n",
       "615                               1.0                     4.0   \n",
       "946                               1.0                     1.0   \n",
       "1466                              1.0                     2.0   \n",
       "1501                              1.0                     5.0   \n",
       "1689                              1.0                     4.0   \n",
       "\n",
       "      CAMEO_INTL_2015_LIFE  GEBAEUDETYP_5.0  \n",
       "615                    3.0                0  \n",
       "946                    4.0                0  \n",
       "1466                   4.0                0  \n",
       "1501                   4.0                0  \n",
       "1689                   1.0                0  \n",
       "\n",
       "[5 rows x 123 columns]"
      ]
     },
     "execution_count": 149,
     "metadata": {},
     "output_type": "execute_result"
    }
   ],
   "source": [
    "# What kinds of people are part of a cluster that is underrepresented in the\n",
    "# customer data compared to the general population?\n",
    "\n",
    "customer_cluster_15 = \\\n",
    "pd.DataFrame(data = model_kmeans_fin_pred_customers, index = customers.index, columns = [\"cluster_pred\"])\\\n",
    ".merge(customers, how = \"outer\", left_index = True, right_index = True)\\\n",
    ".query('cluster_pred == 15').drop(\"cluster_pred\", axis = 1)\n",
    "\n",
    "customer_cluster_15.head()"
   ]
  },
  {
   "cell_type": "code",
   "execution_count": 150,
   "metadata": {
    "scrolled": false
   },
   "outputs": [
    {
     "data": {
      "image/png": "[encoded data removed]",
      "text/plain": [
       "<matplotlib.figure.Figure at 0x7fc818821588>"
      ]
     },
     "metadata": {
      "needs_background": "light"
     },
     "output_type": "display_data"
    }
   ],
   "source": [
    "fig, ax = plt.subplots(6,3,figsize = (25,30))\n",
    "\n",
    "for k in range(len(dimension_1_top_bottom_5_features)):\n",
    "    ax_row = k // 3\n",
    "    ax_col = k % 3\n",
    "    \n",
    "    sns.countplot(customer_cluster_15[dimension_1_top_bottom_5_features[k]], ax = ax[k, 0]) \n",
    "    sns.countplot(customer_cluster_15[dimension_2_top_bottom_5_features[k]], ax = ax[k, 1]) \n",
    "    sns.countplot(customer_cluster_15[dimension_3_top_bottom_5_features[k]], ax = ax[k, 2]) "
   ]
  },
  {
   "cell_type": "markdown",
   "metadata": {},
   "source": [
    "In Cluster 15 First 3 PCs:\n",
    "1. Dimension 1 (Top 3 Positive & Top 3 Negative):\n",
    "    - Positive (Value with Sign from High to Low):\n",
    "        - PLZ8_ANTG3: mode in 2, 3 (average and high share of 6-10 family homes)\n",
    "        - HH_EINKOMMEN_SCORE: mode 6 (very low income)\n",
    "        - PLZ8_ANTG4: mode 1 (lower share of 10+ family homes)\n",
    "    - Negative (Value with Sign from High to Low):\n",
    "        - KBA05_ANTG1: mode 0 (no 1-2 family homes)\n",
    "        - MOBI_REGIO: mode 1 (very high movement)\n",
    "        - FINANZ_MINIMALIST: MINIMALIST: low financial interest, mode 1 (very high)\n",
    "\n",
    "\n",
    "2. Dimension 2 (Top 3 Positive & Top 3 Negative)\n",
    "    - Positive (Value with Sign from High to Low):\n",
    "        - ALTERSKATEGORIE_GROB: model 1(< 30 years old), 2 (30 - 45 years old)\n",
    "        - ZABEOTYP_3: 3: fair supplied, mode 0\n",
    "        - FINANZ_VORSORGER: VORSORGER: be prepared, mode 2 (high)\n",
    "    - Negative (Value with Sign from High to Low):\n",
    "        - FINANZ_SPARER: SPARER: money-saver, model 5 (very low)\n",
    "        - SEMIO_REL: REL: religious, mode 7 (lowest affinity)\n",
    "        - PRAEGENDE_JUGENDJAHRE_DECADES: Dominating movement of person's youth, mode 90\n",
    "\n",
    "\n",
    "3. Dimension 3 (Top 3 Positive & Top 3 Negative):\n",
    "     - Positive (Value with Sign from High to Low):\n",
    "        - SEMIO_VERT: VERT: dreamful, mode 2 (very high affinity)\n",
    "        - SEMIO_SOZ: socially-minded, mode 2 (very high affinity), 5 (low affinity)\n",
    "        - SEMIO_FAM: family-minded, mode 4 (average affinity)\n",
    "     - Negative (Value with Sign from High to Low):\n",
    "        - SEMIO_DOM: dominant-minded, mode 7 (lowest affinity)\n",
    "        - SEMIO_KAEM: combative attitude, mode 6 (very low aaffinity), 7 (lowest affinity)\n",
    "        - ANREDE_KZ: Gender, mode 2 (female)"
   ]
  },
  {
   "cell_type": "code",
   "execution_count": null,
   "metadata": {},
   "outputs": [],
   "source": []
  },
  {
   "cell_type": "markdown",
   "metadata": {},
   "source": [
    "### Discussion 3.3: Compare Customer Data to Demographics Data\n",
    "\n",
    "(Double-click this cell and replace this text with your own text, reporting findings and conclusions from the clustering analysis. Can we describe segments of the population that are relatively popular with the mail-order company, or relatively unpopular with the company?)\n",
    "\n",
    "\n",
    "Cluster 0,1,6,7 are overrepresented in the customer date compared to the general population. And all other clusters are underrepresented.\n",
    "\n",
    "Based on Cluster 7, we infer the ones popular with male-order company are those who have over average income, live in communities mainly consist of 1-2 family homes, are money-savers and have financial interests but not use to get prepard for financials, moved in 1950s and 1960s and now have very low movements, are over 60 yeard old, and are males.\n",
    "\n",
    "Based on Cluster 15, we infer the ones unpopular with male-order company are those who have low incomes, live in communities mainly consist of 6-10 family homes, are young (yonger than 45 years old) and still moving, not money savers and have low financial interest, and are females."
   ]
  },
  {
   "cell_type": "markdown",
   "metadata": {},
   "source": [
    "> Congratulations on making it this far in the project! Before you finish, make sure to check through the entire notebook from top to bottom to make sure that your analysis follows a logical flow and all of your findings are documented in **Discussion** cells. Once you've checked over all of your work, you should export the notebook as an HTML document to submit for evaluation. You can do this from the menu, navigating to **File -> Download as -> HTML (.html)**. You will submit both that document and this notebook for your project submission."
   ]
  },
  {
   "cell_type": "code",
   "execution_count": null,
   "metadata": {},
   "outputs": [],
   "source": []
  }
 ],
 "metadata": {
  "kernelspec": {
   "display_name": "Python 3",
   "language": "python",
   "name": "python3"
  },
  "language_info": {
   "codemirror_mode": {
    "name": "ipython",
    "version": 3
   },
   "file_extension": ".py",
   "mimetype": "text/x-python",
   "name": "python",
   "nbconvert_exporter": "python",
   "pygments_lexer": "ipython3",
   "version": "3.6.3"
  }
 },
 "nbformat": 4,
 "nbformat_minor": 2
}
